{
 "cells": [
  {
   "cell_type": "code",
   "execution_count": 1,
   "id": "e284144f",
   "metadata": {},
   "outputs": [],
   "source": [
    "import pandas as pd\n",
    "import numpy as np\n",
    "import matplotlib.pyplot as plt"
   ]
  },
  {
   "cell_type": "markdown",
   "id": "0748f332",
   "metadata": {},
   "source": [
    "# Import Data"
   ]
  },
  {
   "cell_type": "code",
   "execution_count": 2,
   "id": "d2e0b247",
   "metadata": {},
   "outputs": [],
   "source": [
    "df=pd.read_excel(\"weight-height.xlsx\")"
   ]
  },
  {
   "cell_type": "code",
   "execution_count": 3,
   "id": "26535b2f",
   "metadata": {},
   "outputs": [
    {
     "data": {
      "text/html": [
       "<div>\n",
       "<style scoped>\n",
       "    .dataframe tbody tr th:only-of-type {\n",
       "        vertical-align: middle;\n",
       "    }\n",
       "\n",
       "    .dataframe tbody tr th {\n",
       "        vertical-align: top;\n",
       "    }\n",
       "\n",
       "    .dataframe thead th {\n",
       "        text-align: right;\n",
       "    }\n",
       "</style>\n",
       "<table border=\"1\" class=\"dataframe\">\n",
       "  <thead>\n",
       "    <tr style=\"text-align: right;\">\n",
       "      <th></th>\n",
       "      <th>Gender</th>\n",
       "      <th>Height</th>\n",
       "      <th>Weight</th>\n",
       "    </tr>\n",
       "  </thead>\n",
       "  <tbody>\n",
       "    <tr>\n",
       "      <th>0</th>\n",
       "      <td>Male</td>\n",
       "      <td>73.847017</td>\n",
       "      <td>241.893563</td>\n",
       "    </tr>\n",
       "    <tr>\n",
       "      <th>1</th>\n",
       "      <td>Male</td>\n",
       "      <td>68.781904</td>\n",
       "      <td>162.310473</td>\n",
       "    </tr>\n",
       "    <tr>\n",
       "      <th>2</th>\n",
       "      <td>Male</td>\n",
       "      <td>74.110105</td>\n",
       "      <td>212.740856</td>\n",
       "    </tr>\n",
       "    <tr>\n",
       "      <th>3</th>\n",
       "      <td>Male</td>\n",
       "      <td>71.730978</td>\n",
       "      <td>220.042470</td>\n",
       "    </tr>\n",
       "    <tr>\n",
       "      <th>4</th>\n",
       "      <td>Male</td>\n",
       "      <td>69.881796</td>\n",
       "      <td>206.349801</td>\n",
       "    </tr>\n",
       "  </tbody>\n",
       "</table>\n",
       "</div>"
      ],
      "text/plain": [
       "  Gender     Height      Weight\n",
       "0   Male  73.847017  241.893563\n",
       "1   Male  68.781904  162.310473\n",
       "2   Male  74.110105  212.740856\n",
       "3   Male  71.730978  220.042470\n",
       "4   Male  69.881796  206.349801"
      ]
     },
     "execution_count": 3,
     "metadata": {},
     "output_type": "execute_result"
    }
   ],
   "source": [
    "df.head()"
   ]
  },
  {
   "cell_type": "code",
   "execution_count": 4,
   "id": "18731f71",
   "metadata": {},
   "outputs": [],
   "source": [
    "df1=df.copy()\n",
    "df2=df.copy()"
   ]
  },
  {
   "cell_type": "markdown",
   "id": "ce6dac95",
   "metadata": {},
   "source": [
    "# Encode Dataset"
   ]
  },
  {
   "cell_type": "code",
   "execution_count": 5,
   "id": "d1465067",
   "metadata": {},
   "outputs": [],
   "source": [
    "from sklearn.preprocessing import LabelEncoder\n",
    "lebel = LabelEncoder()"
   ]
  },
  {
   "cell_type": "code",
   "execution_count": 6,
   "id": "613032c6",
   "metadata": {},
   "outputs": [],
   "source": [
    "from pandas.core.dtypes.common import is_numeric_dtype"
   ]
  },
  {
   "cell_type": "code",
   "execution_count": 7,
   "id": "5d1c28e8",
   "metadata": {},
   "outputs": [],
   "source": [
    "for col in df1.columns:\n",
    "    if is_numeric_dtype(df1[col]):\n",
    "        continue\n",
    "    \n",
    "    df1[col] = lebel.fit_transform(df1[col])"
   ]
  },
  {
   "cell_type": "code",
   "execution_count": 8,
   "id": "f4f98f46",
   "metadata": {},
   "outputs": [
    {
     "data": {
      "text/html": [
       "<div>\n",
       "<style scoped>\n",
       "    .dataframe tbody tr th:only-of-type {\n",
       "        vertical-align: middle;\n",
       "    }\n",
       "\n",
       "    .dataframe tbody tr th {\n",
       "        vertical-align: top;\n",
       "    }\n",
       "\n",
       "    .dataframe thead th {\n",
       "        text-align: right;\n",
       "    }\n",
       "</style>\n",
       "<table border=\"1\" class=\"dataframe\">\n",
       "  <thead>\n",
       "    <tr style=\"text-align: right;\">\n",
       "      <th></th>\n",
       "      <th>Gender</th>\n",
       "      <th>Height</th>\n",
       "      <th>Weight</th>\n",
       "    </tr>\n",
       "  </thead>\n",
       "  <tbody>\n",
       "    <tr>\n",
       "      <th>0</th>\n",
       "      <td>1</td>\n",
       "      <td>73.847017</td>\n",
       "      <td>241.893563</td>\n",
       "    </tr>\n",
       "    <tr>\n",
       "      <th>1</th>\n",
       "      <td>1</td>\n",
       "      <td>68.781904</td>\n",
       "      <td>162.310473</td>\n",
       "    </tr>\n",
       "    <tr>\n",
       "      <th>2</th>\n",
       "      <td>1</td>\n",
       "      <td>74.110105</td>\n",
       "      <td>212.740856</td>\n",
       "    </tr>\n",
       "    <tr>\n",
       "      <th>3</th>\n",
       "      <td>1</td>\n",
       "      <td>71.730978</td>\n",
       "      <td>220.042470</td>\n",
       "    </tr>\n",
       "    <tr>\n",
       "      <th>4</th>\n",
       "      <td>1</td>\n",
       "      <td>69.881796</td>\n",
       "      <td>206.349801</td>\n",
       "    </tr>\n",
       "  </tbody>\n",
       "</table>\n",
       "</div>"
      ],
      "text/plain": [
       "   Gender     Height      Weight\n",
       "0       1  73.847017  241.893563\n",
       "1       1  68.781904  162.310473\n",
       "2       1  74.110105  212.740856\n",
       "3       1  71.730978  220.042470\n",
       "4       1  69.881796  206.349801"
      ]
     },
     "execution_count": 8,
     "metadata": {},
     "output_type": "execute_result"
    }
   ],
   "source": [
    "df1.head()"
   ]
  },
  {
   "cell_type": "code",
   "execution_count": 9,
   "id": "873c5aa8",
   "metadata": {},
   "outputs": [],
   "source": [
    "dataset=df1"
   ]
  },
  {
   "cell_type": "code",
   "execution_count": 10,
   "id": "e4287138",
   "metadata": {},
   "outputs": [],
   "source": [
    "df1 = pd.DataFrame(dataset,columns=['Gender','Height','Weight'])"
   ]
  },
  {
   "cell_type": "markdown",
   "id": "b70e431a",
   "metadata": {},
   "source": [
    "# Separate dataset"
   ]
  },
  {
   "cell_type": "code",
   "execution_count": 11,
   "id": "25dd49cb",
   "metadata": {},
   "outputs": [],
   "source": [
    "x=df1[['Gender','Height']]\n",
    "y=df1['Weight']"
   ]
  },
  {
   "cell_type": "markdown",
   "id": "3df77f71",
   "metadata": {},
   "source": [
    "# Train dataset"
   ]
  },
  {
   "cell_type": "code",
   "execution_count": 12,
   "id": "eb3545ec",
   "metadata": {},
   "outputs": [],
   "source": [
    "from sklearn.model_selection import train_test_split"
   ]
  },
  {
   "cell_type": "code",
   "execution_count": 13,
   "id": "af9f284d",
   "metadata": {},
   "outputs": [],
   "source": [
    "xtrain,xtest, ytrain,ytest=train_test_split(x,y,test_size=.30)"
   ]
  },
  {
   "cell_type": "code",
   "execution_count": 14,
   "id": "8ce804a0",
   "metadata": {},
   "outputs": [
    {
     "data": {
      "text/html": [
       "<div>\n",
       "<style scoped>\n",
       "    .dataframe tbody tr th:only-of-type {\n",
       "        vertical-align: middle;\n",
       "    }\n",
       "\n",
       "    .dataframe tbody tr th {\n",
       "        vertical-align: top;\n",
       "    }\n",
       "\n",
       "    .dataframe thead th {\n",
       "        text-align: right;\n",
       "    }\n",
       "</style>\n",
       "<table border=\"1\" class=\"dataframe\">\n",
       "  <thead>\n",
       "    <tr style=\"text-align: right;\">\n",
       "      <th></th>\n",
       "      <th>Gender</th>\n",
       "      <th>Height</th>\n",
       "    </tr>\n",
       "  </thead>\n",
       "  <tbody>\n",
       "    <tr>\n",
       "      <th>0</th>\n",
       "      <td>1</td>\n",
       "      <td>73.847017</td>\n",
       "    </tr>\n",
       "    <tr>\n",
       "      <th>1</th>\n",
       "      <td>1</td>\n",
       "      <td>68.781904</td>\n",
       "    </tr>\n",
       "    <tr>\n",
       "      <th>2</th>\n",
       "      <td>1</td>\n",
       "      <td>74.110105</td>\n",
       "    </tr>\n",
       "    <tr>\n",
       "      <th>3</th>\n",
       "      <td>1</td>\n",
       "      <td>71.730978</td>\n",
       "    </tr>\n",
       "    <tr>\n",
       "      <th>4</th>\n",
       "      <td>1</td>\n",
       "      <td>69.881796</td>\n",
       "    </tr>\n",
       "  </tbody>\n",
       "</table>\n",
       "</div>"
      ],
      "text/plain": [
       "   Gender     Height\n",
       "0       1  73.847017\n",
       "1       1  68.781904\n",
       "2       1  74.110105\n",
       "3       1  71.730978\n",
       "4       1  69.881796"
      ]
     },
     "execution_count": 14,
     "metadata": {},
     "output_type": "execute_result"
    }
   ],
   "source": [
    "x.head()"
   ]
  },
  {
   "cell_type": "code",
   "execution_count": 15,
   "id": "dd3e80ac",
   "metadata": {},
   "outputs": [
    {
     "data": {
      "text/plain": [
       "0    241.893563\n",
       "1    162.310473\n",
       "2    212.740856\n",
       "3    220.042470\n",
       "4    206.349801\n",
       "Name: Weight, dtype: float64"
      ]
     },
     "execution_count": 15,
     "metadata": {},
     "output_type": "execute_result"
    }
   ],
   "source": [
    "y.head()"
   ]
  },
  {
   "cell_type": "code",
   "execution_count": 16,
   "id": "29e895ec",
   "metadata": {},
   "outputs": [
    {
     "data": {
      "text/html": [
       "<div>\n",
       "<style scoped>\n",
       "    .dataframe tbody tr th:only-of-type {\n",
       "        vertical-align: middle;\n",
       "    }\n",
       "\n",
       "    .dataframe tbody tr th {\n",
       "        vertical-align: top;\n",
       "    }\n",
       "\n",
       "    .dataframe thead th {\n",
       "        text-align: right;\n",
       "    }\n",
       "</style>\n",
       "<table border=\"1\" class=\"dataframe\">\n",
       "  <thead>\n",
       "    <tr style=\"text-align: right;\">\n",
       "      <th></th>\n",
       "      <th>Gender</th>\n",
       "      <th>Height</th>\n",
       "    </tr>\n",
       "  </thead>\n",
       "  <tbody>\n",
       "    <tr>\n",
       "      <th>374</th>\n",
       "      <td>1</td>\n",
       "      <td>68.915772</td>\n",
       "    </tr>\n",
       "    <tr>\n",
       "      <th>610</th>\n",
       "      <td>1</td>\n",
       "      <td>73.301866</td>\n",
       "    </tr>\n",
       "    <tr>\n",
       "      <th>8354</th>\n",
       "      <td>0</td>\n",
       "      <td>64.644288</td>\n",
       "    </tr>\n",
       "    <tr>\n",
       "      <th>7082</th>\n",
       "      <td>0</td>\n",
       "      <td>69.534301</td>\n",
       "    </tr>\n",
       "    <tr>\n",
       "      <th>3388</th>\n",
       "      <td>1</td>\n",
       "      <td>66.717274</td>\n",
       "    </tr>\n",
       "  </tbody>\n",
       "</table>\n",
       "</div>"
      ],
      "text/plain": [
       "      Gender     Height\n",
       "374        1  68.915772\n",
       "610        1  73.301866\n",
       "8354       0  64.644288\n",
       "7082       0  69.534301\n",
       "3388       1  66.717274"
      ]
     },
     "execution_count": 16,
     "metadata": {},
     "output_type": "execute_result"
    }
   ],
   "source": [
    "xtrain.head()"
   ]
  },
  {
   "cell_type": "code",
   "execution_count": 17,
   "id": "2d5742d3",
   "metadata": {},
   "outputs": [
    {
     "data": {
      "text/plain": [
       "374     165.155899\n",
       "610     199.166929\n",
       "8354    143.015419\n",
       "7082    163.796139\n",
       "3388    183.715815\n",
       "Name: Weight, dtype: float64"
      ]
     },
     "execution_count": 17,
     "metadata": {},
     "output_type": "execute_result"
    }
   ],
   "source": [
    "ytrain.head()"
   ]
  },
  {
   "cell_type": "code",
   "execution_count": 18,
   "id": "3a834a8d",
   "metadata": {},
   "outputs": [],
   "source": [
    "from sklearn.model_selection import train_test_split"
   ]
  },
  {
   "cell_type": "code",
   "execution_count": 19,
   "id": "ca7ed735",
   "metadata": {},
   "outputs": [
    {
     "data": {
      "text/html": [
       "<div>\n",
       "<style scoped>\n",
       "    .dataframe tbody tr th:only-of-type {\n",
       "        vertical-align: middle;\n",
       "    }\n",
       "\n",
       "    .dataframe tbody tr th {\n",
       "        vertical-align: top;\n",
       "    }\n",
       "\n",
       "    .dataframe thead th {\n",
       "        text-align: right;\n",
       "    }\n",
       "</style>\n",
       "<table border=\"1\" class=\"dataframe\">\n",
       "  <thead>\n",
       "    <tr style=\"text-align: right;\">\n",
       "      <th></th>\n",
       "      <th>Gender</th>\n",
       "      <th>Height</th>\n",
       "    </tr>\n",
       "  </thead>\n",
       "  <tbody>\n",
       "    <tr>\n",
       "      <th>1361</th>\n",
       "      <td>1</td>\n",
       "      <td>70.878633</td>\n",
       "    </tr>\n",
       "    <tr>\n",
       "      <th>134</th>\n",
       "      <td>1</td>\n",
       "      <td>63.987925</td>\n",
       "    </tr>\n",
       "    <tr>\n",
       "      <th>1532</th>\n",
       "      <td>1</td>\n",
       "      <td>66.540789</td>\n",
       "    </tr>\n",
       "    <tr>\n",
       "      <th>1079</th>\n",
       "      <td>1</td>\n",
       "      <td>70.973788</td>\n",
       "    </tr>\n",
       "    <tr>\n",
       "      <th>680</th>\n",
       "      <td>1</td>\n",
       "      <td>68.608208</td>\n",
       "    </tr>\n",
       "  </tbody>\n",
       "</table>\n",
       "</div>"
      ],
      "text/plain": [
       "      Gender     Height\n",
       "1361       1  70.878633\n",
       "134        1  63.987925\n",
       "1532       1  66.540789\n",
       "1079       1  70.973788\n",
       "680        1  68.608208"
      ]
     },
     "execution_count": 19,
     "metadata": {},
     "output_type": "execute_result"
    }
   ],
   "source": [
    "xtest.head()"
   ]
  },
  {
   "cell_type": "markdown",
   "id": "0c658e33",
   "metadata": {},
   "source": [
    "# Applying Linear Regression"
   ]
  },
  {
   "cell_type": "code",
   "execution_count": 20,
   "id": "400c3b41",
   "metadata": {},
   "outputs": [],
   "source": [
    "from sklearn.linear_model import LinearRegression"
   ]
  },
  {
   "cell_type": "code",
   "execution_count": 21,
   "id": "10e6c609",
   "metadata": {},
   "outputs": [],
   "source": [
    "reg = LinearRegression()"
   ]
  },
  {
   "cell_type": "code",
   "execution_count": 22,
   "id": "43762123",
   "metadata": {},
   "outputs": [
    {
     "data": {
      "text/plain": [
       "LinearRegression()"
      ]
     },
     "execution_count": 22,
     "metadata": {},
     "output_type": "execute_result"
    }
   ],
   "source": [
    "reg.fit(xtrain, ytrain)"
   ]
  },
  {
   "cell_type": "code",
   "execution_count": 23,
   "id": "21d1cf8d",
   "metadata": {},
   "outputs": [],
   "source": [
    "m = reg.coef_"
   ]
  },
  {
   "cell_type": "code",
   "execution_count": 24,
   "id": "288379b6",
   "metadata": {},
   "outputs": [],
   "source": [
    "c = reg.intercept_"
   ]
  },
  {
   "cell_type": "code",
   "execution_count": 25,
   "id": "903fb077",
   "metadata": {},
   "outputs": [
    {
     "data": {
      "text/plain": [
       "0       241.893563\n",
       "1       162.310473\n",
       "2       212.740856\n",
       "3       220.042470\n",
       "4       206.349801\n",
       "           ...    \n",
       "8550    110.565497\n",
       "8551    129.921671\n",
       "8552    155.942671\n",
       "8553    151.678405\n",
       "8554    131.253738\n",
       "Name: Weight, Length: 8555, dtype: float64"
      ]
     },
     "execution_count": 25,
     "metadata": {},
     "output_type": "execute_result"
    }
   ],
   "source": [
    "y"
   ]
  },
  {
   "cell_type": "code",
   "execution_count": 26,
   "id": "3a0e1f41",
   "metadata": {},
   "outputs": [
    {
     "data": {
      "text/plain": [
       "array([160.19655276])"
      ]
     },
     "execution_count": 26,
     "metadata": {},
     "output_type": "execute_result"
    }
   ],
   "source": [
    "reg.predict([[1,64.60]])"
   ]
  },
  {
   "cell_type": "code",
   "execution_count": 27,
   "id": "6e17de82",
   "metadata": {},
   "outputs": [],
   "source": [
    "df1['predicted results'] = reg.predict(x)"
   ]
  },
  {
   "cell_type": "code",
   "execution_count": 28,
   "id": "3ff5943c",
   "metadata": {},
   "outputs": [
    {
     "data": {
      "text/html": [
       "<div>\n",
       "<style scoped>\n",
       "    .dataframe tbody tr th:only-of-type {\n",
       "        vertical-align: middle;\n",
       "    }\n",
       "\n",
       "    .dataframe tbody tr th {\n",
       "        vertical-align: top;\n",
       "    }\n",
       "\n",
       "    .dataframe thead th {\n",
       "        text-align: right;\n",
       "    }\n",
       "</style>\n",
       "<table border=\"1\" class=\"dataframe\">\n",
       "  <thead>\n",
       "    <tr style=\"text-align: right;\">\n",
       "      <th></th>\n",
       "      <th>Gender</th>\n",
       "      <th>Height</th>\n",
       "      <th>Weight</th>\n",
       "      <th>predicted results</th>\n",
       "    </tr>\n",
       "  </thead>\n",
       "  <tbody>\n",
       "    <tr>\n",
       "      <th>0</th>\n",
       "      <td>1</td>\n",
       "      <td>73.847017</td>\n",
       "      <td>241.893563</td>\n",
       "      <td>215.902874</td>\n",
       "    </tr>\n",
       "    <tr>\n",
       "      <th>1</th>\n",
       "      <td>1</td>\n",
       "      <td>68.781904</td>\n",
       "      <td>162.310473</td>\n",
       "      <td>185.389379</td>\n",
       "    </tr>\n",
       "    <tr>\n",
       "      <th>2</th>\n",
       "      <td>1</td>\n",
       "      <td>74.110105</td>\n",
       "      <td>212.740856</td>\n",
       "      <td>217.487783</td>\n",
       "    </tr>\n",
       "    <tr>\n",
       "      <th>3</th>\n",
       "      <td>1</td>\n",
       "      <td>71.730978</td>\n",
       "      <td>220.042470</td>\n",
       "      <td>203.155333</td>\n",
       "    </tr>\n",
       "    <tr>\n",
       "      <th>4</th>\n",
       "      <td>1</td>\n",
       "      <td>69.881796</td>\n",
       "      <td>206.349801</td>\n",
       "      <td>192.015399</td>\n",
       "    </tr>\n",
       "  </tbody>\n",
       "</table>\n",
       "</div>"
      ],
      "text/plain": [
       "   Gender     Height      Weight  predicted results\n",
       "0       1  73.847017  241.893563         215.902874\n",
       "1       1  68.781904  162.310473         185.389379\n",
       "2       1  74.110105  212.740856         217.487783\n",
       "3       1  71.730978  220.042470         203.155333\n",
       "4       1  69.881796  206.349801         192.015399"
      ]
     },
     "execution_count": 28,
     "metadata": {},
     "output_type": "execute_result"
    }
   ],
   "source": [
    "df1.head()"
   ]
  },
  {
   "cell_type": "code",
   "execution_count": 29,
   "id": "bb1be4c5",
   "metadata": {},
   "outputs": [],
   "source": [
    "pred = reg.predict(xtest)"
   ]
  },
  {
   "cell_type": "code",
   "execution_count": 30,
   "id": "8be52828",
   "metadata": {},
   "outputs": [
    {
     "data": {
      "text/plain": [
       "array([198.02059372, 156.50925894, 171.88834852, ..., 145.31964561,\n",
       "       185.86022426, 214.91157857])"
      ]
     },
     "execution_count": 30,
     "metadata": {},
     "output_type": "execute_result"
    }
   ],
   "source": [
    "pred"
   ]
  },
  {
   "cell_type": "code",
   "execution_count": 31,
   "id": "5ca6fad4",
   "metadata": {},
   "outputs": [],
   "source": [
    "from sklearn.metrics import mean_squared_error"
   ]
  },
  {
   "cell_type": "code",
   "execution_count": 32,
   "id": "02c130f6",
   "metadata": {},
   "outputs": [],
   "source": [
    "mse = mean_squared_error(ytest, pred)"
   ]
  },
  {
   "cell_type": "code",
   "execution_count": 33,
   "id": "8d21c9e3",
   "metadata": {},
   "outputs": [
    {
     "data": {
      "text/plain": [
       "100.98607049196019"
      ]
     },
     "execution_count": 33,
     "metadata": {},
     "output_type": "execute_result"
    }
   ],
   "source": [
    "mse"
   ]
  },
  {
   "cell_type": "code",
   "execution_count": 34,
   "id": "4276c6ad",
   "metadata": {},
   "outputs": [],
   "source": [
    "from sklearn.metrics import mean_absolute_error"
   ]
  },
  {
   "cell_type": "code",
   "execution_count": 35,
   "id": "26d1a1bd",
   "metadata": {},
   "outputs": [],
   "source": [
    "mae = mean_absolute_error(ytest, pred)"
   ]
  },
  {
   "cell_type": "code",
   "execution_count": 36,
   "id": "90a8644c",
   "metadata": {},
   "outputs": [
    {
     "data": {
      "text/plain": [
       "7.977419984406879"
      ]
     },
     "execution_count": 36,
     "metadata": {},
     "output_type": "execute_result"
    }
   ],
   "source": [
    "mae"
   ]
  },
  {
   "cell_type": "code",
   "execution_count": 210,
   "id": "891ed897",
   "metadata": {},
   "outputs": [],
   "source": [
    "LR_Score=reg.score(xtest,ytest)"
   ]
  },
  {
   "cell_type": "code",
   "execution_count": 203,
   "id": "81d69db2",
   "metadata": {},
   "outputs": [
    {
     "data": {
      "text/plain": [
       "0.9039122750404753"
      ]
     },
     "execution_count": 203,
     "metadata": {},
     "output_type": "execute_result"
    }
   ],
   "source": [
    "LR_Score"
   ]
  },
  {
   "cell_type": "markdown",
   "id": "d0e0c80a",
   "metadata": {},
   "source": [
    "# KNN Regressor"
   ]
  },
  {
   "cell_type": "code",
   "execution_count": 37,
   "id": "e017cd30",
   "metadata": {},
   "outputs": [],
   "source": [
    "from sklearn.neighbors import KNeighborsRegressor\n",
    "# Weight function used in prediction = uniform\n",
    "kn_reg = KNeighborsRegressor(n_neighbors=5)\n",
    "kn_reg.fit(xtrain, ytrain)\n",
    "# kn_reg.predict([[1, 73.847017]])\n",
    "knreg_test_predictions = kn_reg.predict(xtest)\n",
    "\n",
    "# Weight function used in prediction = distance\n",
    "kn_distance_reg = KNeighborsRegressor(n_neighbors=5, weights='distance')\n",
    "kn_distance_reg.fit(xtrain, ytrain)\n",
    "# kn_reg.predict([[1, 73.847017]])\n",
    "knreg_distance_test_predictions = kn_distance_reg.predict(xtest)"
   ]
  },
  {
   "cell_type": "code",
   "execution_count": 38,
   "id": "93125857",
   "metadata": {},
   "outputs": [
    {
     "data": {
      "text/plain": [
       "123.60143591351554"
      ]
     },
     "execution_count": 38,
     "metadata": {},
     "output_type": "execute_result"
    }
   ],
   "source": [
    "from sklearn.metrics import mean_squared_error, mean_absolute_error\n",
    "kn_reg_mse = mean_squared_error(ytest, knreg_test_predictions)\n",
    "kn_reg_mse"
   ]
  },
  {
   "cell_type": "code",
   "execution_count": 39,
   "id": "7e7cc13a",
   "metadata": {},
   "outputs": [
    {
     "data": {
      "text/plain": [
       "8.820265110553954"
      ]
     },
     "execution_count": 39,
     "metadata": {},
     "output_type": "execute_result"
    }
   ],
   "source": [
    "kn_reg_mae = mean_absolute_error(ytest, knreg_test_predictions)\n",
    "kn_reg_mae"
   ]
  },
  {
   "cell_type": "code",
   "execution_count": 40,
   "id": "9031b1ff",
   "metadata": {},
   "outputs": [
    {
     "data": {
      "text/plain": [
       "142.0561604972687"
      ]
     },
     "execution_count": 40,
     "metadata": {},
     "output_type": "execute_result"
    }
   ],
   "source": [
    "kn_reg_distance_mse = mean_squared_error(ytest, knreg_distance_test_predictions)\n",
    "kn_reg_distance_mse"
   ]
  },
  {
   "cell_type": "code",
   "execution_count": 137,
   "id": "46c269a3",
   "metadata": {},
   "outputs": [
    {
     "data": {
      "text/plain": [
       "9.488406268616847"
      ]
     },
     "execution_count": 137,
     "metadata": {},
     "output_type": "execute_result"
    }
   ],
   "source": [
    "kn_reg_distance_mae = mean_absolute_error(ytest, knreg_distance_test_predictions)\n",
    "kn_reg_distance_mae"
   ]
  },
  {
   "cell_type": "code",
   "execution_count": 138,
   "id": "7711ae75",
   "metadata": {},
   "outputs": [],
   "source": [
    "KND_Score=kn_distance_reg.score(xtest,ytest)"
   ]
  },
  {
   "cell_type": "code",
   "execution_count": 139,
   "id": "b69a465f",
   "metadata": {},
   "outputs": [
    {
     "data": {
      "text/plain": [
       "0.8648342963324397"
      ]
     },
     "execution_count": 139,
     "metadata": {},
     "output_type": "execute_result"
    }
   ],
   "source": [
    "KND_Score"
   ]
  },
  {
   "cell_type": "markdown",
   "id": "f4575789",
   "metadata": {},
   "source": [
    "# Bar Chart for obtained MSE and MAE from this 2 Algorithm"
   ]
  },
  {
   "cell_type": "code",
   "execution_count": 42,
   "id": "6cc06dfb",
   "metadata": {},
   "outputs": [
    {
     "data": {
      "text/plain": [
       "Text(0, 0.5, 'Value')"
      ]
     },
     "execution_count": 42,
     "metadata": {},
     "output_type": "execute_result"
    },
    {
     "data": {
      "text/plain": [
       "<Figure size 1440x720 with 0 Axes>"
      ]
     },
     "metadata": {},
     "output_type": "display_data"
    },
    {
     "data": {
      "image/png": "[encoded data removed]",
      "text/plain": [
       "<Figure size 432x288 with 1 Axes>"
      ]
     },
     "metadata": {
      "needs_background": "light"
     },
     "output_type": "display_data"
    }
   ],
   "source": [
    "plt.figure(figsize=(20,10))\n",
    "plotdata = pd.DataFrame({\n",
    "    \"KNNR-U\":[kn_reg_mse, kn_reg_mae],\n",
    "    \"KNNR-D\":[kn_reg_distance_mse, kn_reg_distance_mae],\n",
    "    \"LR\":[mse,mae]\n",
    "    }, \n",
    "    index=[\"MSE\", \"MAE\"]\n",
    ")\n",
    "plotdata.plot(kind=\"bar\")\n",
    "plt.title(\"Linear Reg vs KNN Linear Regression\")\n",
    "plt.xlabel(\"Erros\")\n",
    "plt.ylabel(\"Value\")"
   ]
  },
  {
   "cell_type": "markdown",
   "id": "d3ab54d1",
   "metadata": {},
   "source": [
    "# Classification"
   ]
  },
  {
   "cell_type": "code",
   "execution_count": 43,
   "id": "04972e5d",
   "metadata": {},
   "outputs": [],
   "source": [
    "df2=df.copy()"
   ]
  },
  {
   "cell_type": "code",
   "execution_count": 44,
   "id": "b3aad393",
   "metadata": {},
   "outputs": [
    {
     "data": {
      "text/html": [
       "<div>\n",
       "<style scoped>\n",
       "    .dataframe tbody tr th:only-of-type {\n",
       "        vertical-align: middle;\n",
       "    }\n",
       "\n",
       "    .dataframe tbody tr th {\n",
       "        vertical-align: top;\n",
       "    }\n",
       "\n",
       "    .dataframe thead th {\n",
       "        text-align: right;\n",
       "    }\n",
       "</style>\n",
       "<table border=\"1\" class=\"dataframe\">\n",
       "  <thead>\n",
       "    <tr style=\"text-align: right;\">\n",
       "      <th></th>\n",
       "      <th>Gender</th>\n",
       "      <th>Height</th>\n",
       "      <th>Weight</th>\n",
       "    </tr>\n",
       "  </thead>\n",
       "  <tbody>\n",
       "    <tr>\n",
       "      <th>0</th>\n",
       "      <td>Male</td>\n",
       "      <td>73.847017</td>\n",
       "      <td>241.893563</td>\n",
       "    </tr>\n",
       "    <tr>\n",
       "      <th>1</th>\n",
       "      <td>Male</td>\n",
       "      <td>68.781904</td>\n",
       "      <td>162.310473</td>\n",
       "    </tr>\n",
       "    <tr>\n",
       "      <th>2</th>\n",
       "      <td>Male</td>\n",
       "      <td>74.110105</td>\n",
       "      <td>212.740856</td>\n",
       "    </tr>\n",
       "    <tr>\n",
       "      <th>3</th>\n",
       "      <td>Male</td>\n",
       "      <td>71.730978</td>\n",
       "      <td>220.042470</td>\n",
       "    </tr>\n",
       "    <tr>\n",
       "      <th>4</th>\n",
       "      <td>Male</td>\n",
       "      <td>69.881796</td>\n",
       "      <td>206.349801</td>\n",
       "    </tr>\n",
       "  </tbody>\n",
       "</table>\n",
       "</div>"
      ],
      "text/plain": [
       "  Gender     Height      Weight\n",
       "0   Male  73.847017  241.893563\n",
       "1   Male  68.781904  162.310473\n",
       "2   Male  74.110105  212.740856\n",
       "3   Male  71.730978  220.042470\n",
       "4   Male  69.881796  206.349801"
      ]
     },
     "execution_count": 44,
     "metadata": {},
     "output_type": "execute_result"
    }
   ],
   "source": [
    "df2.head()"
   ]
  },
  {
   "cell_type": "code",
   "execution_count": 45,
   "id": "961f7319",
   "metadata": {},
   "outputs": [
    {
     "data": {
      "text/html": [
       "<div>\n",
       "<style scoped>\n",
       "    .dataframe tbody tr th:only-of-type {\n",
       "        vertical-align: middle;\n",
       "    }\n",
       "\n",
       "    .dataframe tbody tr th {\n",
       "        vertical-align: top;\n",
       "    }\n",
       "\n",
       "    .dataframe thead th {\n",
       "        text-align: right;\n",
       "    }\n",
       "</style>\n",
       "<table border=\"1\" class=\"dataframe\">\n",
       "  <thead>\n",
       "    <tr style=\"text-align: right;\">\n",
       "      <th></th>\n",
       "      <th>Height</th>\n",
       "      <th>Weight</th>\n",
       "    </tr>\n",
       "  </thead>\n",
       "  <tbody>\n",
       "    <tr>\n",
       "      <th>0</th>\n",
       "      <td>73.847017</td>\n",
       "      <td>241.893563</td>\n",
       "    </tr>\n",
       "    <tr>\n",
       "      <th>1</th>\n",
       "      <td>68.781904</td>\n",
       "      <td>162.310473</td>\n",
       "    </tr>\n",
       "    <tr>\n",
       "      <th>2</th>\n",
       "      <td>74.110105</td>\n",
       "      <td>212.740856</td>\n",
       "    </tr>\n",
       "    <tr>\n",
       "      <th>3</th>\n",
       "      <td>71.730978</td>\n",
       "      <td>220.042470</td>\n",
       "    </tr>\n",
       "    <tr>\n",
       "      <th>4</th>\n",
       "      <td>69.881796</td>\n",
       "      <td>206.349801</td>\n",
       "    </tr>\n",
       "  </tbody>\n",
       "</table>\n",
       "</div>"
      ],
      "text/plain": [
       "      Height      Weight\n",
       "0  73.847017  241.893563\n",
       "1  68.781904  162.310473\n",
       "2  74.110105  212.740856\n",
       "3  71.730978  220.042470\n",
       "4  69.881796  206.349801"
      ]
     },
     "execution_count": 45,
     "metadata": {},
     "output_type": "execute_result"
    }
   ],
   "source": [
    "col_x_dt_classifier = df2.drop('Gender', axis=1)\n",
    "col_y_dt_classifier = df2['Gender']\n",
    "col_x_dt_classifier.head()"
   ]
  },
  {
   "cell_type": "markdown",
   "id": "a28e9a3a",
   "metadata": {},
   "source": [
    "# Train and Test Dataset for Decision Tree Classifier"
   ]
  },
  {
   "cell_type": "code",
   "execution_count": 46,
   "id": "a21a4c00",
   "metadata": {},
   "outputs": [],
   "source": [
    "xtrain_dt, xtest_dt, ytrain_dt, ytest_dt = train_test_split(col_x_dt_classifier,col_y_dt_classifier,test_size=.30)"
   ]
  },
  {
   "cell_type": "markdown",
   "id": "b4962045",
   "metadata": {},
   "source": [
    "# Decision Tree Classifier, Score, Accuracy"
   ]
  },
  {
   "cell_type": "code",
   "execution_count": 47,
   "id": "bbac120c",
   "metadata": {},
   "outputs": [
    {
     "data": {
      "text/plain": [
       "[Text(164.53533571417128, 213.25846153846155, 'X[1] <= 161.477\\ngini = 0.486\\nsamples = 5988\\nvalue = [2488, 3500]'),\n",
       " Text(74.80147677381106, 204.89538461538461, 'X[1] <= 146.141\\ngini = 0.225\\nsamples = 2581\\nvalue = [2247, 334]'),\n",
       " Text(24.237700294834, 196.53230769230768, 'X[1] <= 134.821\\ngini = 0.067\\nsamples = 1834\\nvalue = [1770, 64]'),\n",
       " Text(7.381822843225228, 188.16923076923078, 'X[1] <= 68.811\\ngini = 0.023\\nsamples = 1222\\nvalue = [1208, 14]'),\n",
       " Text(6.695141648506603, 179.80615384615385, 'gini = 0.0\\nsamples = 1\\nvalue = [0, 1]'),\n",
       " Text(8.068504037943853, 179.80615384615385, 'X[1] <= 128.693\\ngini = 0.021\\nsamples = 1221\\nvalue = [1208, 13]'),\n",
       " Text(4.463427765671068, 171.44307692307692, 'X[1] <= 112.893\\ngini = 0.013\\nsamples = 906\\nvalue = [900, 6]'),\n",
       " Text(3.7767465709524424, 163.07999999999998, 'gini = 0.0\\nsamples = 310\\nvalue = [310, 0]'),\n",
       " Text(5.150108960389694, 163.07999999999998, 'X[1] <= 112.928\\ngini = 0.02\\nsamples = 596\\nvalue = [590, 6]'),\n",
       " Text(4.463427765671068, 154.71692307692308, 'gini = 0.0\\nsamples = 1\\nvalue = [0, 1]'),\n",
       " Text(5.83679015510832, 154.71692307692308, 'X[0] <= 61.76\\ngini = 0.017\\nsamples = 595\\nvalue = [590, 5]'),\n",
       " Text(4.1200871683117555, 146.35384615384615, 'X[0] <= 61.754\\ngini = 0.032\\nsamples = 249\\nvalue = [245, 4]'),\n",
       " Text(3.4334059735931293, 137.99076923076922, 'X[1] <= 123.627\\ngini = 0.024\\nsamples = 248\\nvalue = [245, 3]'),\n",
       " Text(2.0600435841558777, 129.6276923076923, 'X[0] <= 59.881\\ngini = 0.012\\nsamples = 171\\nvalue = [170, 1]'),\n",
       " Text(1.3733623894372518, 121.26461538461538, 'X[0] <= 59.822\\ngini = 0.074\\nsamples = 26\\nvalue = [25, 1]'),\n",
       " Text(0.6866811947186259, 112.90153846153846, 'gini = 0.0\\nsamples = 25\\nvalue = [25, 0]'),\n",
       " Text(2.0600435841558777, 112.90153846153846, 'gini = 0.0\\nsamples = 1\\nvalue = [0, 1]'),\n",
       " Text(2.7467247788745035, 121.26461538461538, 'gini = 0.0\\nsamples = 145\\nvalue = [145, 0]'),\n",
       " Text(4.806768363030381, 129.6276923076923, 'X[1] <= 123.633\\ngini = 0.051\\nsamples = 77\\nvalue = [75, 2]'),\n",
       " Text(4.1200871683117555, 121.26461538461538, 'gini = 0.0\\nsamples = 1\\nvalue = [0, 1]'),\n",
       " Text(5.493449557749007, 121.26461538461538, 'X[1] <= 125.881\\ngini = 0.026\\nsamples = 76\\nvalue = [75, 1]'),\n",
       " Text(4.806768363030381, 112.90153846153846, 'X[1] <= 125.759\\ngini = 0.054\\nsamples = 36\\nvalue = [35, 1]'),\n",
       " Text(4.1200871683117555, 104.53846153846153, 'gini = 0.0\\nsamples = 35\\nvalue = [35, 0]'),\n",
       " Text(5.493449557749007, 104.53846153846153, 'gini = 0.0\\nsamples = 1\\nvalue = [0, 1]'),\n",
       " Text(6.180130752467633, 112.90153846153846, 'gini = 0.0\\nsamples = 40\\nvalue = [40, 0]'),\n",
       " Text(4.806768363030381, 137.99076923076922, 'gini = 0.0\\nsamples = 1\\nvalue = [0, 1]'),\n",
       " Text(7.553493141904885, 146.35384615384615, 'X[1] <= 119.253\\ngini = 0.006\\nsamples = 346\\nvalue = [345, 1]'),\n",
       " Text(6.8668119471862585, 137.99076923076922, 'X[1] <= 119.217\\ngini = 0.024\\nsamples = 84\\nvalue = [83, 1]'),\n",
       " Text(6.180130752467633, 129.6276923076923, 'gini = 0.0\\nsamples = 83\\nvalue = [83, 0]'),\n",
       " Text(7.553493141904885, 129.6276923076923, 'gini = 0.0\\nsamples = 1\\nvalue = [0, 1]'),\n",
       " Text(8.240174336623511, 137.99076923076922, 'gini = 0.0\\nsamples = 262\\nvalue = [262, 0]'),\n",
       " Text(11.67358031021664, 171.44307692307692, 'X[1] <= 128.728\\ngini = 0.043\\nsamples = 315\\nvalue = [308, 7]'),\n",
       " Text(10.986899115498014, 163.07999999999998, 'gini = 0.0\\nsamples = 1\\nvalue = [0, 1]'),\n",
       " Text(12.360261504935266, 163.07999999999998, 'X[0] <= 60.698\\ngini = 0.037\\nsamples = 314\\nvalue = [308, 6]'),\n",
       " Text(9.613536726060762, 154.71692307692308, 'X[0] <= 60.255\\ngini = 0.236\\nsamples = 22\\nvalue = [19, 3]'),\n",
       " Text(8.926855531342136, 146.35384615384615, 'gini = 0.0\\nsamples = 15\\nvalue = [15, 0]'),\n",
       " Text(10.300217920779389, 146.35384615384615, 'X[1] <= 129.836\\ngini = 0.49\\nsamples = 7\\nvalue = [4, 3]'),\n",
       " Text(9.613536726060762, 137.99076923076922, 'gini = 0.0\\nsamples = 1\\nvalue = [0, 1]'),\n",
       " Text(10.986899115498014, 137.99076923076922, 'X[0] <= 60.379\\ngini = 0.444\\nsamples = 6\\nvalue = [4, 2]'),\n",
       " Text(10.300217920779389, 129.6276923076923, 'X[1] <= 131.999\\ngini = 0.444\\nsamples = 3\\nvalue = [1, 2]'),\n",
       " Text(9.613536726060762, 121.26461538461538, 'gini = 0.0\\nsamples = 1\\nvalue = [1, 0]'),\n",
       " Text(10.986899115498014, 121.26461538461538, 'gini = 0.0\\nsamples = 2\\nvalue = [0, 2]'),\n",
       " Text(11.67358031021664, 129.6276923076923, 'gini = 0.0\\nsamples = 3\\nvalue = [3, 0]'),\n",
       " Text(15.10698628380977, 154.71692307692308, 'X[0] <= 63.034\\ngini = 0.02\\nsamples = 292\\nvalue = [289, 3]'),\n",
       " Text(14.420305089091144, 146.35384615384615, 'X[0] <= 63.026\\ngini = 0.049\\nsamples = 120\\nvalue = [117, 3]'),\n",
       " Text(13.733623894372517, 137.99076923076922, 'X[1] <= 130.841\\ngini = 0.033\\nsamples = 119\\nvalue = [117, 2]'),\n",
       " Text(13.046942699653892, 129.6276923076923, 'X[1] <= 130.803\\ngini = 0.102\\nsamples = 37\\nvalue = [35, 2]'),\n",
       " Text(12.360261504935266, 121.26461538461538, 'X[1] <= 130.277\\ngini = 0.054\\nsamples = 36\\nvalue = [35, 1]'),\n",
       " Text(11.67358031021664, 112.90153846153846, 'gini = 0.0\\nsamples = 30\\nvalue = [30, 0]'),\n",
       " Text(13.046942699653892, 112.90153846153846, 'X[1] <= 130.36\\ngini = 0.278\\nsamples = 6\\nvalue = [5, 1]'),\n",
       " Text(12.360261504935266, 104.53846153846153, 'gini = 0.0\\nsamples = 1\\nvalue = [0, 1]'),\n",
       " Text(13.733623894372517, 104.53846153846153, 'gini = 0.0\\nsamples = 5\\nvalue = [5, 0]'),\n",
       " Text(13.733623894372517, 121.26461538461538, 'gini = 0.0\\nsamples = 1\\nvalue = [0, 1]'),\n",
       " Text(14.420305089091144, 129.6276923076923, 'gini = 0.0\\nsamples = 82\\nvalue = [82, 0]'),\n",
       " Text(15.10698628380977, 137.99076923076922, 'gini = 0.0\\nsamples = 1\\nvalue = [0, 1]'),\n",
       " Text(15.793667478528395, 146.35384615384615, 'gini = 0.0\\nsamples = 172\\nvalue = [172, 0]'),\n",
       " Text(41.09357774644277, 188.16923076923078, 'X[0] <= 63.012\\ngini = 0.15\\nsamples = 612\\nvalue = [562, 50]'),\n",
       " Text(33.30403794385335, 179.80615384615385, 'X[1] <= 143.384\\ngini = 0.308\\nsamples = 142\\nvalue = [115, 27]'),\n",
       " Text(26.093885399307784, 171.44307692307692, 'X[1] <= 134.847\\ngini = 0.243\\nsamples = 120\\nvalue = [103, 17]'),\n",
       " Text(25.407204204589156, 163.07999999999998, 'gini = 0.0\\nsamples = 1\\nvalue = [0, 1]'),\n",
       " Text(26.78056659402641, 163.07999999999998, 'X[0] <= 63.009\\ngini = 0.233\\nsamples = 119\\nvalue = [103, 16]'),\n",
       " Text(26.093885399307784, 154.71692307692308, 'X[0] <= 61.991\\ngini = 0.222\\nsamples = 118\\nvalue = [103, 15]'),\n",
       " Text(21.45878733495706, 146.35384615384615, 'X[0] <= 61.878\\ngini = 0.346\\nsamples = 36\\nvalue = [28, 8]'),\n",
       " Text(18.197051660043584, 137.99076923076922, 'X[1] <= 136.721\\ngini = 0.271\\nsamples = 31\\nvalue = [26, 5]'),\n",
       " Text(16.480348673247022, 129.6276923076923, 'X[0] <= 59.813\\ngini = 0.444\\nsamples = 12\\nvalue = [8, 4]'),\n",
       " Text(15.793667478528395, 121.26461538461538, 'gini = 0.0\\nsamples = 1\\nvalue = [0, 1]'),\n",
       " Text(17.167029867965645, 121.26461538461538, 'X[0] <= 61.561\\ngini = 0.397\\nsamples = 11\\nvalue = [8, 3]'),\n",
       " Text(15.793667478528395, 112.90153846153846, 'X[0] <= 60.797\\ngini = 0.219\\nsamples = 8\\nvalue = [7, 1]'),\n",
       " Text(15.10698628380977, 104.53846153846153, 'X[0] <= 60.686\\ngini = 0.444\\nsamples = 3\\nvalue = [2, 1]'),\n",
       " Text(14.420305089091144, 96.17538461538462, 'gini = 0.0\\nsamples = 2\\nvalue = [2, 0]'),\n",
       " Text(15.793667478528395, 96.17538461538462, 'gini = 0.0\\nsamples = 1\\nvalue = [0, 1]'),\n",
       " Text(16.480348673247022, 104.53846153846153, 'gini = 0.0\\nsamples = 5\\nvalue = [5, 0]'),\n",
       " Text(18.5403922574029, 112.90153846153846, 'X[0] <= 61.815\\ngini = 0.444\\nsamples = 3\\nvalue = [1, 2]'),\n",
       " Text(17.853711062684273, 104.53846153846153, 'gini = 0.0\\nsamples = 2\\nvalue = [0, 2]'),\n",
       " Text(19.227073452121523, 104.53846153846153, 'gini = 0.0\\nsamples = 1\\nvalue = [1, 0]'),\n",
       " Text(19.91375464684015, 129.6276923076923, 'X[0] <= 61.697\\ngini = 0.1\\nsamples = 19\\nvalue = [18, 1]'),\n",
       " Text(19.227073452121523, 121.26461538461538, 'gini = 0.0\\nsamples = 13\\nvalue = [13, 0]'),\n",
       " Text(20.600435841558777, 121.26461538461538, 'X[0] <= 61.745\\ngini = 0.278\\nsamples = 6\\nvalue = [5, 1]'),\n",
       " Text(19.91375464684015, 112.90153846153846, 'gini = 0.0\\nsamples = 1\\nvalue = [0, 1]'),\n",
       " Text(21.2871170362774, 112.90153846153846, 'gini = 0.0\\nsamples = 5\\nvalue = [5, 0]'),\n",
       " Text(24.720523009870533, 137.99076923076922, 'X[1] <= 141.33\\ngini = 0.48\\nsamples = 5\\nvalue = [2, 3]'),\n",
       " Text(24.033841815151906, 129.6276923076923, 'X[1] <= 139.879\\ngini = 0.375\\nsamples = 4\\nvalue = [1, 3]'),\n",
       " Text(23.34716062043328, 121.26461538461538, 'X[1] <= 138.573\\ngini = 0.5\\nsamples = 2\\nvalue = [1, 1]'),\n",
       " Text(22.660479425714655, 112.90153846153846, 'gini = 0.0\\nsamples = 1\\nvalue = [0, 1]'),\n",
       " Text(24.033841815151906, 112.90153846153846, 'gini = 0.0\\nsamples = 1\\nvalue = [1, 0]'),\n",
       " Text(24.720523009870533, 121.26461538461538, 'gini = 0.0\\nsamples = 2\\nvalue = [0, 2]'),\n",
       " Text(25.407204204589156, 129.6276923076923, 'gini = 0.0\\nsamples = 1\\nvalue = [1, 0]'),\n",
       " Text(30.72898346365851, 146.35384615384615, 'X[1] <= 139.252\\ngini = 0.156\\nsamples = 82\\nvalue = [75, 7]'),\n",
       " Text(27.467247788745034, 137.99076923076922, 'X[0] <= 62.782\\ngini = 0.04\\nsamples = 49\\nvalue = [48, 1]'),\n",
       " Text(26.78056659402641, 129.6276923076923, 'gini = 0.0\\nsamples = 39\\nvalue = [39, 0]'),\n",
       " Text(28.15392898346366, 129.6276923076923, 'X[0] <= 62.801\\ngini = 0.18\\nsamples = 10\\nvalue = [9, 1]'),\n",
       " Text(27.467247788745034, 121.26461538461538, 'gini = 0.0\\nsamples = 1\\nvalue = [0, 1]'),\n",
       " Text(28.84061017818229, 121.26461538461538, 'gini = 0.0\\nsamples = 9\\nvalue = [9, 0]'),\n",
       " Text(33.99071913857198, 137.99076923076922, 'X[1] <= 140.537\\ngini = 0.298\\nsamples = 33\\nvalue = [27, 6]'),\n",
       " Text(31.58733495705679, 129.6276923076923, 'X[1] <= 139.964\\ngini = 0.496\\nsamples = 11\\nvalue = [6, 5]'),\n",
       " Text(30.21397256761954, 121.26461538461538, 'X[1] <= 139.316\\ngini = 0.278\\nsamples = 6\\nvalue = [5, 1]'),\n",
       " Text(29.527291372900912, 112.90153846153846, 'gini = 0.0\\nsamples = 1\\nvalue = [0, 1]'),\n",
       " Text(30.900653762338166, 112.90153846153846, 'gini = 0.0\\nsamples = 5\\nvalue = [5, 0]'),\n",
       " Text(32.960697346494044, 121.26461538461538, 'X[0] <= 62.768\\ngini = 0.32\\nsamples = 5\\nvalue = [1, 4]'),\n",
       " Text(32.27401615177541, 112.90153846153846, 'gini = 0.0\\nsamples = 4\\nvalue = [0, 4]'),\n",
       " Text(33.64737854121267, 112.90153846153846, 'gini = 0.0\\nsamples = 1\\nvalue = [1, 0]'),\n",
       " Text(36.39410332008717, 129.6276923076923, 'X[0] <= 62.217\\ngini = 0.087\\nsamples = 22\\nvalue = [21, 1]'),\n",
       " Text(35.707422125368545, 121.26461538461538, 'X[0] <= 62.137\\ngini = 0.444\\nsamples = 3\\nvalue = [2, 1]'),\n",
       " Text(35.02074093064992, 112.90153846153846, 'gini = 0.0\\nsamples = 2\\nvalue = [2, 0]'),\n",
       " Text(36.39410332008717, 112.90153846153846, 'gini = 0.0\\nsamples = 1\\nvalue = [0, 1]'),\n",
       " Text(37.0807845148058, 121.26461538461538, 'gini = 0.0\\nsamples = 19\\nvalue = [19, 0]'),\n",
       " Text(27.467247788745034, 154.71692307692308, 'gini = 0.0\\nsamples = 1\\nvalue = [0, 1]'),\n",
       " Text(40.514190488398924, 171.44307692307692, 'X[0] <= 62.887\\ngini = 0.496\\nsamples = 22\\nvalue = [12, 10]'),\n",
       " Text(39.8275092936803, 163.07999999999998, 'X[0] <= 62.591\\ngini = 0.48\\nsamples = 20\\nvalue = [12, 8]'),\n",
       " Text(39.14082809896168, 154.71692307692308, 'X[0] <= 62.381\\ngini = 0.49\\nsamples = 14\\nvalue = [6, 8]'),\n",
       " Text(37.76746570952442, 146.35384615384615, 'X[1] <= 143.49\\ngini = 0.469\\nsamples = 8\\nvalue = [5, 3]'),\n",
       " Text(37.0807845148058, 137.99076923076922, 'gini = 0.0\\nsamples = 1\\nvalue = [0, 1]'),\n",
       " Text(38.454146904243046, 137.99076923076922, 'X[1] <= 145.553\\ngini = 0.408\\nsamples = 7\\nvalue = [5, 2]'),\n",
       " Text(37.76746570952442, 129.6276923076923, 'gini = 0.0\\nsamples = 4\\nvalue = [4, 0]'),\n",
       " Text(39.14082809896168, 129.6276923076923, 'X[1] <= 145.946\\ngini = 0.444\\nsamples = 3\\nvalue = [1, 2]'),\n",
       " Text(38.454146904243046, 121.26461538461538, 'gini = 0.0\\nsamples = 2\\nvalue = [0, 2]'),\n",
       " Text(39.8275092936803, 121.26461538461538, 'gini = 0.0\\nsamples = 1\\nvalue = [1, 0]'),\n",
       " Text(40.514190488398924, 146.35384615384615, 'X[0] <= 62.545\\ngini = 0.278\\nsamples = 6\\nvalue = [1, 5]'),\n",
       " Text(39.8275092936803, 137.99076923076922, 'gini = 0.0\\nsamples = 4\\nvalue = [0, 4]'),\n",
       " Text(41.200871683117555, 137.99076923076922, 'X[1] <= 144.683\\ngini = 0.5\\nsamples = 2\\nvalue = [1, 1]'),\n",
       " Text(40.514190488398924, 129.6276923076923, 'gini = 0.0\\nsamples = 1\\nvalue = [0, 1]'),\n",
       " Text(41.88755287783618, 129.6276923076923, 'gini = 0.0\\nsamples = 1\\nvalue = [1, 0]'),\n",
       " Text(40.514190488398924, 154.71692307692308, 'gini = 0.0\\nsamples = 6\\nvalue = [6, 0]'),\n",
       " Text(41.200871683117555, 163.07999999999998, 'gini = 0.0\\nsamples = 2\\nvalue = [0, 2]'),\n",
       " Text(48.88311754903218, 179.80615384615385, 'X[1] <= 138.084\\ngini = 0.093\\nsamples = 470\\nvalue = [447, 23]'),\n",
       " Text(45.32095885142931, 171.44307692307692, 'X[1] <= 135.897\\ngini = 0.033\\nsamples = 118\\nvalue = [116, 2]'),\n",
       " Text(44.63427765671068, 163.07999999999998, 'X[1] <= 135.88\\ngini = 0.102\\nsamples = 37\\nvalue = [35, 2]'),\n",
       " Text(43.947596461992056, 154.71692307692308, 'X[1] <= 135.183\\ngini = 0.054\\nsamples = 36\\nvalue = [35, 1]'),\n",
       " Text(43.26091526727343, 146.35384615384615, 'X[1] <= 135.166\\ngini = 0.117\\nsamples = 16\\nvalue = [15, 1]'),\n",
       " Text(42.5742340725548, 137.99076923076922, 'gini = 0.0\\nsamples = 15\\nvalue = [15, 0]'),\n",
       " Text(43.947596461992056, 137.99076923076922, 'gini = 0.0\\nsamples = 1\\nvalue = [0, 1]'),\n",
       " Text(44.63427765671068, 146.35384615384615, 'gini = 0.0\\nsamples = 20\\nvalue = [20, 0]'),\n",
       " Text(45.32095885142931, 154.71692307692308, 'gini = 0.0\\nsamples = 1\\nvalue = [0, 1]'),\n",
       " Text(46.007640046147934, 163.07999999999998, 'gini = 0.0\\nsamples = 81\\nvalue = [81, 0]'),\n",
       " Text(52.44527624663505, 171.44307692307692, 'X[1] <= 138.102\\ngini = 0.112\\nsamples = 352\\nvalue = [331, 21]'),\n",
       " Text(51.75859505191642, 163.07999999999998, 'gini = 0.0\\nsamples = 1\\nvalue = [0, 1]'),\n",
       " Text(53.13195744135368, 163.07999999999998, 'X[0] <= 63.715\\ngini = 0.107\\nsamples = 351\\nvalue = [331, 20]'),\n",
       " Text(46.69432124086656, 154.71692307692308, 'X[1] <= 138.172\\ngini = 0.212\\nsamples = 58\\nvalue = [51, 7]'),\n",
       " Text(46.007640046147934, 146.35384615384615, 'gini = 0.0\\nsamples = 1\\nvalue = [0, 1]'),\n",
       " Text(47.38100243558519, 146.35384615384615, 'X[0] <= 63.708\\ngini = 0.188\\nsamples = 57\\nvalue = [51, 6]'),\n",
       " Text(46.69432124086656, 137.99076923076922, 'X[0] <= 63.172\\ngini = 0.163\\nsamples = 56\\nvalue = [51, 5]'),\n",
       " Text(46.007640046147934, 129.6276923076923, 'gini = 0.0\\nsamples = 13\\nvalue = [13, 0]'),\n",
       " Text(47.38100243558519, 129.6276923076923, 'X[0] <= 63.181\\ngini = 0.206\\nsamples = 43\\nvalue = [38, 5]'),\n",
       " Text(46.007640046147934, 121.26461538461538, 'X[1] <= 139.093\\ngini = 0.444\\nsamples = 3\\nvalue = [1, 2]'),\n",
       " Text(45.32095885142931, 112.90153846153846, 'gini = 0.0\\nsamples = 1\\nvalue = [1, 0]'),\n",
       " Text(46.69432124086656, 112.90153846153846, 'gini = 0.0\\nsamples = 2\\nvalue = [0, 2]'),\n",
       " Text(48.754364825022435, 121.26461538461538, 'X[1] <= 142.248\\ngini = 0.139\\nsamples = 40\\nvalue = [37, 3]'),\n",
       " Text(48.06768363030381, 112.90153846153846, 'X[1] <= 140.838\\ngini = 0.236\\nsamples = 22\\nvalue = [19, 3]'),\n",
       " Text(47.38100243558519, 104.53846153846153, 'gini = 0.0\\nsamples = 17\\nvalue = [17, 0]'),\n",
       " Text(48.754364825022435, 104.53846153846153, 'X[0] <= 63.418\\ngini = 0.48\\nsamples = 5\\nvalue = [2, 3]'),\n",
       " Text(48.06768363030381, 96.17538461538462, 'gini = 0.0\\nsamples = 2\\nvalue = [0, 2]'),\n",
       " Text(49.441046019741066, 96.17538461538462, 'X[1] <= 142.045\\ngini = 0.444\\nsamples = 3\\nvalue = [2, 1]'),\n",
       " Text(48.754364825022435, 87.81230769230768, 'gini = 0.0\\nsamples = 2\\nvalue = [2, 0]'),\n",
       " Text(50.12772721445969, 87.81230769230768, 'gini = 0.0\\nsamples = 1\\nvalue = [0, 1]'),\n",
       " Text(49.441046019741066, 112.90153846153846, 'gini = 0.0\\nsamples = 18\\nvalue = [18, 0]'),\n",
       " Text(48.06768363030381, 137.99076923076922, 'gini = 0.0\\nsamples = 1\\nvalue = [0, 1]'),\n",
       " Text(59.5695936418408, 154.71692307692308, 'X[1] <= 144.111\\ngini = 0.085\\nsamples = 293\\nvalue = [280, 13]'),\n",
       " Text(58.024560953723885, 146.35384615384615, 'X[1] <= 142.747\\ngini = 0.063\\nsamples = 216\\nvalue = [209, 7]'),\n",
       " Text(57.33787975900526, 137.99076923076922, 'X[1] <= 142.721\\ngini = 0.086\\nsamples = 155\\nvalue = [148, 7]'),\n",
       " Text(56.65119856428664, 129.6276923076923, 'X[1] <= 142.572\\ngini = 0.075\\nsamples = 154\\nvalue = [148, 6]'),\n",
       " Text(54.93449557749007, 121.26461538461538, 'X[0] <= 66.588\\ngini = 0.065\\nsamples = 149\\nvalue = [144, 5]'),\n",
       " Text(53.56113318805282, 112.90153846153846, 'X[1] <= 140.521\\ngini = 0.055\\nsamples = 142\\nvalue = [138, 4]'),\n",
       " Text(52.87445199333419, 104.53846153846153, 'X[1] <= 140.51\\ngini = 0.102\\nsamples = 74\\nvalue = [70, 4]'),\n",
       " Text(52.18777079861557, 96.17538461538462, 'X[0] <= 65.034\\ngini = 0.079\\nsamples = 73\\nvalue = [70, 3]'),\n",
       " Text(51.50108960389694, 87.81230769230768, 'X[0] <= 64.987\\ngini = 0.122\\nsamples = 46\\nvalue = [43, 3]'),\n",
       " Text(50.81440840917831, 79.44923076923078, 'X[1] <= 138.596\\ngini = 0.085\\nsamples = 45\\nvalue = [43, 2]'),\n",
       " Text(49.441046019741066, 71.08615384615385, 'X[1] <= 138.549\\ngini = 0.245\\nsamples = 7\\nvalue = [6, 1]'),\n",
       " Text(48.754364825022435, 62.72307692307692, 'gini = 0.0\\nsamples = 6\\nvalue = [6, 0]'),\n",
       " Text(50.12772721445969, 62.72307692307692, 'gini = 0.0\\nsamples = 1\\nvalue = [0, 1]'),\n",
       " Text(52.18777079861557, 71.08615384615385, 'X[1] <= 140.189\\ngini = 0.051\\nsamples = 38\\nvalue = [37, 1]'),\n",
       " Text(51.50108960389694, 62.72307692307692, 'gini = 0.0\\nsamples = 30\\nvalue = [30, 0]'),\n",
       " Text(52.87445199333419, 62.72307692307692, 'X[1] <= 140.212\\ngini = 0.219\\nsamples = 8\\nvalue = [7, 1]'),\n",
       " Text(52.18777079861557, 54.360000000000014, 'gini = 0.0\\nsamples = 1\\nvalue = [0, 1]'),\n",
       " Text(53.56113318805282, 54.360000000000014, 'gini = 0.0\\nsamples = 7\\nvalue = [7, 0]'),\n",
       " Text(52.18777079861557, 79.44923076923078, 'gini = 0.0\\nsamples = 1\\nvalue = [0, 1]'),\n",
       " Text(52.87445199333419, 87.81230769230768, 'gini = 0.0\\nsamples = 27\\nvalue = [27, 0]'),\n",
       " Text(53.56113318805282, 96.17538461538462, 'gini = 0.0\\nsamples = 1\\nvalue = [0, 1]'),\n",
       " Text(54.247814382771445, 104.53846153846153, 'gini = 0.0\\nsamples = 68\\nvalue = [68, 0]'),\n",
       " Text(56.30785796692732, 112.90153846153846, 'X[0] <= 66.784\\ngini = 0.245\\nsamples = 7\\nvalue = [6, 1]'),\n",
       " Text(55.6211767722087, 104.53846153846153, 'gini = 0.0\\nsamples = 1\\nvalue = [0, 1]'),\n",
       " Text(56.994539161645946, 104.53846153846153, 'gini = 0.0\\nsamples = 6\\nvalue = [6, 0]'),\n",
       " Text(58.3679015510832, 121.26461538461538, 'X[1] <= 142.594\\ngini = 0.32\\nsamples = 5\\nvalue = [4, 1]'),\n",
       " Text(57.68122035636458, 112.90153846153846, 'gini = 0.0\\nsamples = 1\\nvalue = [0, 1]'),\n",
       " Text(59.054582745801824, 112.90153846153846, 'gini = 0.0\\nsamples = 4\\nvalue = [4, 0]'),\n",
       " Text(58.024560953723885, 129.6276923076923, 'gini = 0.0\\nsamples = 1\\nvalue = [0, 1]'),\n",
       " Text(58.711242148442516, 137.99076923076922, 'gini = 0.0\\nsamples = 61\\nvalue = [61, 0]'),\n",
       " Text(61.1146263299577, 146.35384615384615, 'X[1] <= 144.171\\ngini = 0.144\\nsamples = 77\\nvalue = [71, 6]'),\n",
       " Text(60.42794513523908, 137.99076923076922, 'gini = 0.0\\nsamples = 1\\nvalue = [0, 1]'),\n",
       " Text(61.80130752467633, 137.99076923076922, 'X[1] <= 144.292\\ngini = 0.123\\nsamples = 76\\nvalue = [71, 5]'),\n",
       " Text(60.42794513523908, 129.6276923076923, 'X[0] <= 66.95\\ngini = 0.375\\nsamples = 4\\nvalue = [3, 1]'),\n",
       " Text(59.741263940520454, 121.26461538461538, 'gini = 0.0\\nsamples = 3\\nvalue = [3, 0]'),\n",
       " Text(61.1146263299577, 121.26461538461538, 'gini = 0.0\\nsamples = 1\\nvalue = [0, 1]'),\n",
       " Text(63.17466991411358, 129.6276923076923, 'X[0] <= 65.897\\ngini = 0.105\\nsamples = 72\\nvalue = [68, 4]'),\n",
       " Text(62.487988719394956, 121.26461538461538, 'X[0] <= 65.719\\ngini = 0.165\\nsamples = 44\\nvalue = [40, 4]'),\n",
       " Text(61.80130752467633, 112.90153846153846, 'X[0] <= 65.263\\ngini = 0.13\\nsamples = 43\\nvalue = [40, 3]'),\n",
       " Text(61.1146263299577, 104.53846153846153, 'X[0] <= 65.216\\ngini = 0.185\\nsamples = 29\\nvalue = [26, 3]'),\n",
       " Text(60.42794513523908, 96.17538461538462, 'X[1] <= 144.595\\ngini = 0.133\\nsamples = 28\\nvalue = [26, 2]'),\n",
       " Text(59.054582745801824, 87.81230769230768, 'X[1] <= 144.526\\ngini = 0.278\\nsamples = 6\\nvalue = [5, 1]'),\n",
       " Text(58.3679015510832, 79.44923076923078, 'gini = 0.0\\nsamples = 5\\nvalue = [5, 0]'),\n",
       " Text(59.741263940520454, 79.44923076923078, 'gini = 0.0\\nsamples = 1\\nvalue = [0, 1]'),\n",
       " Text(61.80130752467633, 87.81230769230768, 'X[1] <= 145.844\\ngini = 0.087\\nsamples = 22\\nvalue = [21, 1]'),\n",
       " Text(61.1146263299577, 79.44923076923078, 'gini = 0.0\\nsamples = 16\\nvalue = [16, 0]'),\n",
       " Text(62.487988719394956, 79.44923076923078, 'X[1] <= 145.885\\ngini = 0.278\\nsamples = 6\\nvalue = [5, 1]'),\n",
       " Text(61.80130752467633, 71.08615384615385, 'gini = 0.0\\nsamples = 1\\nvalue = [0, 1]'),\n",
       " Text(63.17466991411358, 71.08615384615385, 'gini = 0.0\\nsamples = 5\\nvalue = [5, 0]'),\n",
       " Text(61.80130752467633, 96.17538461538462, 'gini = 0.0\\nsamples = 1\\nvalue = [0, 1]'),\n",
       " Text(62.487988719394956, 104.53846153846153, 'gini = 0.0\\nsamples = 14\\nvalue = [14, 0]'),\n",
       " Text(63.17466991411358, 112.90153846153846, 'gini = 0.0\\nsamples = 1\\nvalue = [0, 1]'),\n",
       " Text(63.86135110883221, 121.26461538461538, 'gini = 0.0\\nsamples = 28\\nvalue = [28, 0]'),\n",
       " Text(125.36525325278811, 196.53230769230768, 'X[0] <= 65.944\\ngini = 0.462\\nsamples = 747\\nvalue = [477, 270]'),\n",
       " Text(99.96106669016794, 188.16923076923078, 'X[1] <= 156.096\\ngini = 0.497\\nsamples = 452\\nvalue = [243, 209]'),\n",
       " Text(80.05334732726574, 179.80615384615385, 'X[0] <= 63.042\\ngini = 0.461\\nsamples = 314\\nvalue = [201, 113]'),\n",
       " Text(67.29475708242533, 171.44307692307692, 'X[1] <= 148.814\\ngini = 0.454\\nsamples = 46\\nvalue = [16, 30]'),\n",
       " Text(64.54803230355083, 163.07999999999998, 'X[0] <= 62.217\\ngini = 0.49\\nsamples = 14\\nvalue = [8, 6]'),\n",
       " Text(63.17466991411358, 154.71692307692308, 'X[1] <= 147.912\\ngini = 0.408\\nsamples = 7\\nvalue = [2, 5]'),\n",
       " Text(62.487988719394956, 146.35384615384615, 'gini = 0.0\\nsamples = 5\\nvalue = [0, 5]'),\n",
       " Text(63.86135110883221, 146.35384615384615, 'gini = 0.0\\nsamples = 2\\nvalue = [2, 0]'),\n",
       " Text(65.92139469298809, 154.71692307692308, 'X[0] <= 62.826\\ngini = 0.245\\nsamples = 7\\nvalue = [6, 1]'),\n",
       " Text(65.23471349826946, 146.35384615384615, 'gini = 0.0\\nsamples = 6\\nvalue = [6, 0]'),\n",
       " Text(66.6080758877067, 146.35384615384615, 'gini = 0.0\\nsamples = 1\\nvalue = [0, 1]'),\n",
       " Text(70.04148186129984, 163.07999999999998, 'X[0] <= 62.479\\ngini = 0.375\\nsamples = 32\\nvalue = [8, 24]'),\n",
       " Text(68.66811947186258, 154.71692307692308, 'X[1] <= 151.172\\ngini = 0.188\\nsamples = 19\\nvalue = [2, 17]'),\n",
       " Text(67.98143827714397, 146.35384615384615, 'gini = 0.0\\nsamples = 10\\nvalue = [0, 10]'),\n",
       " Text(69.35480066658121, 146.35384615384615, 'X[1] <= 151.986\\ngini = 0.346\\nsamples = 9\\nvalue = [2, 7]'),\n",
       " Text(68.66811947186258, 137.99076923076922, 'gini = 0.0\\nsamples = 1\\nvalue = [1, 0]'),\n",
       " Text(70.04148186129984, 137.99076923076922, 'X[1] <= 153.154\\ngini = 0.219\\nsamples = 8\\nvalue = [1, 7]'),\n",
       " Text(69.35480066658121, 129.6276923076923, 'gini = 0.0\\nsamples = 4\\nvalue = [0, 4]'),\n",
       " Text(70.72816305601846, 129.6276923076923, 'X[1] <= 153.493\\ngini = 0.375\\nsamples = 4\\nvalue = [1, 3]'),\n",
       " Text(70.04148186129984, 121.26461538461538, 'gini = 0.0\\nsamples = 1\\nvalue = [1, 0]'),\n",
       " Text(71.41484425073709, 121.26461538461538, 'gini = 0.0\\nsamples = 3\\nvalue = [0, 3]'),\n",
       " Text(71.41484425073709, 154.71692307692308, 'X[0] <= 62.594\\ngini = 0.497\\nsamples = 13\\nvalue = [6, 7]'),\n",
       " Text(70.72816305601846, 146.35384615384615, 'gini = 0.0\\nsamples = 2\\nvalue = [2, 0]'),\n",
       " Text(72.10152544545572, 146.35384615384615, 'X[0] <= 62.778\\ngini = 0.463\\nsamples = 11\\nvalue = [4, 7]'),\n",
       " Text(71.41484425073709, 137.99076923076922, 'gini = 0.0\\nsamples = 4\\nvalue = [0, 4]'),\n",
       " Text(72.78820664017434, 137.99076923076922, 'X[0] <= 62.94\\ngini = 0.49\\nsamples = 7\\nvalue = [4, 3]'),\n",
       " Text(72.10152544545572, 129.6276923076923, 'gini = 0.0\\nsamples = 3\\nvalue = [3, 0]'),\n",
       " Text(73.47488783489297, 129.6276923076923, 'X[1] <= 154.244\\ngini = 0.375\\nsamples = 4\\nvalue = [1, 3]'),\n",
       " Text(72.78820664017434, 121.26461538461538, 'gini = 0.0\\nsamples = 2\\nvalue = [0, 2]'),\n",
       " Text(74.1615690296116, 121.26461538461538, 'X[0] <= 62.971\\ngini = 0.5\\nsamples = 2\\nvalue = [1, 1]'),\n",
       " Text(73.47488783489297, 112.90153846153846, 'gini = 0.0\\nsamples = 1\\nvalue = [0, 1]'),\n",
       " Text(74.84825022433022, 112.90153846153846, 'gini = 0.0\\nsamples = 1\\nvalue = [1, 0]'),\n",
       " Text(92.81193757210615, 171.44307692307692, 'X[1] <= 152.512\\ngini = 0.428\\nsamples = 268\\nvalue = [185, 83]'),\n",
       " Text(84.81049224458404, 163.07999999999998, 'X[1] <= 146.184\\ngini = 0.374\\nsamples = 177\\nvalue = [133, 44]'),\n",
       " Text(84.12381104986541, 154.71692307692308, 'gini = 0.0\\nsamples = 2\\nvalue = [0, 2]'),\n",
       " Text(85.49717343930266, 154.71692307692308, 'X[0] <= 65.888\\ngini = 0.365\\nsamples = 175\\nvalue = [133, 42]'),\n",
       " Text(80.48118189975645, 146.35384615384615, 'X[1] <= 146.952\\ngini = 0.354\\nsamples = 170\\nvalue = [131, 39]'),\n",
       " Text(77.59497500320472, 137.99076923076922, 'X[0] <= 65.502\\ngini = 0.165\\nsamples = 22\\nvalue = [20, 2]'),\n",
       " Text(76.22161261376748, 129.6276923076923, 'X[1] <= 146.667\\ngini = 0.1\\nsamples = 19\\nvalue = [18, 1]'),\n",
       " Text(75.53493141904885, 121.26461538461538, 'gini = 0.0\\nsamples = 11\\nvalue = [11, 0]'),\n",
       " Text(76.90829380848609, 121.26461538461538, 'X[1] <= 146.688\\ngini = 0.219\\nsamples = 8\\nvalue = [7, 1]'),\n",
       " Text(76.22161261376748, 112.90153846153846, 'gini = 0.0\\nsamples = 1\\nvalue = [0, 1]'),\n",
       " Text(77.59497500320472, 112.90153846153846, 'gini = 0.0\\nsamples = 7\\nvalue = [7, 0]'),\n",
       " Text(78.96833739264197, 129.6276923076923, 'X[0] <= 65.639\\ngini = 0.444\\nsamples = 3\\nvalue = [2, 1]'),\n",
       " Text(78.28165619792335, 121.26461538461538, 'gini = 0.0\\nsamples = 1\\nvalue = [0, 1]'),\n",
       " Text(79.6550185873606, 121.26461538461538, 'gini = 0.0\\nsamples = 2\\nvalue = [2, 0]'),\n",
       " Text(83.36738879630818, 137.99076923076922, 'X[1] <= 146.957\\ngini = 0.375\\nsamples = 148\\nvalue = [111, 37]'),\n",
       " Text(82.68070760158955, 129.6276923076923, 'gini = 0.0\\nsamples = 1\\nvalue = [0, 1]'),\n",
       " Text(84.0540699910268, 129.6276923076923, 'X[0] <= 64.146\\ngini = 0.37\\nsamples = 147\\nvalue = [111, 36]'),\n",
       " Text(81.02838097679785, 121.26461538461538, 'X[1] <= 150.183\\ngini = 0.451\\nsamples = 35\\nvalue = [23, 12]'),\n",
       " Text(79.31167799000129, 112.90153846153846, 'X[1] <= 147.525\\ngini = 0.337\\nsamples = 28\\nvalue = [22, 6]'),\n",
       " Text(77.93831560056404, 104.53846153846153, 'X[1] <= 147.086\\ngini = 0.444\\nsamples = 6\\nvalue = [2, 4]'),\n",
       " Text(77.25163440584541, 96.17538461538462, 'gini = 0.0\\nsamples = 2\\nvalue = [2, 0]'),\n",
       " Text(78.62499679528267, 96.17538461538462, 'gini = 0.0\\nsamples = 4\\nvalue = [0, 4]'),\n",
       " Text(80.68504037943855, 104.53846153846153, 'X[0] <= 63.835\\ngini = 0.165\\nsamples = 22\\nvalue = [20, 2]'),\n",
       " Text(79.99835918471992, 96.17538461538462, 'gini = 0.0\\nsamples = 11\\nvalue = [11, 0]'),\n",
       " Text(81.37172157415716, 96.17538461538462, 'X[0] <= 63.847\\ngini = 0.298\\nsamples = 11\\nvalue = [9, 2]'),\n",
       " Text(80.68504037943855, 87.81230769230768, 'gini = 0.0\\nsamples = 1\\nvalue = [0, 1]'),\n",
       " Text(82.0584027688758, 87.81230769230768, 'X[0] <= 63.952\\ngini = 0.18\\nsamples = 10\\nvalue = [9, 1]'),\n",
       " Text(81.37172157415716, 79.44923076923078, 'X[0] <= 63.936\\ngini = 0.32\\nsamples = 5\\nvalue = [4, 1]'),\n",
       " Text(80.68504037943855, 71.08615384615385, 'gini = 0.0\\nsamples = 4\\nvalue = [4, 0]'),\n",
       " Text(82.0584027688758, 71.08615384615385, 'gini = 0.0\\nsamples = 1\\nvalue = [0, 1]'),\n",
       " Text(82.74508396359442, 79.44923076923078, 'gini = 0.0\\nsamples = 5\\nvalue = [5, 0]'),\n",
       " Text(82.74508396359442, 112.90153846153846, 'X[1] <= 152.018\\ngini = 0.245\\nsamples = 7\\nvalue = [1, 6]'),\n",
       " Text(82.0584027688758, 104.53846153846153, 'gini = 0.0\\nsamples = 6\\nvalue = [0, 6]'),\n",
       " Text(83.43176515831304, 104.53846153846153, 'gini = 0.0\\nsamples = 1\\nvalue = [1, 0]'),\n",
       " Text(87.07975900525574, 121.26461538461538, 'X[0] <= 64.506\\ngini = 0.337\\nsamples = 112\\nvalue = [88, 24]'),\n",
       " Text(85.49180874246892, 112.90153846153846, 'X[1] <= 149.764\\ngini = 0.111\\nsamples = 17\\nvalue = [16, 1]'),\n",
       " Text(84.8051275477503, 104.53846153846153, 'X[1] <= 149.392\\ngini = 0.245\\nsamples = 7\\nvalue = [6, 1]'),\n",
       " Text(84.11844635303167, 96.17538461538462, 'gini = 0.0\\nsamples = 6\\nvalue = [6, 0]'),\n",
       " Text(85.49180874246892, 96.17538461538462, 'gini = 0.0\\nsamples = 1\\nvalue = [0, 1]'),\n",
       " Text(86.17848993718755, 104.53846153846153, 'gini = 0.0\\nsamples = 10\\nvalue = [10, 0]'),\n",
       " Text(88.66770926804257, 112.90153846153846, 'X[0] <= 64.53\\ngini = 0.367\\nsamples = 95\\nvalue = [72, 23]'),\n",
       " Text(87.98102807332394, 104.53846153846153, 'gini = 0.0\\nsamples = 1\\nvalue = [0, 1]'),\n",
       " Text(89.35439046276119, 104.53846153846153, 'X[1] <= 148.643\\ngini = 0.359\\nsamples = 94\\nvalue = [72, 22]'),\n",
       " Text(86.86517113190618, 96.17538461538462, 'X[1] <= 147.349\\ngini = 0.204\\nsamples = 26\\nvalue = [23, 3]'),\n",
       " Text(86.17848993718755, 87.81230769230768, 'gini = 0.0\\nsamples = 8\\nvalue = [8, 0]'),\n",
       " Text(87.5518523266248, 87.81230769230768, 'X[1] <= 147.393\\ngini = 0.278\\nsamples = 18\\nvalue = [15, 3]'),\n",
       " Text(86.86517113190618, 79.44923076923078, 'gini = 0.0\\nsamples = 2\\nvalue = [0, 2]'),\n",
       " Text(88.23853352134343, 79.44923076923078, 'X[0] <= 65.707\\ngini = 0.117\\nsamples = 16\\nvalue = [15, 1]'),\n",
       " Text(87.5518523266248, 71.08615384615385, 'gini = 0.0\\nsamples = 14\\nvalue = [14, 0]'),\n",
       " Text(88.92521471606204, 71.08615384615385, 'X[1] <= 147.937\\ngini = 0.5\\nsamples = 2\\nvalue = [1, 1]'),\n",
       " Text(88.23853352134343, 62.72307692307692, 'gini = 0.0\\nsamples = 1\\nvalue = [1, 0]'),\n",
       " Text(89.61189591078067, 62.72307692307692, 'gini = 0.0\\nsamples = 1\\nvalue = [0, 1]'),\n",
       " Text(91.84360979361621, 96.17538461538462, 'X[1] <= 148.797\\ngini = 0.403\\nsamples = 68\\nvalue = [49, 19]'),\n",
       " Text(91.15692859889758, 87.81230769230768, 'gini = 0.0\\nsamples = 1\\nvalue = [0, 1]'),\n",
       " Text(92.53029098833484, 87.81230769230768, 'X[0] <= 64.701\\ngini = 0.393\\nsamples = 67\\nvalue = [49, 18]'),\n",
       " Text(91.84360979361621, 79.44923076923078, 'gini = 0.0\\nsamples = 7\\nvalue = [7, 0]'),\n",
       " Text(93.21697218305346, 79.44923076923078, 'X[0] <= 64.725\\ngini = 0.42\\nsamples = 60\\nvalue = [42, 18]'),\n",
       " Text(92.53029098833484, 71.08615384615385, 'gini = 0.0\\nsamples = 1\\nvalue = [0, 1]'),\n",
       " Text(93.90365337777209, 71.08615384615385, 'X[1] <= 150.297\\ngini = 0.41\\nsamples = 59\\nvalue = [42, 17]'),\n",
       " Text(90.98525830021792, 62.72307692307692, 'X[1] <= 149.782\\ngini = 0.476\\nsamples = 23\\nvalue = [14, 9]'),\n",
       " Text(89.26855531342136, 54.360000000000014, 'X[1] <= 149.398\\ngini = 0.415\\nsamples = 17\\nvalue = [12, 5]'),\n",
       " Text(88.58187411870274, 45.99692307692308, 'X[1] <= 149.235\\ngini = 0.486\\nsamples = 12\\nvalue = [7, 5]'),\n",
       " Text(87.20851172926548, 37.63384615384615, 'X[0] <= 64.927\\ngini = 0.375\\nsamples = 8\\nvalue = [6, 2]'),\n",
       " Text(86.52183053454687, 29.270769230769247, 'gini = 0.0\\nsamples = 1\\nvalue = [0, 1]'),\n",
       " Text(87.89519292398411, 29.270769230769247, 'X[0] <= 65.095\\ngini = 0.245\\nsamples = 7\\nvalue = [6, 1]'),\n",
       " Text(87.20851172926548, 20.907692307692315, 'gini = 0.0\\nsamples = 4\\nvalue = [4, 0]'),\n",
       " Text(88.58187411870274, 20.907692307692315, 'X[0] <= 65.158\\ngini = 0.444\\nsamples = 3\\nvalue = [2, 1]'),\n",
       " Text(87.89519292398411, 12.544615384615383, 'gini = 0.0\\nsamples = 1\\nvalue = [0, 1]'),\n",
       " Text(89.26855531342136, 12.544615384615383, 'gini = 0.0\\nsamples = 2\\nvalue = [2, 0]'),\n",
       " Text(89.95523650813999, 37.63384615384615, 'X[1] <= 149.291\\ngini = 0.375\\nsamples = 4\\nvalue = [1, 3]'),\n",
       " Text(89.26855531342136, 29.270769230769247, 'gini = 0.0\\nsamples = 2\\nvalue = [0, 2]'),\n",
       " Text(90.64191770285862, 29.270769230769247, 'X[0] <= 65.307\\ngini = 0.5\\nsamples = 2\\nvalue = [1, 1]'),\n",
       " Text(89.95523650813999, 20.907692307692315, 'gini = 0.0\\nsamples = 1\\nvalue = [0, 1]'),\n",
       " Text(91.32859889757724, 20.907692307692315, 'gini = 0.0\\nsamples = 1\\nvalue = [1, 0]'),\n",
       " Text(89.95523650813999, 45.99692307692308, 'gini = 0.0\\nsamples = 5\\nvalue = [5, 0]'),\n",
       " Text(92.7019612870145, 54.360000000000014, 'X[0] <= 65.515\\ngini = 0.444\\nsamples = 6\\nvalue = [2, 4]'),\n",
       " Text(92.01528009229587, 45.99692307692308, 'X[1] <= 149.941\\ngini = 0.32\\nsamples = 5\\nvalue = [1, 4]'),\n",
       " Text(91.32859889757724, 37.63384615384615, 'gini = 0.0\\nsamples = 2\\nvalue = [0, 2]'),\n",
       " Text(92.7019612870145, 37.63384615384615, 'X[1] <= 149.999\\ngini = 0.444\\nsamples = 3\\nvalue = [1, 2]'),\n",
       " Text(92.01528009229587, 29.270769230769247, 'gini = 0.0\\nsamples = 1\\nvalue = [1, 0]'),\n",
       " Text(93.38864248173311, 29.270769230769247, 'gini = 0.0\\nsamples = 2\\nvalue = [0, 2]'),\n",
       " Text(93.38864248173311, 45.99692307692308, 'gini = 0.0\\nsamples = 1\\nvalue = [1, 0]'),\n",
       " Text(96.82204845532625, 62.72307692307692, 'X[1] <= 150.954\\ngini = 0.346\\nsamples = 36\\nvalue = [28, 8]'),\n",
       " Text(95.44868606588899, 54.360000000000014, 'X[0] <= 65.113\\ngini = 0.142\\nsamples = 13\\nvalue = [12, 1]'),\n",
       " Text(94.76200487117038, 45.99692307692308, 'X[0] <= 64.956\\ngini = 0.444\\nsamples = 3\\nvalue = [2, 1]'),\n",
       " Text(94.07532367645175, 37.63384615384615, 'gini = 0.0\\nsamples = 2\\nvalue = [2, 0]'),\n",
       " Text(95.44868606588899, 37.63384615384615, 'gini = 0.0\\nsamples = 1\\nvalue = [0, 1]'),\n",
       " Text(96.13536726060762, 45.99692307692308, 'gini = 0.0\\nsamples = 10\\nvalue = [10, 0]'),\n",
       " Text(98.1954108447635, 54.360000000000014, 'X[1] <= 151.04\\ngini = 0.423\\nsamples = 23\\nvalue = [16, 7]'),\n",
       " Text(97.50872965004487, 45.99692307692308, 'gini = 0.0\\nsamples = 2\\nvalue = [0, 2]'),\n",
       " Text(98.88209203948213, 45.99692307692308, 'X[1] <= 151.616\\ngini = 0.363\\nsamples = 21\\nvalue = [16, 5]'),\n",
       " Text(97.50872965004487, 37.63384615384615, 'X[0] <= 64.996\\ngini = 0.18\\nsamples = 10\\nvalue = [9, 1]'),\n",
       " Text(96.82204845532625, 29.270769230769247, 'X[1] <= 151.472\\ngini = 0.5\\nsamples = 2\\nvalue = [1, 1]'),\n",
       " Text(96.13536726060762, 20.907692307692315, 'gini = 0.0\\nsamples = 1\\nvalue = [0, 1]'),\n",
       " Text(97.50872965004487, 20.907692307692315, 'gini = 0.0\\nsamples = 1\\nvalue = [1, 0]'),\n",
       " Text(98.1954108447635, 29.270769230769247, 'gini = 0.0\\nsamples = 8\\nvalue = [8, 0]'),\n",
       " Text(100.25545442891938, 37.63384615384615, 'X[1] <= 151.933\\ngini = 0.463\\nsamples = 11\\nvalue = [7, 4]'),\n",
       " Text(99.56877323420075, 29.270769230769247, 'gini = 0.0\\nsamples = 3\\nvalue = [0, 3]'),\n",
       " Text(100.94213562363801, 29.270769230769247, 'X[0] <= 65.284\\ngini = 0.219\\nsamples = 8\\nvalue = [7, 1]'),\n",
       " Text(100.25545442891938, 20.907692307692315, 'gini = 0.0\\nsamples = 6\\nvalue = [6, 0]'),\n",
       " Text(101.62881681835663, 20.907692307692315, 'X[0] <= 65.535\\ngini = 0.5\\nsamples = 2\\nvalue = [1, 1]'),\n",
       " Text(100.94213562363801, 12.544615384615383, 'gini = 0.0\\nsamples = 1\\nvalue = [0, 1]'),\n",
       " Text(102.31549801307526, 12.544615384615383, 'gini = 0.0\\nsamples = 1\\nvalue = [1, 0]'),\n",
       " Text(90.51316497884888, 146.35384615384615, 'X[0] <= 65.934\\ngini = 0.48\\nsamples = 5\\nvalue = [2, 3]'),\n",
       " Text(89.82648378413025, 137.99076923076922, 'X[0] <= 65.911\\ngini = 0.375\\nsamples = 4\\nvalue = [1, 3]'),\n",
       " Text(89.13980258941162, 129.6276923076923, 'X[0] <= 65.896\\ngini = 0.5\\nsamples = 2\\nvalue = [1, 1]'),\n",
       " Text(88.453121394693, 121.26461538461538, 'gini = 0.0\\nsamples = 1\\nvalue = [0, 1]'),\n",
       " Text(89.82648378413025, 121.26461538461538, 'gini = 0.0\\nsamples = 1\\nvalue = [1, 0]'),\n",
       " Text(90.51316497884888, 129.6276923076923, 'gini = 0.0\\nsamples = 2\\nvalue = [0, 2]'),\n",
       " Text(91.1998461735675, 137.99076923076922, 'gini = 0.0\\nsamples = 1\\nvalue = [1, 0]'),\n",
       " Text(100.81338289962827, 163.07999999999998, 'X[0] <= 64.795\\ngini = 0.49\\nsamples = 91\\nvalue = [52, 39]'),\n",
       " Text(96.00661453659788, 154.71692307692308, 'X[0] <= 63.742\\ngini = 0.498\\nsamples = 43\\nvalue = [20, 23]'),\n",
       " Text(93.25988975772337, 146.35384615384615, 'X[1] <= 153.822\\ngini = 0.444\\nsamples = 12\\nvalue = [8, 4]'),\n",
       " Text(92.57320856300475, 137.99076923076922, 'gini = 0.0\\nsamples = 3\\nvalue = [3, 0]'),\n",
       " Text(93.946570952442, 137.99076923076922, 'X[1] <= 155.461\\ngini = 0.494\\nsamples = 9\\nvalue = [5, 4]'),\n",
       " Text(93.25988975772337, 129.6276923076923, 'X[0] <= 63.084\\ngini = 0.49\\nsamples = 7\\nvalue = [3, 4]'),\n",
       " Text(92.57320856300475, 121.26461538461538, 'gini = 0.0\\nsamples = 1\\nvalue = [1, 0]'),\n",
       " Text(93.946570952442, 121.26461538461538, 'X[1] <= 154.729\\ngini = 0.444\\nsamples = 6\\nvalue = [2, 4]'),\n",
       " Text(93.25988975772337, 112.90153846153846, 'X[1] <= 154.135\\ngini = 0.444\\nsamples = 3\\nvalue = [2, 1]'),\n",
       " Text(92.57320856300475, 104.53846153846153, 'gini = 0.0\\nsamples = 1\\nvalue = [0, 1]'),\n",
       " Text(93.946570952442, 104.53846153846153, 'gini = 0.0\\nsamples = 2\\nvalue = [2, 0]'),\n",
       " Text(94.63325214716063, 112.90153846153846, 'gini = 0.0\\nsamples = 3\\nvalue = [0, 3]'),\n",
       " Text(94.63325214716063, 129.6276923076923, 'gini = 0.0\\nsamples = 2\\nvalue = [2, 0]'),\n",
       " Text(98.75333931547239, 146.35384615384615, 'X[1] <= 154.399\\ngini = 0.475\\nsamples = 31\\nvalue = [12, 19]'),\n",
       " Text(96.69329573131651, 137.99076923076922, 'X[0] <= 63.85\\ngini = 0.5\\nsamples = 18\\nvalue = [9, 9]'),\n",
       " Text(96.00661453659788, 129.6276923076923, 'gini = 0.0\\nsamples = 2\\nvalue = [2, 0]'),\n",
       " Text(97.37997692603513, 129.6276923076923, 'X[0] <= 63.976\\ngini = 0.492\\nsamples = 16\\nvalue = [7, 9]'),\n",
       " Text(96.69329573131651, 121.26461538461538, 'gini = 0.0\\nsamples = 3\\nvalue = [0, 3]'),\n",
       " Text(98.06665812075376, 121.26461538461538, 'X[0] <= 64.099\\ngini = 0.497\\nsamples = 13\\nvalue = [7, 6]'),\n",
       " Text(97.37997692603513, 112.90153846153846, 'gini = 0.0\\nsamples = 2\\nvalue = [2, 0]'),\n",
       " Text(98.75333931547239, 112.90153846153846, 'X[0] <= 64.222\\ngini = 0.496\\nsamples = 11\\nvalue = [5, 6]'),\n",
       " Text(98.06665812075376, 104.53846153846153, 'gini = 0.0\\nsamples = 2\\nvalue = [0, 2]'),\n",
       " Text(99.440020510191, 104.53846153846153, 'X[1] <= 153.071\\ngini = 0.494\\nsamples = 9\\nvalue = [5, 4]'),\n",
       " Text(98.75333931547239, 96.17538461538462, 'gini = 0.0\\nsamples = 3\\nvalue = [3, 0]'),\n",
       " Text(100.12670170490964, 96.17538461538462, 'X[1] <= 154.0\\ngini = 0.444\\nsamples = 6\\nvalue = [2, 4]'),\n",
       " Text(99.440020510191, 87.81230769230768, 'X[0] <= 64.551\\ngini = 0.32\\nsamples = 5\\nvalue = [1, 4]'),\n",
       " Text(98.75333931547239, 79.44923076923078, 'gini = 0.0\\nsamples = 2\\nvalue = [0, 2]'),\n",
       " Text(100.12670170490964, 79.44923076923078, 'X[0] <= 64.591\\ngini = 0.444\\nsamples = 3\\nvalue = [1, 2]'),\n",
       " Text(99.440020510191, 71.08615384615385, 'gini = 0.0\\nsamples = 1\\nvalue = [1, 0]'),\n",
       " Text(100.81338289962827, 71.08615384615385, 'gini = 0.0\\nsamples = 2\\nvalue = [0, 2]'),\n",
       " Text(100.81338289962827, 87.81230769230768, 'gini = 0.0\\nsamples = 1\\nvalue = [1, 0]'),\n",
       " Text(100.81338289962827, 137.99076923076922, 'X[0] <= 64.332\\ngini = 0.355\\nsamples = 13\\nvalue = [3, 10]'),\n",
       " Text(100.12670170490964, 129.6276923076923, 'gini = 0.0\\nsamples = 7\\nvalue = [0, 7]'),\n",
       " Text(101.50006409434688, 129.6276923076923, 'X[1] <= 155.619\\ngini = 0.5\\nsamples = 6\\nvalue = [3, 3]'),\n",
       " Text(100.81338289962827, 121.26461538461538, 'X[1] <= 154.786\\ngini = 0.375\\nsamples = 4\\nvalue = [3, 1]'),\n",
       " Text(100.12670170490964, 112.90153846153846, 'gini = 0.0\\nsamples = 1\\nvalue = [0, 1]'),\n",
       " Text(101.50006409434688, 112.90153846153846, 'gini = 0.0\\nsamples = 3\\nvalue = [3, 0]'),\n",
       " Text(102.18674528906551, 121.26461538461538, 'gini = 0.0\\nsamples = 2\\nvalue = [0, 2]'),\n",
       " Text(105.62015126265864, 154.71692307692308, 'X[0] <= 64.97\\ngini = 0.444\\nsamples = 48\\nvalue = [32, 16]'),\n",
       " Text(102.87342648378414, 146.35384615384615, 'X[1] <= 154.896\\ngini = 0.18\\nsamples = 10\\nvalue = [9, 1]'),\n",
       " Text(102.18674528906551, 137.99076923076922, 'gini = 0.0\\nsamples = 8\\nvalue = [8, 0]'),\n",
       " Text(103.56010767850276, 137.99076923076922, 'X[0] <= 64.91\\ngini = 0.5\\nsamples = 2\\nvalue = [1, 1]'),\n",
       " Text(102.87342648378414, 129.6276923076923, 'gini = 0.0\\nsamples = 1\\nvalue = [0, 1]'),\n",
       " Text(104.24678887322139, 129.6276923076923, 'gini = 0.0\\nsamples = 1\\nvalue = [1, 0]'),\n",
       " Text(108.36687604153315, 146.35384615384615, 'X[1] <= 153.373\\ngini = 0.478\\nsamples = 38\\nvalue = [23, 15]'),\n",
       " Text(106.30683245737727, 137.99076923076922, 'X[0] <= 65.323\\ngini = 0.375\\nsamples = 8\\nvalue = [2, 6]'),\n",
       " Text(105.62015126265864, 129.6276923076923, 'gini = 0.0\\nsamples = 4\\nvalue = [0, 4]'),\n",
       " Text(106.9935136520959, 129.6276923076923, 'X[0] <= 65.554\\ngini = 0.5\\nsamples = 4\\nvalue = [2, 2]'),\n",
       " Text(106.30683245737727, 121.26461538461538, 'gini = 0.0\\nsamples = 1\\nvalue = [1, 0]'),\n",
       " Text(107.68019484681452, 121.26461538461538, 'X[1] <= 152.798\\ngini = 0.444\\nsamples = 3\\nvalue = [1, 2]'),\n",
       " Text(106.9935136520959, 112.90153846153846, 'gini = 0.0\\nsamples = 1\\nvalue = [1, 0]'),\n",
       " Text(108.36687604153315, 112.90153846153846, 'gini = 0.0\\nsamples = 2\\nvalue = [0, 2]'),\n",
       " Text(110.42691962568902, 137.99076923076922, 'X[0] <= 64.997\\ngini = 0.42\\nsamples = 30\\nvalue = [21, 9]'),\n",
       " Text(109.7402384309704, 129.6276923076923, 'gini = 0.0\\nsamples = 1\\nvalue = [0, 1]'),\n",
       " Text(111.11360082040765, 129.6276923076923, 'X[1] <= 154.498\\ngini = 0.4\\nsamples = 29\\nvalue = [21, 8]'),\n",
       " Text(110.42691962568902, 121.26461538461538, 'gini = 0.0\\nsamples = 6\\nvalue = [6, 0]'),\n",
       " Text(111.80028201512627, 121.26461538461538, 'X[1] <= 155.253\\ngini = 0.454\\nsamples = 23\\nvalue = [15, 8]'),\n",
       " Text(109.7402384309704, 112.90153846153846, 'X[1] <= 154.754\\ngini = 0.48\\nsamples = 10\\nvalue = [4, 6]'),\n",
       " Text(109.05355723625178, 104.53846153846153, 'gini = 0.0\\nsamples = 2\\nvalue = [0, 2]'),\n",
       " Text(110.42691962568902, 104.53846153846153, 'X[0] <= 65.055\\ngini = 0.5\\nsamples = 8\\nvalue = [4, 4]'),\n",
       " Text(109.7402384309704, 96.17538461538462, 'gini = 0.0\\nsamples = 1\\nvalue = [0, 1]'),\n",
       " Text(111.11360082040765, 96.17538461538462, 'X[1] <= 155.023\\ngini = 0.49\\nsamples = 7\\nvalue = [4, 3]'),\n",
       " Text(110.42691962568902, 87.81230769230768, 'gini = 0.0\\nsamples = 2\\nvalue = [2, 0]'),\n",
       " Text(111.80028201512627, 87.81230769230768, 'X[0] <= 65.792\\ngini = 0.48\\nsamples = 5\\nvalue = [2, 3]'),\n",
       " Text(111.11360082040765, 79.44923076923078, 'X[1] <= 155.17\\ngini = 0.375\\nsamples = 4\\nvalue = [1, 3]'),\n",
       " Text(110.42691962568902, 71.08615384615385, 'X[1] <= 155.151\\ngini = 0.5\\nsamples = 2\\nvalue = [1, 1]'),\n",
       " Text(109.7402384309704, 62.72307692307692, 'gini = 0.0\\nsamples = 1\\nvalue = [0, 1]'),\n",
       " Text(111.11360082040765, 62.72307692307692, 'gini = 0.0\\nsamples = 1\\nvalue = [1, 0]'),\n",
       " Text(111.80028201512627, 71.08615384615385, 'gini = 0.0\\nsamples = 2\\nvalue = [0, 2]'),\n",
       " Text(112.4869632098449, 79.44923076923078, 'gini = 0.0\\nsamples = 1\\nvalue = [1, 0]'),\n",
       " Text(113.86032559928215, 112.90153846153846, 'X[0] <= 65.407\\ngini = 0.26\\nsamples = 13\\nvalue = [11, 2]'),\n",
       " Text(113.17364440456353, 104.53846153846153, 'X[0] <= 65.247\\ngini = 0.408\\nsamples = 7\\nvalue = [5, 2]'),\n",
       " Text(112.4869632098449, 96.17538461538462, 'gini = 0.0\\nsamples = 5\\nvalue = [5, 0]'),\n",
       " Text(113.86032559928215, 96.17538461538462, 'gini = 0.0\\nsamples = 2\\nvalue = [0, 2]'),\n",
       " Text(114.54700679400078, 104.53846153846153, 'gini = 0.0\\nsamples = 6\\nvalue = [6, 0]'),\n",
       " Text(119.86878605307012, 179.80615384615385, 'X[0] <= 65.458\\ngini = 0.423\\nsamples = 138\\nvalue = [42, 96]'),\n",
       " Text(115.57702858607871, 171.44307692307692, 'X[1] <= 161.426\\ngini = 0.343\\nsamples = 100\\nvalue = [22, 78]'),\n",
       " Text(114.8903473913601, 163.07999999999998, 'X[1] <= 156.585\\ngini = 0.334\\nsamples = 99\\nvalue = [21, 78]'),\n",
       " Text(114.20366619664146, 154.71692307692308, 'gini = 0.0\\nsamples = 9\\nvalue = [0, 9]'),\n",
       " Text(115.57702858607871, 154.71692307692308, 'X[1] <= 156.678\\ngini = 0.358\\nsamples = 90\\nvalue = [21, 69]'),\n",
       " Text(114.8903473913601, 146.35384615384615, 'gini = 0.0\\nsamples = 1\\nvalue = [1, 0]'),\n",
       " Text(116.26370978079734, 146.35384615384615, 'X[0] <= 62.938\\ngini = 0.348\\nsamples = 89\\nvalue = [20, 69]'),\n",
       " Text(114.54700679400078, 137.99076923076922, 'X[0] <= 62.571\\ngini = 0.5\\nsamples = 6\\nvalue = [3, 3]'),\n",
       " Text(113.86032559928215, 129.6276923076923, 'gini = 0.0\\nsamples = 3\\nvalue = [0, 3]'),\n",
       " Text(115.23368798871941, 129.6276923076923, 'gini = 0.0\\nsamples = 3\\nvalue = [3, 0]'),\n",
       " Text(117.9804127675939, 137.99076923076922, 'X[0] <= 63.82\\ngini = 0.326\\nsamples = 83\\nvalue = [17, 66]'),\n",
       " Text(116.60705037815666, 129.6276923076923, 'X[0] <= 63.302\\ngini = 0.091\\nsamples = 21\\nvalue = [1, 20]'),\n",
       " Text(115.92036918343803, 121.26461538461538, 'X[0] <= 63.264\\ngini = 0.375\\nsamples = 4\\nvalue = [1, 3]'),\n",
       " Text(115.23368798871941, 112.90153846153846, 'gini = 0.0\\nsamples = 3\\nvalue = [0, 3]'),\n",
       " Text(116.60705037815666, 112.90153846153846, 'gini = 0.0\\nsamples = 1\\nvalue = [1, 0]'),\n",
       " Text(117.29373157287529, 121.26461538461538, 'gini = 0.0\\nsamples = 17\\nvalue = [0, 17]'),\n",
       " Text(119.35377515703117, 129.6276923076923, 'X[1] <= 160.888\\ngini = 0.383\\nsamples = 62\\nvalue = [16, 46]'),\n",
       " Text(118.66709396231253, 121.26461538461538, 'X[1] <= 156.767\\ngini = 0.422\\nsamples = 53\\nvalue = [16, 37]'),\n",
       " Text(117.9804127675939, 112.90153846153846, 'gini = 0.0\\nsamples = 1\\nvalue = [1, 0]'),\n",
       " Text(119.35377515703117, 112.90153846153846, 'X[1] <= 160.786\\ngini = 0.411\\nsamples = 52\\nvalue = [15, 37]'),\n",
       " Text(118.66709396231253, 104.53846153846153, 'X[0] <= 63.899\\ngini = 0.398\\nsamples = 51\\nvalue = [14, 37]'),\n",
       " Text(117.9804127675939, 96.17538461538462, 'gini = 0.0\\nsamples = 1\\nvalue = [1, 0]'),\n",
       " Text(119.35377515703117, 96.17538461538462, 'X[1] <= 156.977\\ngini = 0.385\\nsamples = 50\\nvalue = [13, 37]'),\n",
       " Text(116.60705037815666, 87.81230769230768, 'X[0] <= 64.199\\ngini = 0.5\\nsamples = 4\\nvalue = [2, 2]'),\n",
       " Text(115.92036918343803, 79.44923076923078, 'gini = 0.0\\nsamples = 1\\nvalue = [0, 1]'),\n",
       " Text(117.29373157287529, 79.44923076923078, 'X[1] <= 156.859\\ngini = 0.444\\nsamples = 3\\nvalue = [2, 1]'),\n",
       " Text(116.60705037815666, 71.08615384615385, 'gini = 0.0\\nsamples = 1\\nvalue = [1, 0]'),\n",
       " Text(117.9804127675939, 71.08615384615385, 'X[0] <= 64.705\\ngini = 0.5\\nsamples = 2\\nvalue = [1, 1]'),\n",
       " Text(117.29373157287529, 62.72307692307692, 'gini = 0.0\\nsamples = 1\\nvalue = [0, 1]'),\n",
       " Text(118.66709396231253, 62.72307692307692, 'gini = 0.0\\nsamples = 1\\nvalue = [1, 0]'),\n",
       " Text(122.10049993590566, 87.81230769230768, 'X[1] <= 157.583\\ngini = 0.364\\nsamples = 46\\nvalue = [11, 35]'),\n",
       " Text(121.41381874118704, 79.44923076923078, 'gini = 0.0\\nsamples = 7\\nvalue = [0, 7]'),\n",
       " Text(122.78718113062429, 79.44923076923078, 'X[1] <= 157.991\\ngini = 0.405\\nsamples = 39\\nvalue = [11, 28]'),\n",
       " Text(120.72713754646841, 71.08615384615385, 'X[1] <= 157.806\\ngini = 0.48\\nsamples = 5\\nvalue = [3, 2]'),\n",
       " Text(120.04045635174978, 62.72307692307692, 'X[1] <= 157.637\\ngini = 0.444\\nsamples = 3\\nvalue = [1, 2]'),\n",
       " Text(119.35377515703117, 54.360000000000014, 'gini = 0.0\\nsamples = 1\\nvalue = [1, 0]'),\n",
       " Text(120.72713754646841, 54.360000000000014, 'gini = 0.0\\nsamples = 2\\nvalue = [0, 2]'),\n",
       " Text(121.41381874118704, 62.72307692307692, 'gini = 0.0\\nsamples = 2\\nvalue = [2, 0]'),\n",
       " Text(124.84722471478017, 71.08615384615385, 'X[1] <= 159.326\\ngini = 0.36\\nsamples = 34\\nvalue = [8, 26]'),\n",
       " Text(122.78718113062429, 62.72307692307692, 'X[0] <= 65.39\\ngini = 0.208\\nsamples = 17\\nvalue = [2, 15]'),\n",
       " Text(122.10049993590566, 54.360000000000014, 'X[1] <= 158.512\\ngini = 0.117\\nsamples = 16\\nvalue = [1, 15]'),\n",
       " Text(121.41381874118704, 45.99692307692308, 'X[1] <= 158.429\\ngini = 0.245\\nsamples = 7\\nvalue = [1, 6]'),\n",
       " Text(120.72713754646841, 37.63384615384615, 'gini = 0.0\\nsamples = 6\\nvalue = [0, 6]'),\n",
       " Text(122.10049993590566, 37.63384615384615, 'gini = 0.0\\nsamples = 1\\nvalue = [1, 0]'),\n",
       " Text(122.78718113062429, 45.99692307692308, 'gini = 0.0\\nsamples = 9\\nvalue = [0, 9]'),\n",
       " Text(123.47386232534292, 54.360000000000014, 'gini = 0.0\\nsamples = 1\\nvalue = [1, 0]'),\n",
       " Text(126.90726829893605, 62.72307692307692, 'X[1] <= 160.133\\ngini = 0.457\\nsamples = 17\\nvalue = [6, 11]'),\n",
       " Text(125.5339059094988, 54.360000000000014, 'X[0] <= 65.052\\ngini = 0.494\\nsamples = 9\\nvalue = [5, 4]'),\n",
       " Text(124.84722471478017, 45.99692307692308, 'X[0] <= 64.281\\ngini = 0.469\\nsamples = 8\\nvalue = [5, 3]'),\n",
       " Text(123.47386232534292, 37.63384615384615, 'X[0] <= 63.966\\ngini = 0.444\\nsamples = 3\\nvalue = [1, 2]'),\n",
       " Text(122.78718113062429, 29.270769230769247, 'gini = 0.0\\nsamples = 1\\nvalue = [1, 0]'),\n",
       " Text(124.16054352006154, 29.270769230769247, 'gini = 0.0\\nsamples = 2\\nvalue = [0, 2]'),\n",
       " Text(126.22058710421742, 37.63384615384615, 'X[0] <= 64.725\\ngini = 0.32\\nsamples = 5\\nvalue = [4, 1]'),\n",
       " Text(125.5339059094988, 29.270769230769247, 'gini = 0.0\\nsamples = 3\\nvalue = [3, 0]'),\n",
       " Text(126.90726829893605, 29.270769230769247, 'X[1] <= 159.754\\ngini = 0.5\\nsamples = 2\\nvalue = [1, 1]'),\n",
       " Text(126.22058710421742, 20.907692307692315, 'gini = 0.0\\nsamples = 1\\nvalue = [1, 0]'),\n",
       " Text(127.59394949365468, 20.907692307692315, 'gini = 0.0\\nsamples = 1\\nvalue = [0, 1]'),\n",
       " Text(126.22058710421742, 45.99692307692308, 'gini = 0.0\\nsamples = 1\\nvalue = [0, 1]'),\n",
       " Text(128.2806306883733, 54.360000000000014, 'X[0] <= 65.187\\ngini = 0.219\\nsamples = 8\\nvalue = [1, 7]'),\n",
       " Text(127.59394949365468, 45.99692307692308, 'gini = 0.0\\nsamples = 5\\nvalue = [0, 5]'),\n",
       " Text(128.96731188309192, 45.99692307692308, 'X[0] <= 65.35\\ngini = 0.444\\nsamples = 3\\nvalue = [1, 2]'),\n",
       " Text(128.2806306883733, 37.63384615384615, 'gini = 0.0\\nsamples = 1\\nvalue = [1, 0]'),\n",
       " Text(129.65399307781055, 37.63384615384615, 'gini = 0.0\\nsamples = 2\\nvalue = [0, 2]'),\n",
       " Text(120.04045635174978, 104.53846153846153, 'gini = 0.0\\nsamples = 1\\nvalue = [1, 0]'),\n",
       " Text(120.04045635174978, 121.26461538461538, 'gini = 0.0\\nsamples = 9\\nvalue = [0, 9]'),\n",
       " Text(116.26370978079734, 163.07999999999998, 'gini = 0.0\\nsamples = 1\\nvalue = [1, 0]'),\n",
       " Text(124.16054352006154, 171.44307692307692, 'X[0] <= 65.815\\ngini = 0.499\\nsamples = 38\\nvalue = [20, 18]'),\n",
       " Text(122.78718113062429, 163.07999999999998, 'X[1] <= 160.974\\ngini = 0.473\\nsamples = 26\\nvalue = [16, 10]'),\n",
       " Text(122.10049993590566, 154.71692307692308, 'X[1] <= 158.772\\ngini = 0.444\\nsamples = 24\\nvalue = [16, 8]'),\n",
       " Text(120.72713754646841, 146.35384615384615, 'X[0] <= 65.521\\ngini = 0.494\\nsamples = 9\\nvalue = [4, 5]'),\n",
       " Text(120.04045635174978, 137.99076923076922, 'gini = 0.0\\nsamples = 2\\nvalue = [0, 2]'),\n",
       " Text(121.41381874118704, 137.99076923076922, 'X[1] <= 156.578\\ngini = 0.49\\nsamples = 7\\nvalue = [4, 3]'),\n",
       " Text(120.72713754646841, 129.6276923076923, 'gini = 0.0\\nsamples = 1\\nvalue = [0, 1]'),\n",
       " Text(122.10049993590566, 129.6276923076923, 'X[1] <= 157.877\\ngini = 0.444\\nsamples = 6\\nvalue = [4, 2]'),\n",
       " Text(121.41381874118704, 121.26461538461538, 'gini = 0.0\\nsamples = 3\\nvalue = [3, 0]'),\n",
       " Text(122.78718113062429, 121.26461538461538, 'X[0] <= 65.535\\ngini = 0.444\\nsamples = 3\\nvalue = [1, 2]'),\n",
       " Text(122.10049993590566, 112.90153846153846, 'gini = 0.0\\nsamples = 1\\nvalue = [1, 0]'),\n",
       " Text(123.47386232534292, 112.90153846153846, 'gini = 0.0\\nsamples = 2\\nvalue = [0, 2]'),\n",
       " Text(123.47386232534292, 146.35384615384615, 'X[1] <= 159.913\\ngini = 0.32\\nsamples = 15\\nvalue = [12, 3]'),\n",
       " Text(122.78718113062429, 137.99076923076922, 'gini = 0.0\\nsamples = 8\\nvalue = [8, 0]'),\n",
       " Text(124.16054352006154, 137.99076923076922, 'X[1] <= 160.247\\ngini = 0.49\\nsamples = 7\\nvalue = [4, 3]'),\n",
       " Text(123.47386232534292, 129.6276923076923, 'gini = 0.0\\nsamples = 3\\nvalue = [0, 3]'),\n",
       " Text(124.84722471478017, 129.6276923076923, 'gini = 0.0\\nsamples = 4\\nvalue = [4, 0]'),\n",
       " Text(123.47386232534292, 154.71692307692308, 'gini = 0.0\\nsamples = 2\\nvalue = [0, 2]'),\n",
       " Text(125.5339059094988, 163.07999999999998, 'X[0] <= 65.86\\ngini = 0.444\\nsamples = 12\\nvalue = [4, 8]'),\n",
       " Text(124.84722471478017, 154.71692307692308, 'gini = 0.0\\nsamples = 4\\nvalue = [0, 4]'),\n",
       " Text(126.22058710421742, 154.71692307692308, 'X[0] <= 65.876\\ngini = 0.5\\nsamples = 8\\nvalue = [4, 4]'),\n",
       " Text(125.5339059094988, 146.35384615384615, 'gini = 0.0\\nsamples = 2\\nvalue = [2, 0]'),\n",
       " Text(126.90726829893605, 146.35384615384615, 'X[1] <= 158.708\\ngini = 0.444\\nsamples = 6\\nvalue = [2, 4]'),\n",
       " Text(126.22058710421742, 137.99076923076922, 'gini = 0.0\\nsamples = 2\\nvalue = [0, 2]'),\n",
       " Text(127.59394949365468, 137.99076923076922, 'X[0] <= 65.92\\ngini = 0.5\\nsamples = 4\\nvalue = [2, 2]'),\n",
       " Text(126.90726829893605, 129.6276923076923, 'gini = 0.0\\nsamples = 2\\nvalue = [2, 0]'),\n",
       " Text(128.2806306883733, 129.6276923076923, 'gini = 0.0\\nsamples = 2\\nvalue = [0, 2]'),\n",
       " Text(150.7694398154083, 188.16923076923078, 'X[1] <= 157.886\\ngini = 0.328\\nsamples = 295\\nvalue = [234, 61]'),\n",
       " Text(139.6108704012306, 179.80615384615385, 'X[1] <= 146.418\\ngini = 0.271\\nsamples = 210\\nvalue = [176, 34]'),\n",
       " Text(138.924189206512, 171.44307692307692, 'gini = 0.0\\nsamples = 2\\nvalue = [0, 2]'),\n",
       " Text(140.29755159594924, 171.44307692307692, 'X[1] <= 154.084\\ngini = 0.26\\nsamples = 208\\nvalue = [176, 32]'),\n",
       " Text(133.94575054480197, 163.07999999999998, 'X[0] <= 66.316\\ngini = 0.195\\nsamples = 119\\nvalue = [106, 13]'),\n",
       " Text(131.71403666196642, 154.71692307692308, 'X[0] <= 66.281\\ngini = 0.32\\nsamples = 30\\nvalue = [24, 6]'),\n",
       " Text(131.0273554672478, 146.35384615384615, 'X[0] <= 66.181\\ngini = 0.245\\nsamples = 28\\nvalue = [24, 4]'),\n",
       " Text(130.34067427252918, 137.99076923076922, 'X[0] <= 66.17\\ngini = 0.332\\nsamples = 19\\nvalue = [15, 4]'),\n",
       " Text(129.65399307781055, 129.6276923076923, 'X[0] <= 66.062\\ngini = 0.208\\nsamples = 17\\nvalue = [15, 2]'),\n",
       " Text(128.96731188309192, 121.26461538461538, 'gini = 0.0\\nsamples = 7\\nvalue = [7, 0]'),\n",
       " Text(130.34067427252918, 121.26461538461538, 'X[0] <= 66.069\\ngini = 0.32\\nsamples = 10\\nvalue = [8, 2]'),\n",
       " Text(129.65399307781055, 112.90153846153846, 'gini = 0.0\\nsamples = 1\\nvalue = [0, 1]'),\n",
       " Text(131.0273554672478, 112.90153846153846, 'X[0] <= 66.144\\ngini = 0.198\\nsamples = 9\\nvalue = [8, 1]'),\n",
       " Text(130.34067427252918, 104.53846153846153, 'gini = 0.0\\nsamples = 5\\nvalue = [5, 0]'),\n",
       " Text(131.71403666196642, 104.53846153846153, 'X[0] <= 66.158\\ngini = 0.375\\nsamples = 4\\nvalue = [3, 1]'),\n",
       " Text(131.0273554672478, 96.17538461538462, 'gini = 0.0\\nsamples = 1\\nvalue = [0, 1]'),\n",
       " Text(132.40071785668505, 96.17538461538462, 'gini = 0.0\\nsamples = 3\\nvalue = [3, 0]'),\n",
       " Text(131.0273554672478, 129.6276923076923, 'gini = 0.0\\nsamples = 2\\nvalue = [0, 2]'),\n",
       " Text(131.71403666196642, 137.99076923076922, 'gini = 0.0\\nsamples = 9\\nvalue = [9, 0]'),\n",
       " Text(132.40071785668505, 146.35384615384615, 'gini = 0.0\\nsamples = 2\\nvalue = [0, 2]'),\n",
       " Text(136.1774644276375, 154.71692307692308, 'X[0] <= 66.914\\ngini = 0.145\\nsamples = 89\\nvalue = [82, 7]'),\n",
       " Text(134.46076144084094, 146.35384615384615, 'X[1] <= 153.284\\ngini = 0.048\\nsamples = 41\\nvalue = [40, 1]'),\n",
       " Text(133.7740802461223, 137.99076923076922, 'gini = 0.0\\nsamples = 37\\nvalue = [37, 0]'),\n",
       " Text(135.14744263555954, 137.99076923076922, 'X[0] <= 66.394\\ngini = 0.375\\nsamples = 4\\nvalue = [3, 1]'),\n",
       " Text(134.46076144084094, 129.6276923076923, 'gini = 0.0\\nsamples = 1\\nvalue = [0, 1]'),\n",
       " Text(135.83412383027817, 129.6276923076923, 'gini = 0.0\\nsamples = 3\\nvalue = [3, 0]'),\n",
       " Text(137.89416741443407, 146.35384615384615, 'X[0] <= 66.971\\ngini = 0.219\\nsamples = 48\\nvalue = [42, 6]'),\n",
       " Text(137.20748621971543, 137.99076923076922, 'gini = 0.0\\nsamples = 1\\nvalue = [0, 1]'),\n",
       " Text(138.5808486091527, 137.99076923076922, 'X[0] <= 68.801\\ngini = 0.19\\nsamples = 47\\nvalue = [42, 5]'),\n",
       " Text(137.20748621971543, 129.6276923076923, 'X[1] <= 153.065\\ngini = 0.165\\nsamples = 44\\nvalue = [40, 4]'),\n",
       " Text(136.5208050249968, 121.26461538461538, 'X[1] <= 152.54\\ngini = 0.231\\nsamples = 30\\nvalue = [26, 4]'),\n",
       " Text(135.14744263555954, 112.90153846153846, 'X[1] <= 149.642\\ngini = 0.137\\nsamples = 27\\nvalue = [25, 2]'),\n",
       " Text(134.46076144084094, 104.53846153846153, 'X[1] <= 149.323\\ngini = 0.32\\nsamples = 10\\nvalue = [8, 2]'),\n",
       " Text(133.7740802461223, 96.17538461538462, 'X[0] <= 67.127\\ngini = 0.198\\nsamples = 9\\nvalue = [8, 1]'),\n",
       " Text(133.08739905140368, 87.81230769230768, 'X[1] <= 147.668\\ngini = 0.444\\nsamples = 3\\nvalue = [2, 1]'),\n",
       " Text(132.40071785668505, 79.44923076923078, 'gini = 0.0\\nsamples = 1\\nvalue = [0, 1]'),\n",
       " Text(133.7740802461223, 79.44923076923078, 'gini = 0.0\\nsamples = 2\\nvalue = [2, 0]'),\n",
       " Text(134.46076144084094, 87.81230769230768, 'gini = 0.0\\nsamples = 6\\nvalue = [6, 0]'),\n",
       " Text(135.14744263555954, 96.17538461538462, 'gini = 0.0\\nsamples = 1\\nvalue = [0, 1]'),\n",
       " Text(135.83412383027817, 104.53846153846153, 'gini = 0.0\\nsamples = 17\\nvalue = [17, 0]'),\n",
       " Text(137.89416741443407, 112.90153846153846, 'X[0] <= 67.792\\ngini = 0.444\\nsamples = 3\\nvalue = [1, 2]'),\n",
       " Text(137.20748621971543, 104.53846153846153, 'gini = 0.0\\nsamples = 1\\nvalue = [1, 0]'),\n",
       " Text(138.5808486091527, 104.53846153846153, 'gini = 0.0\\nsamples = 2\\nvalue = [0, 2]'),\n",
       " Text(137.89416741443407, 121.26461538461538, 'gini = 0.0\\nsamples = 14\\nvalue = [14, 0]'),\n",
       " Text(139.95421099858993, 129.6276923076923, 'X[1] <= 152.949\\ngini = 0.444\\nsamples = 3\\nvalue = [2, 1]'),\n",
       " Text(139.2675298038713, 121.26461538461538, 'gini = 0.0\\nsamples = 2\\nvalue = [2, 0]'),\n",
       " Text(140.64089219330856, 121.26461538461538, 'gini = 0.0\\nsamples = 1\\nvalue = [0, 1]'),\n",
       " Text(146.64935264709655, 163.07999999999998, 'X[1] <= 154.15\\ngini = 0.336\\nsamples = 89\\nvalue = [70, 19]'),\n",
       " Text(145.96267145237792, 154.71692307692308, 'gini = 0.0\\nsamples = 1\\nvalue = [0, 1]'),\n",
       " Text(147.33603384181515, 154.71692307692308, 'X[0] <= 66.18\\ngini = 0.325\\nsamples = 88\\nvalue = [70, 18]'),\n",
       " Text(146.64935264709655, 146.35384615384615, 'gini = 0.0\\nsamples = 11\\nvalue = [11, 0]'),\n",
       " Text(148.02271503653378, 146.35384615384615, 'X[0] <= 66.781\\ngini = 0.358\\nsamples = 77\\nvalue = [59, 18]'),\n",
       " Text(144.07429816690168, 137.99076923076922, 'X[0] <= 66.616\\ngini = 0.466\\nsamples = 27\\nvalue = [17, 10]'),\n",
       " Text(143.38761697218305, 129.6276923076923, 'X[0] <= 66.28\\ngini = 0.308\\nsamples = 21\\nvalue = [17, 4]'),\n",
       " Text(142.01425458274582, 121.26461538461538, 'X[0] <= 66.184\\ngini = 0.5\\nsamples = 6\\nvalue = [3, 3]'),\n",
       " Text(141.3275733880272, 112.90153846153846, 'gini = 0.0\\nsamples = 1\\nvalue = [0, 1]'),\n",
       " Text(142.70093577746445, 112.90153846153846, 'X[0] <= 66.236\\ngini = 0.48\\nsamples = 5\\nvalue = [3, 2]'),\n",
       " Text(142.01425458274582, 104.53846153846153, 'gini = 0.0\\nsamples = 2\\nvalue = [2, 0]'),\n",
       " Text(143.38761697218305, 104.53846153846153, 'X[1] <= 154.401\\ngini = 0.444\\nsamples = 3\\nvalue = [1, 2]'),\n",
       " Text(142.70093577746445, 96.17538461538462, 'gini = 0.0\\nsamples = 1\\nvalue = [0, 1]'),\n",
       " Text(144.07429816690168, 96.17538461538462, 'X[1] <= 154.498\\ngini = 0.5\\nsamples = 2\\nvalue = [1, 1]'),\n",
       " Text(143.38761697218305, 87.81230769230768, 'gini = 0.0\\nsamples = 1\\nvalue = [1, 0]'),\n",
       " Text(144.76097936162031, 87.81230769230768, 'gini = 0.0\\nsamples = 1\\nvalue = [0, 1]'),\n",
       " Text(144.76097936162031, 121.26461538461538, 'X[1] <= 157.06\\ngini = 0.124\\nsamples = 15\\nvalue = [14, 1]'),\n",
       " Text(144.07429816690168, 112.90153846153846, 'gini = 0.0\\nsamples = 12\\nvalue = [12, 0]'),\n",
       " Text(145.44766055633895, 112.90153846153846, 'X[0] <= 66.396\\ngini = 0.444\\nsamples = 3\\nvalue = [2, 1]'),\n",
       " Text(144.76097936162031, 104.53846153846153, 'gini = 0.0\\nsamples = 2\\nvalue = [2, 0]'),\n",
       " Text(146.13434175105758, 104.53846153846153, 'gini = 0.0\\nsamples = 1\\nvalue = [0, 1]'),\n",
       " Text(144.76097936162031, 129.6276923076923, 'gini = 0.0\\nsamples = 6\\nvalue = [0, 6]'),\n",
       " Text(151.97113190616588, 137.99076923076922, 'X[1] <= 156.567\\ngini = 0.269\\nsamples = 50\\nvalue = [42, 8]'),\n",
       " Text(150.25442891936933, 129.6276923076923, 'X[1] <= 156.532\\ngini = 0.334\\nsamples = 33\\nvalue = [26, 7]'),\n",
       " Text(149.5677477246507, 121.26461538461538, 'X[0] <= 67.278\\ngini = 0.305\\nsamples = 32\\nvalue = [26, 6]'),\n",
       " Text(148.19438533521344, 112.90153846153846, 'X[1] <= 155.582\\ngini = 0.124\\nsamples = 15\\nvalue = [14, 1]'),\n",
       " Text(147.5077041404948, 104.53846153846153, 'X[1] <= 155.425\\ngini = 0.245\\nsamples = 7\\nvalue = [6, 1]'),\n",
       " Text(146.8210229457762, 96.17538461538462, 'gini = 0.0\\nsamples = 6\\nvalue = [6, 0]'),\n",
       " Text(148.19438533521344, 96.17538461538462, 'gini = 0.0\\nsamples = 1\\nvalue = [0, 1]'),\n",
       " Text(148.88106652993207, 104.53846153846153, 'gini = 0.0\\nsamples = 8\\nvalue = [8, 0]'),\n",
       " Text(150.94111011408796, 112.90153846153846, 'X[0] <= 67.337\\ngini = 0.415\\nsamples = 17\\nvalue = [12, 5]'),\n",
       " Text(150.25442891936933, 104.53846153846153, 'gini = 0.0\\nsamples = 2\\nvalue = [0, 2]'),\n",
       " Text(151.62779130880656, 104.53846153846153, 'X[1] <= 155.378\\ngini = 0.32\\nsamples = 15\\nvalue = [12, 3]'),\n",
       " Text(149.5677477246507, 96.17538461538462, 'X[0] <= 68.026\\ngini = 0.48\\nsamples = 5\\nvalue = [3, 2]'),\n",
       " Text(148.88106652993207, 87.81230769230768, 'gini = 0.0\\nsamples = 2\\nvalue = [2, 0]'),\n",
       " Text(150.25442891936933, 87.81230769230768, 'X[0] <= 69.236\\ngini = 0.444\\nsamples = 3\\nvalue = [1, 2]'),\n",
       " Text(149.5677477246507, 79.44923076923078, 'gini = 0.0\\nsamples = 2\\nvalue = [0, 2]'),\n",
       " Text(150.94111011408796, 79.44923076923078, 'gini = 0.0\\nsamples = 1\\nvalue = [1, 0]'),\n",
       " Text(153.68783489296246, 96.17538461538462, 'X[0] <= 67.618\\ngini = 0.18\\nsamples = 10\\nvalue = [9, 1]'),\n",
       " Text(153.00115369824383, 87.81230769230768, 'X[0] <= 67.514\\ngini = 0.444\\nsamples = 3\\nvalue = [2, 1]'),\n",
       " Text(152.3144725035252, 79.44923076923078, 'gini = 0.0\\nsamples = 2\\nvalue = [2, 0]'),\n",
       " Text(153.68783489296246, 79.44923076923078, 'gini = 0.0\\nsamples = 1\\nvalue = [0, 1]'),\n",
       " Text(154.3745160876811, 87.81230769230768, 'gini = 0.0\\nsamples = 7\\nvalue = [7, 0]'),\n",
       " Text(150.94111011408796, 121.26461538461538, 'gini = 0.0\\nsamples = 1\\nvalue = [0, 1]'),\n",
       " Text(153.68783489296246, 129.6276923076923, 'X[0] <= 67.107\\ngini = 0.111\\nsamples = 17\\nvalue = [16, 1]'),\n",
       " Text(153.00115369824383, 121.26461538461538, 'X[1] <= 157.145\\ngini = 0.375\\nsamples = 4\\nvalue = [3, 1]'),\n",
       " Text(152.3144725035252, 112.90153846153846, 'gini = 0.0\\nsamples = 3\\nvalue = [3, 0]'),\n",
       " Text(153.68783489296246, 112.90153846153846, 'gini = 0.0\\nsamples = 1\\nvalue = [0, 1]'),\n",
       " Text(154.3745160876811, 121.26461538461538, 'gini = 0.0\\nsamples = 13\\nvalue = [13, 0]'),\n",
       " Text(161.92800922958597, 179.80615384615385, 'X[1] <= 160.19\\ngini = 0.433\\nsamples = 85\\nvalue = [58, 27]'),\n",
       " Text(160.5546468401487, 171.44307692307692, 'X[1] <= 160.085\\ngini = 0.496\\nsamples = 55\\nvalue = [30, 25]'),\n",
       " Text(159.86796564543008, 163.07999999999998, 'X[0] <= 67.86\\ngini = 0.48\\nsamples = 50\\nvalue = [30, 20]'),\n",
       " Text(159.18128445071147, 154.71692307692308, 'X[0] <= 67.514\\ngini = 0.499\\nsamples = 42\\nvalue = [22, 20]'),\n",
       " Text(158.49460325599284, 146.35384615384615, 'X[0] <= 66.183\\ngini = 0.482\\nsamples = 37\\nvalue = [22, 15]'),\n",
       " Text(157.8079220612742, 137.99076923076922, 'gini = 0.0\\nsamples = 3\\nvalue = [3, 0]'),\n",
       " Text(159.18128445071147, 137.99076923076922, 'X[0] <= 67.448\\ngini = 0.493\\nsamples = 34\\nvalue = [19, 15]'),\n",
       " Text(158.49460325599284, 129.6276923076923, 'X[0] <= 67.421\\ngini = 0.498\\nsamples = 32\\nvalue = [17, 15]'),\n",
       " Text(157.8079220612742, 121.26461538461538, 'X[1] <= 158.451\\ngini = 0.491\\nsamples = 30\\nvalue = [17, 13]'),\n",
       " Text(156.43455967183695, 112.90153846153846, 'X[1] <= 158.355\\ngini = 0.444\\nsamples = 6\\nvalue = [2, 4]'),\n",
       " Text(155.74787847711832, 104.53846153846153, 'X[1] <= 158.205\\ngini = 0.444\\nsamples = 3\\nvalue = [2, 1]'),\n",
       " Text(155.06119728239972, 96.17538461538462, 'gini = 0.0\\nsamples = 1\\nvalue = [0, 1]'),\n",
       " Text(156.43455967183695, 96.17538461538462, 'gini = 0.0\\nsamples = 2\\nvalue = [2, 0]'),\n",
       " Text(157.12124086655558, 104.53846153846153, 'gini = 0.0\\nsamples = 3\\nvalue = [0, 3]'),\n",
       " Text(159.18128445071147, 112.90153846153846, 'X[0] <= 67.173\\ngini = 0.469\\nsamples = 24\\nvalue = [15, 9]'),\n",
       " Text(158.49460325599284, 104.53846153846153, 'X[0] <= 67.105\\ngini = 0.495\\nsamples = 20\\nvalue = [11, 9]'),\n",
       " Text(157.8079220612742, 96.17538461538462, 'X[0] <= 66.234\\ngini = 0.457\\nsamples = 17\\nvalue = [11, 6]'),\n",
       " Text(157.12124086655558, 87.81230769230768, 'gini = 0.0\\nsamples = 1\\nvalue = [0, 1]'),\n",
       " Text(158.49460325599284, 87.81230769230768, 'X[0] <= 67.007\\ngini = 0.43\\nsamples = 16\\nvalue = [11, 5]'),\n",
       " Text(157.8079220612742, 79.44923076923078, 'X[0] <= 66.986\\ngini = 0.459\\nsamples = 14\\nvalue = [9, 5]'),\n",
       " Text(157.12124086655558, 71.08615384615385, 'X[0] <= 66.783\\ngini = 0.426\\nsamples = 13\\nvalue = [9, 4]'),\n",
       " Text(156.43455967183695, 62.72307692307692, 'X[0] <= 66.678\\ngini = 0.463\\nsamples = 11\\nvalue = [7, 4]'),\n",
       " Text(155.74787847711832, 54.360000000000014, 'X[0] <= 66.638\\ngini = 0.42\\nsamples = 10\\nvalue = [7, 3]'),\n",
       " Text(155.06119728239972, 45.99692307692308, 'X[0] <= 66.592\\ngini = 0.469\\nsamples = 8\\nvalue = [5, 3]'),\n",
       " Text(154.3745160876811, 37.63384615384615, 'X[1] <= 159.06\\ngini = 0.408\\nsamples = 7\\nvalue = [5, 2]'),\n",
       " Text(153.68783489296246, 29.270769230769247, 'gini = 0.0\\nsamples = 2\\nvalue = [2, 0]'),\n",
       " Text(155.06119728239972, 29.270769230769247, 'X[1] <= 159.824\\ngini = 0.48\\nsamples = 5\\nvalue = [3, 2]'),\n",
       " Text(154.3745160876811, 20.907692307692315, 'X[0] <= 66.46\\ngini = 0.444\\nsamples = 3\\nvalue = [1, 2]'),\n",
       " Text(153.68783489296246, 12.544615384615383, 'gini = 0.0\\nsamples = 1\\nvalue = [0, 1]'),\n",
       " Text(155.06119728239972, 12.544615384615383, 'X[1] <= 159.646\\ngini = 0.5\\nsamples = 2\\nvalue = [1, 1]'),\n",
       " Text(154.3745160876811, 4.181538461538452, 'gini = 0.0\\nsamples = 1\\nvalue = [1, 0]'),\n",
       " Text(155.74787847711832, 4.181538461538452, 'gini = 0.0\\nsamples = 1\\nvalue = [0, 1]'),\n",
       " Text(155.74787847711832, 20.907692307692315, 'gini = 0.0\\nsamples = 2\\nvalue = [2, 0]'),\n",
       " Text(155.74787847711832, 37.63384615384615, 'gini = 0.0\\nsamples = 1\\nvalue = [0, 1]'),\n",
       " Text(156.43455967183695, 45.99692307692308, 'gini = 0.0\\nsamples = 2\\nvalue = [2, 0]'),\n",
       " Text(157.12124086655558, 54.360000000000014, 'gini = 0.0\\nsamples = 1\\nvalue = [0, 1]'),\n",
       " Text(157.8079220612742, 62.72307692307692, 'gini = 0.0\\nsamples = 2\\nvalue = [2, 0]'),\n",
       " Text(158.49460325599284, 71.08615384615385, 'gini = 0.0\\nsamples = 1\\nvalue = [0, 1]'),\n",
       " Text(159.18128445071147, 79.44923076923078, 'gini = 0.0\\nsamples = 2\\nvalue = [2, 0]'),\n",
       " Text(159.18128445071147, 96.17538461538462, 'gini = 0.0\\nsamples = 3\\nvalue = [0, 3]'),\n",
       " Text(159.86796564543008, 104.53846153846153, 'gini = 0.0\\nsamples = 4\\nvalue = [4, 0]'),\n",
       " Text(159.18128445071147, 121.26461538461538, 'gini = 0.0\\nsamples = 2\\nvalue = [0, 2]'),\n",
       " Text(159.86796564543008, 129.6276923076923, 'gini = 0.0\\nsamples = 2\\nvalue = [2, 0]'),\n",
       " Text(159.86796564543008, 146.35384615384615, 'gini = 0.0\\nsamples = 5\\nvalue = [0, 5]'),\n",
       " Text(160.5546468401487, 154.71692307692308, 'gini = 0.0\\nsamples = 8\\nvalue = [8, 0]'),\n",
       " Text(161.24132803486734, 163.07999999999998, 'gini = 0.0\\nsamples = 5\\nvalue = [0, 5]'),\n",
       " Text(163.30137161902323, 171.44307692307692, 'X[0] <= 66.985\\ngini = 0.124\\nsamples = 30\\nvalue = [28, 2]'),\n",
       " Text(162.6146904243046, 163.07999999999998, 'X[0] <= 66.905\\ngini = 0.346\\nsamples = 9\\nvalue = [7, 2]'),\n",
       " Text(161.92800922958597, 154.71692307692308, 'X[1] <= 161.155\\ngini = 0.219\\nsamples = 8\\nvalue = [7, 1]'),\n",
       " Text(161.24132803486734, 146.35384615384615, 'gini = 0.0\\nsamples = 7\\nvalue = [7, 0]'),\n",
       " Text(162.6146904243046, 146.35384615384615, 'gini = 0.0\\nsamples = 1\\nvalue = [0, 1]'),\n",
       " Text(163.30137161902323, 154.71692307692308, 'gini = 0.0\\nsamples = 1\\nvalue = [0, 1]'),\n",
       " Text(163.98805281374183, 163.07999999999998, 'gini = 0.0\\nsamples = 21\\nvalue = [21, 0]'),\n",
       " Text(254.2691946545315, 204.89538461538461, 'X[1] <= 169.103\\ngini = 0.131\\nsamples = 3407\\nvalue = [241, 3166]'),\n",
       " Text(208.29240161517757, 196.53230769230768, 'X[0] <= 68.546\\ngini = 0.444\\nsamples = 423\\nvalue = [141, 282]'),\n",
       " Text(184.27197154211, 188.16923076923078, 'X[0] <= 66.103\\ngini = 0.414\\nsamples = 376\\nvalue = [110, 266]'),\n",
       " Text(171.4557108063069, 179.80615384615385, 'X[1] <= 165.485\\ngini = 0.315\\nsamples = 143\\nvalue = [28, 115]'),\n",
       " Text(166.21976669657738, 171.44307692307692, 'X[0] <= 64.175\\ngini = 0.391\\nsamples = 75\\nvalue = [20, 55]'),\n",
       " Text(165.53308550185875, 163.07999999999998, 'gini = 0.0\\nsamples = 11\\nvalue = [0, 11]'),\n",
       " Text(166.906447891296, 163.07999999999998, 'X[0] <= 64.459\\ngini = 0.43\\nsamples = 64\\nvalue = [20, 44]'),\n",
       " Text(164.67473400846046, 154.71692307692308, 'X[1] <= 163.391\\ngini = 0.32\\nsamples = 5\\nvalue = [4, 1]'),\n",
       " Text(163.98805281374183, 146.35384615384615, 'gini = 0.0\\nsamples = 4\\nvalue = [4, 0]'),\n",
       " Text(165.3614152031791, 146.35384615384615, 'gini = 0.0\\nsamples = 1\\nvalue = [0, 1]'),\n",
       " Text(169.13816177413153, 154.71692307692308, 'X[1] <= 163.247\\ngini = 0.395\\nsamples = 59\\nvalue = [16, 43]'),\n",
       " Text(166.73477759261635, 146.35384615384615, 'X[0] <= 64.718\\ngini = 0.26\\nsamples = 26\\nvalue = [4, 22]'),\n",
       " Text(165.3614152031791, 137.99076923076922, 'X[1] <= 162.41\\ngini = 0.48\\nsamples = 5\\nvalue = [3, 2]'),\n",
       " Text(164.67473400846046, 129.6276923076923, 'X[0] <= 64.672\\ngini = 0.444\\nsamples = 3\\nvalue = [1, 2]'),\n",
       " Text(163.98805281374183, 121.26461538461538, 'gini = 0.0\\nsamples = 2\\nvalue = [0, 2]'),\n",
       " Text(165.3614152031791, 121.26461538461538, 'gini = 0.0\\nsamples = 1\\nvalue = [1, 0]'),\n",
       " Text(166.04809639789772, 129.6276923076923, 'gini = 0.0\\nsamples = 2\\nvalue = [2, 0]'),\n",
       " Text(168.1081399820536, 137.99076923076922, 'X[0] <= 66.073\\ngini = 0.091\\nsamples = 21\\nvalue = [1, 20]'),\n",
       " Text(167.42145878733498, 129.6276923076923, 'gini = 0.0\\nsamples = 19\\nvalue = [0, 19]'),\n",
       " Text(168.79482117677222, 129.6276923076923, 'X[0] <= 66.081\\ngini = 0.5\\nsamples = 2\\nvalue = [1, 1]'),\n",
       " Text(168.1081399820536, 121.26461538461538, 'gini = 0.0\\nsamples = 1\\nvalue = [1, 0]'),\n",
       " Text(169.48150237149085, 121.26461538461538, 'gini = 0.0\\nsamples = 1\\nvalue = [0, 1]'),\n",
       " Text(171.54154595564674, 146.35384615384615, 'X[0] <= 65.111\\ngini = 0.463\\nsamples = 33\\nvalue = [12, 21]'),\n",
       " Text(170.8548647609281, 137.99076923076922, 'gini = 0.0\\nsamples = 9\\nvalue = [0, 9]'),\n",
       " Text(172.22822715036534, 137.99076923076922, 'X[0] <= 65.978\\ngini = 0.5\\nsamples = 24\\nvalue = [12, 12]'),\n",
       " Text(171.54154595564674, 129.6276923076923, 'X[0] <= 65.844\\ngini = 0.49\\nsamples = 21\\nvalue = [12, 9]'),\n",
       " Text(170.8548647609281, 121.26461538461538, 'X[0] <= 65.16\\ngini = 0.5\\nsamples = 18\\nvalue = [9, 9]'),\n",
       " Text(170.16818356620948, 112.90153846153846, 'gini = 0.0\\nsamples = 2\\nvalue = [2, 0]'),\n",
       " Text(171.54154595564674, 112.90153846153846, 'X[0] <= 65.327\\ngini = 0.492\\nsamples = 16\\nvalue = [7, 9]'),\n",
       " Text(170.8548647609281, 104.53846153846153, 'gini = 0.0\\nsamples = 3\\nvalue = [0, 3]'),\n",
       " Text(172.22822715036534, 104.53846153846153, 'X[0] <= 65.75\\ngini = 0.497\\nsamples = 13\\nvalue = [7, 6]'),\n",
       " Text(171.54154595564674, 96.17538461538462, 'X[1] <= 164.465\\ngini = 0.463\\nsamples = 11\\nvalue = [7, 4]'),\n",
       " Text(170.8548647609281, 87.81230769230768, 'gini = 0.0\\nsamples = 3\\nvalue = [3, 0]'),\n",
       " Text(172.22822715036534, 87.81230769230768, 'X[0] <= 65.652\\ngini = 0.5\\nsamples = 8\\nvalue = [4, 4]'),\n",
       " Text(171.54154595564674, 79.44923076923078, 'X[1] <= 164.604\\ngini = 0.444\\nsamples = 6\\nvalue = [2, 4]'),\n",
       " Text(170.8548647609281, 71.08615384615385, 'X[1] <= 164.498\\ngini = 0.5\\nsamples = 4\\nvalue = [2, 2]'),\n",
       " Text(170.16818356620948, 62.72307692307692, 'gini = 0.0\\nsamples = 1\\nvalue = [0, 1]'),\n",
       " Text(171.54154595564674, 62.72307692307692, 'X[0] <= 65.538\\ngini = 0.444\\nsamples = 3\\nvalue = [2, 1]'),\n",
       " Text(170.8548647609281, 54.360000000000014, 'gini = 0.0\\nsamples = 1\\nvalue = [1, 0]'),\n",
       " Text(172.22822715036534, 54.360000000000014, 'X[1] <= 164.537\\ngini = 0.5\\nsamples = 2\\nvalue = [1, 1]'),\n",
       " Text(171.54154595564674, 45.99692307692308, 'gini = 0.0\\nsamples = 1\\nvalue = [0, 1]'),\n",
       " Text(172.91490834508397, 45.99692307692308, 'gini = 0.0\\nsamples = 1\\nvalue = [1, 0]'),\n",
       " Text(172.22822715036534, 71.08615384615385, 'gini = 0.0\\nsamples = 2\\nvalue = [0, 2]'),\n",
       " Text(172.91490834508397, 79.44923076923078, 'gini = 0.0\\nsamples = 2\\nvalue = [2, 0]'),\n",
       " Text(172.91490834508397, 96.17538461538462, 'gini = 0.0\\nsamples = 2\\nvalue = [0, 2]'),\n",
       " Text(172.22822715036534, 121.26461538461538, 'gini = 0.0\\nsamples = 3\\nvalue = [3, 0]'),\n",
       " Text(172.91490834508397, 129.6276923076923, 'gini = 0.0\\nsamples = 3\\nvalue = [0, 3]'),\n",
       " Text(176.6916549160364, 171.44307692307692, 'X[1] <= 169.076\\ngini = 0.208\\nsamples = 68\\nvalue = [8, 60]'),\n",
       " Text(175.31829252659918, 163.07999999999998, 'X[1] <= 166.104\\ngini = 0.19\\nsamples = 66\\nvalue = [7, 59]'),\n",
       " Text(174.63161133188055, 154.71692307692308, 'gini = 0.0\\nsamples = 12\\nvalue = [0, 12]'),\n",
       " Text(176.00497372131778, 154.71692307692308, 'X[1] <= 166.118\\ngini = 0.226\\nsamples = 54\\nvalue = [7, 47]'),\n",
       " Text(175.31829252659918, 146.35384615384615, 'gini = 0.0\\nsamples = 1\\nvalue = [1, 0]'),\n",
       " Text(176.6916549160364, 146.35384615384615, 'X[1] <= 167.221\\ngini = 0.201\\nsamples = 53\\nvalue = [6, 47]'),\n",
       " Text(174.97495192923986, 137.99076923076922, 'X[1] <= 167.129\\ngini = 0.332\\nsamples = 19\\nvalue = [4, 15]'),\n",
       " Text(174.28827073452123, 129.6276923076923, 'X[0] <= 65.397\\ngini = 0.278\\nsamples = 18\\nvalue = [3, 15]'),\n",
       " Text(173.6015895398026, 121.26461538461538, 'gini = 0.0\\nsamples = 9\\nvalue = [0, 9]'),\n",
       " Text(174.97495192923986, 121.26461538461538, 'X[0] <= 65.616\\ngini = 0.444\\nsamples = 9\\nvalue = [3, 6]'),\n",
       " Text(174.28827073452123, 112.90153846153846, 'gini = 0.0\\nsamples = 1\\nvalue = [1, 0]'),\n",
       " Text(175.6616331239585, 112.90153846153846, 'X[0] <= 65.848\\ngini = 0.375\\nsamples = 8\\nvalue = [2, 6]'),\n",
       " Text(174.97495192923986, 104.53846153846153, 'gini = 0.0\\nsamples = 3\\nvalue = [0, 3]'),\n",
       " Text(176.3483143186771, 104.53846153846153, 'X[0] <= 65.998\\ngini = 0.48\\nsamples = 5\\nvalue = [2, 3]'),\n",
       " Text(175.6616331239585, 96.17538461538462, 'gini = 0.0\\nsamples = 2\\nvalue = [2, 0]'),\n",
       " Text(177.03499551339573, 96.17538461538462, 'gini = 0.0\\nsamples = 3\\nvalue = [0, 3]'),\n",
       " Text(175.6616331239585, 129.6276923076923, 'gini = 0.0\\nsamples = 1\\nvalue = [1, 0]'),\n",
       " Text(178.408357902833, 137.99076923076922, 'X[0] <= 64.325\\ngini = 0.111\\nsamples = 34\\nvalue = [2, 32]'),\n",
       " Text(177.03499551339573, 129.6276923076923, 'X[0] <= 64.058\\ngini = 0.32\\nsamples = 5\\nvalue = [1, 4]'),\n",
       " Text(176.3483143186771, 121.26461538461538, 'gini = 0.0\\nsamples = 4\\nvalue = [0, 4]'),\n",
       " Text(177.72167670811436, 121.26461538461538, 'gini = 0.0\\nsamples = 1\\nvalue = [1, 0]'),\n",
       " Text(179.78172029227025, 129.6276923076923, 'X[0] <= 65.767\\ngini = 0.067\\nsamples = 29\\nvalue = [1, 28]'),\n",
       " Text(179.09503909755162, 121.26461538461538, 'gini = 0.0\\nsamples = 19\\nvalue = [0, 19]'),\n",
       " Text(180.46840148698885, 121.26461538461538, 'X[0] <= 65.823\\ngini = 0.18\\nsamples = 10\\nvalue = [1, 9]'),\n",
       " Text(179.78172029227025, 112.90153846153846, 'gini = 0.0\\nsamples = 1\\nvalue = [1, 0]'),\n",
       " Text(181.15508268170748, 112.90153846153846, 'gini = 0.0\\nsamples = 9\\nvalue = [0, 9]'),\n",
       " Text(178.06501730547367, 163.07999999999998, 'X[0] <= 64.96\\ngini = 0.5\\nsamples = 2\\nvalue = [1, 1]'),\n",
       " Text(177.37833611075504, 154.71692307692308, 'gini = 0.0\\nsamples = 1\\nvalue = [1, 0]'),\n",
       " Text(178.7516985001923, 154.71692307692308, 'gini = 0.0\\nsamples = 1\\nvalue = [0, 1]'),\n",
       " Text(197.0882322779131, 179.80615384615385, 'X[1] <= 162.749\\ngini = 0.456\\nsamples = 233\\nvalue = [82, 151]'),\n",
       " Text(184.2451480579413, 171.44307692307692, 'X[1] <= 162.021\\ngini = 0.482\\nsamples = 32\\nvalue = [19, 13]'),\n",
       " Text(181.15508268170748, 163.07999999999998, 'X[0] <= 66.589\\ngini = 0.48\\nsamples = 10\\nvalue = [4, 6]'),\n",
       " Text(180.46840148698885, 154.71692307692308, 'gini = 0.0\\nsamples = 2\\nvalue = [0, 2]'),\n",
       " Text(181.8417638764261, 154.71692307692308, 'X[0] <= 67.53\\ngini = 0.5\\nsamples = 8\\nvalue = [4, 4]'),\n",
       " Text(180.46840148698885, 146.35384615384615, 'X[1] <= 161.638\\ngini = 0.375\\nsamples = 4\\nvalue = [3, 1]'),\n",
       " Text(179.78172029227025, 137.99076923076922, 'gini = 0.0\\nsamples = 1\\nvalue = [0, 1]'),\n",
       " Text(181.15508268170748, 137.99076923076922, 'gini = 0.0\\nsamples = 3\\nvalue = [3, 0]'),\n",
       " Text(183.21512626586338, 146.35384615384615, 'X[0] <= 68.008\\ngini = 0.375\\nsamples = 4\\nvalue = [1, 3]'),\n",
       " Text(182.52844507114474, 137.99076923076922, 'gini = 0.0\\nsamples = 3\\nvalue = [0, 3]'),\n",
       " Text(183.901807460582, 137.99076923076922, 'gini = 0.0\\nsamples = 1\\nvalue = [1, 0]'),\n",
       " Text(187.33521343417513, 163.07999999999998, 'X[0] <= 68.029\\ngini = 0.434\\nsamples = 22\\nvalue = [15, 7]'),\n",
       " Text(186.6485322394565, 154.71692307692308, 'X[1] <= 162.438\\ngini = 0.375\\nsamples = 20\\nvalue = [15, 5]'),\n",
       " Text(185.96185104473787, 146.35384615384615, 'gini = 0.0\\nsamples = 9\\nvalue = [9, 0]'),\n",
       " Text(187.33521343417513, 146.35384615384615, 'X[1] <= 162.573\\ngini = 0.496\\nsamples = 11\\nvalue = [6, 5]'),\n",
       " Text(185.27516985001924, 137.99076923076922, 'X[0] <= 67.037\\ngini = 0.32\\nsamples = 5\\nvalue = [1, 4]'),\n",
       " Text(184.5884886553006, 129.6276923076923, 'gini = 0.0\\nsamples = 3\\nvalue = [0, 3]'),\n",
       " Text(185.96185104473787, 129.6276923076923, 'X[0] <= 67.426\\ngini = 0.5\\nsamples = 2\\nvalue = [1, 1]'),\n",
       " Text(185.27516985001924, 121.26461538461538, 'gini = 0.0\\nsamples = 1\\nvalue = [1, 0]'),\n",
       " Text(186.6485322394565, 121.26461538461538, 'gini = 0.0\\nsamples = 1\\nvalue = [0, 1]'),\n",
       " Text(189.395257018331, 137.99076923076922, 'X[0] <= 66.303\\ngini = 0.278\\nsamples = 6\\nvalue = [5, 1]'),\n",
       " Text(188.70857582361236, 129.6276923076923, 'X[1] <= 162.707\\ngini = 0.5\\nsamples = 2\\nvalue = [1, 1]'),\n",
       " Text(188.02189462889376, 121.26461538461538, 'gini = 0.0\\nsamples = 1\\nvalue = [0, 1]'),\n",
       " Text(189.395257018331, 121.26461538461538, 'gini = 0.0\\nsamples = 1\\nvalue = [1, 0]'),\n",
       " Text(190.08193821304963, 129.6276923076923, 'gini = 0.0\\nsamples = 4\\nvalue = [4, 0]'),\n",
       " Text(188.02189462889376, 154.71692307692308, 'gini = 0.0\\nsamples = 2\\nvalue = [0, 2]'),\n",
       " Text(209.9313164978849, 171.44307692307692, 'X[1] <= 169.044\\ngini = 0.43\\nsamples = 201\\nvalue = [63, 138]'),\n",
       " Text(209.2446353031663, 163.07999999999998, 'X[1] <= 165.978\\ngini = 0.425\\nsamples = 199\\nvalue = [61, 138]'),\n",
       " Text(199.99589796179978, 154.71692307692308, 'X[0] <= 66.809\\ngini = 0.47\\nsamples = 98\\nvalue = [37, 61]'),\n",
       " Text(197.54959620561468, 146.35384615384615, 'X[0] <= 66.55\\ngini = 0.394\\nsamples = 37\\nvalue = [10, 27]'),\n",
       " Text(195.40371747211898, 137.99076923076922, 'X[0] <= 66.481\\ngini = 0.469\\nsamples = 24\\nvalue = [9, 15]'),\n",
       " Text(193.17200358928343, 129.6276923076923, 'X[0] <= 66.312\\ngini = 0.388\\nsamples = 19\\nvalue = [5, 14]'),\n",
       " Text(190.76861940776826, 121.26461538461538, 'X[1] <= 163.178\\ngini = 0.5\\nsamples = 8\\nvalue = [4, 4]'),\n",
       " Text(190.08193821304963, 112.90153846153846, 'gini = 0.0\\nsamples = 1\\nvalue = [0, 1]'),\n",
       " Text(191.4553006024869, 112.90153846153846, 'X[0] <= 66.206\\ngini = 0.49\\nsamples = 7\\nvalue = [4, 3]'),\n",
       " Text(190.08193821304963, 104.53846153846153, 'X[1] <= 165.053\\ngini = 0.444\\nsamples = 3\\nvalue = [1, 2]'),\n",
       " Text(189.395257018331, 96.17538461538462, 'gini = 0.0\\nsamples = 1\\nvalue = [1, 0]'),\n",
       " Text(190.76861940776826, 96.17538461538462, 'gini = 0.0\\nsamples = 2\\nvalue = [0, 2]'),\n",
       " Text(192.82866299192412, 104.53846153846153, 'X[1] <= 164.309\\ngini = 0.375\\nsamples = 4\\nvalue = [3, 1]'),\n",
       " Text(192.14198179720552, 96.17538461538462, 'X[1] <= 163.591\\ngini = 0.5\\nsamples = 2\\nvalue = [1, 1]'),\n",
       " Text(191.4553006024869, 87.81230769230768, 'gini = 0.0\\nsamples = 1\\nvalue = [1, 0]'),\n",
       " Text(192.82866299192412, 87.81230769230768, 'gini = 0.0\\nsamples = 1\\nvalue = [0, 1]'),\n",
       " Text(193.51534418664275, 96.17538461538462, 'gini = 0.0\\nsamples = 2\\nvalue = [2, 0]'),\n",
       " Text(195.57538777079864, 121.26461538461538, 'X[0] <= 66.368\\ngini = 0.165\\nsamples = 11\\nvalue = [1, 10]'),\n",
       " Text(194.88870657608, 112.90153846153846, 'X[0] <= 66.343\\ngini = 0.32\\nsamples = 5\\nvalue = [1, 4]'),\n",
       " Text(194.20202538136138, 104.53846153846153, 'gini = 0.0\\nsamples = 4\\nvalue = [0, 4]'),\n",
       " Text(195.57538777079864, 104.53846153846153, 'gini = 0.0\\nsamples = 1\\nvalue = [1, 0]'),\n",
       " Text(196.26206896551724, 112.90153846153846, 'gini = 0.0\\nsamples = 6\\nvalue = [0, 6]'),\n",
       " Text(197.6354313549545, 129.6276923076923, 'X[0] <= 66.516\\ngini = 0.32\\nsamples = 5\\nvalue = [4, 1]'),\n",
       " Text(196.94875016023587, 121.26461538461538, 'gini = 0.0\\nsamples = 2\\nvalue = [2, 0]'),\n",
       " Text(198.32211254967314, 121.26461538461538, 'X[1] <= 164.443\\ngini = 0.444\\nsamples = 3\\nvalue = [2, 1]'),\n",
       " Text(197.6354313549545, 112.90153846153846, 'gini = 0.0\\nsamples = 2\\nvalue = [2, 0]'),\n",
       " Text(199.00879374439177, 112.90153846153846, 'gini = 0.0\\nsamples = 1\\nvalue = [0, 1]'),\n",
       " Text(199.6954749391104, 137.99076923076922, 'X[1] <= 165.7\\ngini = 0.142\\nsamples = 13\\nvalue = [1, 12]'),\n",
       " Text(199.00879374439177, 129.6276923076923, 'gini = 0.0\\nsamples = 12\\nvalue = [0, 12]'),\n",
       " Text(200.382156133829, 129.6276923076923, 'gini = 0.0\\nsamples = 1\\nvalue = [1, 0]'),\n",
       " Text(202.4421997179849, 146.35384615384615, 'X[0] <= 66.896\\ngini = 0.493\\nsamples = 61\\nvalue = [27, 34]'),\n",
       " Text(201.75551852326626, 137.99076923076922, 'gini = 0.0\\nsamples = 6\\nvalue = [6, 0]'),\n",
       " Text(203.12888091270352, 137.99076923076922, 'X[0] <= 67.101\\ngini = 0.472\\nsamples = 55\\nvalue = [21, 34]'),\n",
       " Text(201.75551852326626, 129.6276923076923, 'X[1] <= 163.875\\ngini = 0.198\\nsamples = 9\\nvalue = [1, 8]'),\n",
       " Text(201.06883732854763, 121.26461538461538, 'gini = 0.0\\nsamples = 1\\nvalue = [1, 0]'),\n",
       " Text(202.4421997179849, 121.26461538461538, 'gini = 0.0\\nsamples = 8\\nvalue = [0, 8]'),\n",
       " Text(204.50224330214076, 129.6276923076923, 'X[0] <= 67.144\\ngini = 0.491\\nsamples = 46\\nvalue = [20, 26]'),\n",
       " Text(203.81556210742215, 121.26461538461538, 'gini = 0.0\\nsamples = 2\\nvalue = [2, 0]'),\n",
       " Text(205.18892449685939, 121.26461538461538, 'X[0] <= 67.624\\ngini = 0.483\\nsamples = 44\\nvalue = [18, 26]'),\n",
       " Text(201.75551852326626, 112.90153846153846, 'X[0] <= 67.359\\ngini = 0.423\\nsamples = 23\\nvalue = [7, 16]'),\n",
       " Text(199.00879374439177, 104.53846153846153, 'X[0] <= 67.329\\ngini = 0.494\\nsamples = 9\\nvalue = [5, 4]'),\n",
       " Text(198.32211254967314, 96.17538461538462, 'X[0] <= 67.193\\ngini = 0.444\\nsamples = 6\\nvalue = [2, 4]'),\n",
       " Text(197.6354313549545, 87.81230769230768, 'gini = 0.0\\nsamples = 2\\nvalue = [0, 2]'),\n",
       " Text(199.00879374439177, 87.81230769230768, 'X[1] <= 164.156\\ngini = 0.5\\nsamples = 4\\nvalue = [2, 2]'),\n",
       " Text(198.32211254967314, 79.44923076923078, 'gini = 0.0\\nsamples = 1\\nvalue = [0, 1]'),\n",
       " Text(199.6954749391104, 79.44923076923078, 'X[1] <= 165.172\\ngini = 0.444\\nsamples = 3\\nvalue = [2, 1]'),\n",
       " Text(199.00879374439177, 71.08615384615385, 'gini = 0.0\\nsamples = 2\\nvalue = [2, 0]'),\n",
       " Text(200.382156133829, 71.08615384615385, 'gini = 0.0\\nsamples = 1\\nvalue = [0, 1]'),\n",
       " Text(199.6954749391104, 96.17538461538462, 'gini = 0.0\\nsamples = 3\\nvalue = [3, 0]'),\n",
       " Text(204.50224330214076, 104.53846153846153, 'X[0] <= 67.484\\ngini = 0.245\\nsamples = 14\\nvalue = [2, 12]'),\n",
       " Text(203.81556210742215, 96.17538461538462, 'X[0] <= 67.463\\ngini = 0.408\\nsamples = 7\\nvalue = [2, 5]'),\n",
       " Text(203.12888091270352, 87.81230769230768, 'X[1] <= 163.865\\ngini = 0.278\\nsamples = 6\\nvalue = [1, 5]'),\n",
       " Text(202.4421997179849, 79.44923076923078, 'X[1] <= 163.53\\ngini = 0.5\\nsamples = 2\\nvalue = [1, 1]'),\n",
       " Text(201.75551852326626, 71.08615384615385, 'gini = 0.0\\nsamples = 1\\nvalue = [0, 1]'),\n",
       " Text(203.12888091270352, 71.08615384615385, 'gini = 0.0\\nsamples = 1\\nvalue = [1, 0]'),\n",
       " Text(203.81556210742215, 79.44923076923078, 'gini = 0.0\\nsamples = 4\\nvalue = [0, 4]'),\n",
       " Text(204.50224330214076, 87.81230769230768, 'gini = 0.0\\nsamples = 1\\nvalue = [1, 0]'),\n",
       " Text(205.18892449685939, 96.17538461538462, 'gini = 0.0\\nsamples = 7\\nvalue = [0, 7]'),\n",
       " Text(208.6223304704525, 112.90153846153846, 'X[1] <= 163.489\\ngini = 0.499\\nsamples = 21\\nvalue = [11, 10]'),\n",
       " Text(207.24896808101528, 104.53846153846153, 'X[1] <= 162.989\\ngini = 0.32\\nsamples = 5\\nvalue = [4, 1]'),\n",
       " Text(206.56228688629665, 96.17538461538462, 'X[0] <= 68.058\\ngini = 0.5\\nsamples = 2\\nvalue = [1, 1]'),\n",
       " Text(205.87560569157802, 87.81230769230768, 'gini = 0.0\\nsamples = 1\\nvalue = [0, 1]'),\n",
       " Text(207.24896808101528, 87.81230769230768, 'gini = 0.0\\nsamples = 1\\nvalue = [1, 0]'),\n",
       " Text(207.9356492757339, 96.17538461538462, 'gini = 0.0\\nsamples = 3\\nvalue = [3, 0]'),\n",
       " Text(209.99569285988977, 104.53846153846153, 'X[1] <= 163.755\\ngini = 0.492\\nsamples = 16\\nvalue = [7, 9]'),\n",
       " Text(209.30901166517114, 96.17538461538462, 'gini = 0.0\\nsamples = 3\\nvalue = [0, 3]'),\n",
       " Text(210.6823740546084, 96.17538461538462, 'X[1] <= 163.921\\ngini = 0.497\\nsamples = 13\\nvalue = [7, 6]'),\n",
       " Text(209.99569285988977, 87.81230769230768, 'gini = 0.0\\nsamples = 2\\nvalue = [2, 0]'),\n",
       " Text(211.36905524932703, 87.81230769230768, 'X[0] <= 67.636\\ngini = 0.496\\nsamples = 11\\nvalue = [5, 6]'),\n",
       " Text(210.6823740546084, 79.44923076923078, 'gini = 0.0\\nsamples = 1\\nvalue = [1, 0]'),\n",
       " Text(212.05573644404566, 79.44923076923078, 'X[0] <= 67.826\\ngini = 0.48\\nsamples = 10\\nvalue = [4, 6]'),\n",
       " Text(211.36905524932703, 71.08615384615385, 'gini = 0.0\\nsamples = 3\\nvalue = [0, 3]'),\n",
       " Text(212.74241763876427, 71.08615384615385, 'X[1] <= 165.343\\ngini = 0.49\\nsamples = 7\\nvalue = [4, 3]'),\n",
       " Text(212.05573644404566, 62.72307692307692, 'X[0] <= 68.174\\ngini = 0.48\\nsamples = 5\\nvalue = [2, 3]'),\n",
       " Text(211.36905524932703, 54.360000000000014, 'gini = 0.0\\nsamples = 2\\nvalue = [2, 0]'),\n",
       " Text(212.74241763876427, 54.360000000000014, 'gini = 0.0\\nsamples = 3\\nvalue = [0, 3]'),\n",
       " Text(213.4290988334829, 62.72307692307692, 'gini = 0.0\\nsamples = 2\\nvalue = [2, 0]'),\n",
       " Text(218.49337264453277, 154.71692307692308, 'X[1] <= 166.395\\ngini = 0.362\\nsamples = 101\\nvalue = [24, 77]'),\n",
       " Text(217.80669144981414, 146.35384615384615, 'gini = 0.0\\nsamples = 15\\nvalue = [0, 15]'),\n",
       " Text(219.1800538392514, 146.35384615384615, 'X[1] <= 166.4\\ngini = 0.402\\nsamples = 86\\nvalue = [24, 62]'),\n",
       " Text(218.49337264453277, 137.99076923076922, 'gini = 0.0\\nsamples = 1\\nvalue = [1, 0]'),\n",
       " Text(219.86673503397003, 137.99076923076922, 'X[0] <= 66.136\\ngini = 0.395\\nsamples = 85\\nvalue = [23, 62]'),\n",
       " Text(219.1800538392514, 129.6276923076923, 'gini = 0.0\\nsamples = 1\\nvalue = [1, 0]'),\n",
       " Text(220.55341622868866, 129.6276923076923, 'X[1] <= 167.133\\ngini = 0.387\\nsamples = 84\\nvalue = [22, 62]'),\n",
       " Text(214.11578002820153, 121.26461538461538, 'X[0] <= 67.005\\ngini = 0.469\\nsamples = 24\\nvalue = [9, 15]'),\n",
       " Text(212.05573644404566, 112.90153846153846, 'X[1] <= 166.782\\ngini = 0.165\\nsamples = 11\\nvalue = [1, 10]'),\n",
       " Text(211.36905524932703, 104.53846153846153, 'gini = 0.0\\nsamples = 7\\nvalue = [0, 7]'),\n",
       " Text(212.74241763876427, 104.53846153846153, 'X[1] <= 166.891\\ngini = 0.375\\nsamples = 4\\nvalue = [1, 3]'),\n",
       " Text(212.05573644404566, 96.17538461538462, 'gini = 0.0\\nsamples = 1\\nvalue = [1, 0]'),\n",
       " Text(213.4290988334829, 96.17538461538462, 'gini = 0.0\\nsamples = 3\\nvalue = [0, 3]'),\n",
       " Text(216.17582361235742, 112.90153846153846, 'X[0] <= 68.147\\ngini = 0.473\\nsamples = 13\\nvalue = [8, 5]'),\n",
       " Text(215.4891424176388, 104.53846153846153, 'X[1] <= 166.436\\ngini = 0.397\\nsamples = 11\\nvalue = [8, 3]'),\n",
       " Text(214.80246122292016, 96.17538461538462, 'gini = 0.0\\nsamples = 1\\nvalue = [0, 1]'),\n",
       " Text(216.17582361235742, 96.17538461538462, 'X[1] <= 166.537\\ngini = 0.32\\nsamples = 10\\nvalue = [8, 2]'),\n",
       " Text(215.4891424176388, 87.81230769230768, 'gini = 0.0\\nsamples = 3\\nvalue = [3, 0]'),\n",
       " Text(216.86250480707602, 87.81230769230768, 'X[0] <= 67.362\\ngini = 0.408\\nsamples = 7\\nvalue = [5, 2]'),\n",
       " Text(216.17582361235742, 79.44923076923078, 'gini = 0.0\\nsamples = 1\\nvalue = [0, 1]'),\n",
       " Text(217.54918600179465, 79.44923076923078, 'X[1] <= 166.564\\ngini = 0.278\\nsamples = 6\\nvalue = [5, 1]'),\n",
       " Text(216.86250480707602, 71.08615384615385, 'gini = 0.0\\nsamples = 1\\nvalue = [0, 1]'),\n",
       " Text(218.23586719651328, 71.08615384615385, 'gini = 0.0\\nsamples = 5\\nvalue = [5, 0]'),\n",
       " Text(216.86250480707602, 104.53846153846153, 'gini = 0.0\\nsamples = 2\\nvalue = [0, 2]'),\n",
       " Text(226.99105242917577, 121.26461538461538, 'X[1] <= 168.572\\ngini = 0.339\\nsamples = 60\\nvalue = [13, 47]'),\n",
       " Text(224.75933854634025, 112.90153846153846, 'X[0] <= 67.454\\ngini = 0.263\\nsamples = 45\\nvalue = [7, 38]'),\n",
       " Text(223.04263555954367, 104.53846153846153, 'X[0] <= 67.377\\ngini = 0.355\\nsamples = 26\\nvalue = [6, 20]'),\n",
       " Text(221.6692731701064, 96.17538461538462, 'X[1] <= 167.737\\ngini = 0.236\\nsamples = 22\\nvalue = [3, 19]'),\n",
       " Text(220.98259197538778, 87.81230769230768, 'X[1] <= 167.712\\ngini = 0.469\\nsamples = 8\\nvalue = [3, 5]'),\n",
       " Text(220.29591078066917, 79.44923076923078, 'X[0] <= 67.17\\ngini = 0.278\\nsamples = 6\\nvalue = [1, 5]'),\n",
       " Text(219.60922958595054, 71.08615384615385, 'gini = 0.0\\nsamples = 4\\nvalue = [0, 4]'),\n",
       " Text(220.98259197538778, 71.08615384615385, 'X[0] <= 67.293\\ngini = 0.5\\nsamples = 2\\nvalue = [1, 1]'),\n",
       " Text(220.29591078066917, 62.72307692307692, 'gini = 0.0\\nsamples = 1\\nvalue = [1, 0]'),\n",
       " Text(221.6692731701064, 62.72307692307692, 'gini = 0.0\\nsamples = 1\\nvalue = [0, 1]'),\n",
       " Text(221.6692731701064, 79.44923076923078, 'gini = 0.0\\nsamples = 2\\nvalue = [2, 0]'),\n",
       " Text(222.35595436482504, 87.81230769230768, 'gini = 0.0\\nsamples = 14\\nvalue = [0, 14]'),\n",
       " Text(224.41599794898093, 96.17538461538462, 'X[1] <= 168.286\\ngini = 0.375\\nsamples = 4\\nvalue = [3, 1]'),\n",
       " Text(223.7293167542623, 87.81230769230768, 'gini = 0.0\\nsamples = 2\\nvalue = [2, 0]'),\n",
       " Text(225.10267914369953, 87.81230769230768, 'X[1] <= 168.474\\ngini = 0.5\\nsamples = 2\\nvalue = [1, 1]'),\n",
       " Text(224.41599794898093, 79.44923076923078, 'gini = 0.0\\nsamples = 1\\nvalue = [0, 1]'),\n",
       " Text(225.78936033841816, 79.44923076923078, 'gini = 0.0\\nsamples = 1\\nvalue = [1, 0]'),\n",
       " Text(226.4760415331368, 104.53846153846153, 'X[0] <= 68.287\\ngini = 0.1\\nsamples = 19\\nvalue = [1, 18]'),\n",
       " Text(225.78936033841816, 96.17538461538462, 'gini = 0.0\\nsamples = 16\\nvalue = [0, 16]'),\n",
       " Text(227.16272272785542, 96.17538461538462, 'X[0] <= 68.326\\ngini = 0.444\\nsamples = 3\\nvalue = [1, 2]'),\n",
       " Text(226.4760415331368, 87.81230769230768, 'gini = 0.0\\nsamples = 1\\nvalue = [1, 0]'),\n",
       " Text(227.84940392257406, 87.81230769230768, 'gini = 0.0\\nsamples = 2\\nvalue = [0, 2]'),\n",
       " Text(229.2227663120113, 112.90153846153846, 'X[1] <= 168.652\\ngini = 0.48\\nsamples = 15\\nvalue = [6, 9]'),\n",
       " Text(228.53608511729269, 104.53846153846153, 'gini = 0.0\\nsamples = 2\\nvalue = [2, 0]'),\n",
       " Text(229.90944750672992, 104.53846153846153, 'X[0] <= 66.381\\ngini = 0.426\\nsamples = 13\\nvalue = [4, 9]'),\n",
       " Text(229.2227663120113, 96.17538461538462, 'gini = 0.0\\nsamples = 1\\nvalue = [1, 0]'),\n",
       " Text(230.59612870144855, 96.17538461538462, 'X[0] <= 67.908\\ngini = 0.375\\nsamples = 12\\nvalue = [3, 9]'),\n",
       " Text(229.2227663120113, 87.81230769230768, 'X[0] <= 66.823\\ngini = 0.198\\nsamples = 9\\nvalue = [1, 8]'),\n",
       " Text(228.53608511729269, 79.44923076923078, 'X[1] <= 168.882\\ngini = 0.5\\nsamples = 2\\nvalue = [1, 1]'),\n",
       " Text(227.84940392257406, 71.08615384615385, 'gini = 0.0\\nsamples = 1\\nvalue = [1, 0]'),\n",
       " Text(229.2227663120113, 71.08615384615385, 'gini = 0.0\\nsamples = 1\\nvalue = [0, 1]'),\n",
       " Text(229.90944750672992, 79.44923076923078, 'gini = 0.0\\nsamples = 7\\nvalue = [0, 7]'),\n",
       " Text(231.9694910908858, 87.81230769230768, 'X[0] <= 68.34\\ngini = 0.444\\nsamples = 3\\nvalue = [2, 1]'),\n",
       " Text(231.28280989616718, 79.44923076923078, 'gini = 0.0\\nsamples = 2\\nvalue = [2, 0]'),\n",
       " Text(232.65617228560444, 79.44923076923078, 'gini = 0.0\\nsamples = 1\\nvalue = [0, 1]'),\n",
       " Text(210.61799769260352, 163.07999999999998, 'gini = 0.0\\nsamples = 2\\nvalue = [2, 0]'),\n",
       " Text(232.31283168824513, 188.16923076923078, 'X[1] <= 162.312\\ngini = 0.449\\nsamples = 47\\nvalue = [31, 16]'),\n",
       " Text(231.6261504935265, 179.80615384615385, 'gini = 0.0\\nsamples = 2\\nvalue = [0, 2]'),\n",
       " Text(232.99951288296376, 179.80615384615385, 'X[0] <= 69.235\\ngini = 0.429\\nsamples = 45\\nvalue = [31, 14]'),\n",
       " Text(229.39443661069095, 171.44307692307692, 'X[0] <= 68.789\\ngini = 0.488\\nsamples = 26\\nvalue = [15, 11]'),\n",
       " Text(227.6777336238944, 163.07999999999998, 'X[1] <= 163.638\\ngini = 0.198\\nsamples = 9\\nvalue = [8, 1]'),\n",
       " Text(226.99105242917577, 154.71692307692308, 'gini = 0.0\\nsamples = 1\\nvalue = [0, 1]'),\n",
       " Text(228.36441481861303, 154.71692307692308, 'gini = 0.0\\nsamples = 8\\nvalue = [8, 0]'),\n",
       " Text(231.11113959748752, 163.07999999999998, 'X[1] <= 166.624\\ngini = 0.484\\nsamples = 17\\nvalue = [7, 10]'),\n",
       " Text(229.73777720805026, 154.71692307692308, 'X[0] <= 69.016\\ngini = 0.48\\nsamples = 10\\nvalue = [6, 4]'),\n",
       " Text(229.05109601333163, 146.35384615384615, 'gini = 0.0\\nsamples = 2\\nvalue = [0, 2]'),\n",
       " Text(230.4244584027689, 146.35384615384615, 'X[0] <= 69.189\\ngini = 0.375\\nsamples = 8\\nvalue = [6, 2]'),\n",
       " Text(229.73777720805026, 137.99076923076922, 'X[1] <= 164.32\\ngini = 0.245\\nsamples = 7\\nvalue = [6, 1]'),\n",
       " Text(229.05109601333163, 129.6276923076923, 'X[0] <= 69.067\\ngini = 0.5\\nsamples = 2\\nvalue = [1, 1]'),\n",
       " Text(228.36441481861303, 121.26461538461538, 'gini = 0.0\\nsamples = 1\\nvalue = [0, 1]'),\n",
       " Text(229.73777720805026, 121.26461538461538, 'gini = 0.0\\nsamples = 1\\nvalue = [1, 0]'),\n",
       " Text(230.4244584027689, 129.6276923076923, 'gini = 0.0\\nsamples = 5\\nvalue = [5, 0]'),\n",
       " Text(231.11113959748752, 137.99076923076922, 'gini = 0.0\\nsamples = 1\\nvalue = [0, 1]'),\n",
       " Text(232.48450198692478, 154.71692307692308, 'X[1] <= 167.886\\ngini = 0.245\\nsamples = 7\\nvalue = [1, 6]'),\n",
       " Text(231.79782079220615, 146.35384615384615, 'gini = 0.0\\nsamples = 5\\nvalue = [0, 5]'),\n",
       " Text(233.17118318164339, 146.35384615384615, 'X[1] <= 168.234\\ngini = 0.5\\nsamples = 2\\nvalue = [1, 1]'),\n",
       " Text(232.48450198692478, 137.99076923076922, 'gini = 0.0\\nsamples = 1\\nvalue = [1, 0]'),\n",
       " Text(233.85786437636202, 137.99076923076922, 'gini = 0.0\\nsamples = 1\\nvalue = [0, 1]'),\n",
       " Text(236.60458915523654, 171.44307692307692, 'X[1] <= 168.442\\ngini = 0.266\\nsamples = 19\\nvalue = [16, 3]'),\n",
       " Text(235.9179079605179, 163.07999999999998, 'X[1] <= 165.425\\ngini = 0.198\\nsamples = 18\\nvalue = [16, 2]'),\n",
       " Text(235.23122676579928, 154.71692307692308, 'gini = 0.0\\nsamples = 9\\nvalue = [9, 0]'),\n",
       " Text(236.60458915523654, 154.71692307692308, 'X[1] <= 167.307\\ngini = 0.346\\nsamples = 9\\nvalue = [7, 2]'),\n",
       " Text(235.9179079605179, 146.35384615384615, 'X[0] <= 69.449\\ngini = 0.444\\nsamples = 3\\nvalue = [1, 2]'),\n",
       " Text(235.23122676579928, 137.99076923076922, 'gini = 0.0\\nsamples = 1\\nvalue = [1, 0]'),\n",
       " Text(236.60458915523654, 137.99076923076922, 'gini = 0.0\\nsamples = 2\\nvalue = [0, 2]'),\n",
       " Text(237.29127034995514, 146.35384615384615, 'gini = 0.0\\nsamples = 6\\nvalue = [6, 0]'),\n",
       " Text(237.29127034995514, 163.07999999999998, 'gini = 0.0\\nsamples = 1\\nvalue = [0, 1]'),\n",
       " Text(300.2459876938854, 196.53230769230768, 'X[1] <= 178.398\\ngini = 0.065\\nsamples = 2984\\nvalue = [100, 2884]'),\n",
       " Text(276.4642866299193, 188.16923076923078, 'X[0] <= 69.376\\ngini = 0.197\\nsamples = 633\\nvalue = [70, 563]'),\n",
       " Text(257.4410716574798, 179.80615384615385, 'X[0] <= 67.19\\ngini = 0.163\\nsamples = 557\\nvalue = [50, 507]'),\n",
       " Text(240.7246763235483, 171.44307692307692, 'X[1] <= 169.364\\ngini = 0.081\\nsamples = 238\\nvalue = [10, 228]'),\n",
       " Text(238.6646327393924, 163.07999999999998, 'X[1] <= 169.278\\ngini = 0.444\\nsamples = 3\\nvalue = [1, 2]'),\n",
       " Text(237.97795154467377, 154.71692307692308, 'gini = 0.0\\nsamples = 2\\nvalue = [0, 2]'),\n",
       " Text(239.35131393411103, 154.71692307692308, 'gini = 0.0\\nsamples = 1\\nvalue = [1, 0]'),\n",
       " Text(242.78471990770416, 163.07999999999998, 'X[1] <= 172.399\\ngini = 0.074\\nsamples = 235\\nvalue = [9, 226]'),\n",
       " Text(240.7246763235483, 154.71692307692308, 'X[1] <= 172.356\\ngini = 0.131\\nsamples = 85\\nvalue = [6, 79]'),\n",
       " Text(240.03799512882966, 146.35384615384615, 'X[1] <= 170.61\\ngini = 0.112\\nsamples = 84\\nvalue = [5, 79]'),\n",
       " Text(239.35131393411103, 137.99076923076922, 'gini = 0.0\\nsamples = 42\\nvalue = [0, 42]'),\n",
       " Text(240.7246763235483, 137.99076923076922, 'X[1] <= 170.63\\ngini = 0.21\\nsamples = 42\\nvalue = [5, 37]'),\n",
       " Text(240.03799512882966, 129.6276923076923, 'gini = 0.0\\nsamples = 1\\nvalue = [1, 0]'),\n",
       " Text(241.4113575182669, 129.6276923076923, 'X[1] <= 171.136\\ngini = 0.176\\nsamples = 41\\nvalue = [4, 37]'),\n",
       " Text(240.03799512882966, 121.26461538461538, 'X[1] <= 171.118\\ngini = 0.32\\nsamples = 15\\nvalue = [3, 12]'),\n",
       " Text(239.35131393411103, 112.90153846153846, 'X[1] <= 170.883\\ngini = 0.245\\nsamples = 14\\nvalue = [2, 12]'),\n",
       " Text(238.6646327393924, 104.53846153846153, 'X[1] <= 170.84\\ngini = 0.375\\nsamples = 8\\nvalue = [2, 6]'),\n",
       " Text(237.97795154467377, 96.17538461538462, 'X[1] <= 170.697\\ngini = 0.245\\nsamples = 7\\nvalue = [1, 6]'),\n",
       " Text(237.29127034995514, 87.81230769230768, 'X[1] <= 170.676\\ngini = 0.444\\nsamples = 3\\nvalue = [1, 2]'),\n",
       " Text(236.60458915523654, 79.44923076923078, 'gini = 0.0\\nsamples = 2\\nvalue = [0, 2]'),\n",
       " Text(237.97795154467377, 79.44923076923078, 'gini = 0.0\\nsamples = 1\\nvalue = [1, 0]'),\n",
       " Text(238.6646327393924, 87.81230769230768, 'gini = 0.0\\nsamples = 4\\nvalue = [0, 4]'),\n",
       " Text(239.35131393411103, 96.17538461538462, 'gini = 0.0\\nsamples = 1\\nvalue = [1, 0]'),\n",
       " Text(240.03799512882966, 104.53846153846153, 'gini = 0.0\\nsamples = 6\\nvalue = [0, 6]'),\n",
       " Text(240.7246763235483, 112.90153846153846, 'gini = 0.0\\nsamples = 1\\nvalue = [1, 0]'),\n",
       " Text(242.78471990770416, 121.26461538461538, 'X[1] <= 171.994\\ngini = 0.074\\nsamples = 26\\nvalue = [1, 25]'),\n",
       " Text(242.09803871298553, 112.90153846153846, 'gini = 0.0\\nsamples = 19\\nvalue = [0, 19]'),\n",
       " Text(243.4714011024228, 112.90153846153846, 'X[1] <= 172.016\\ngini = 0.245\\nsamples = 7\\nvalue = [1, 6]'),\n",
       " Text(242.78471990770416, 104.53846153846153, 'gini = 0.0\\nsamples = 1\\nvalue = [1, 0]'),\n",
       " Text(244.15808229714142, 104.53846153846153, 'gini = 0.0\\nsamples = 6\\nvalue = [0, 6]'),\n",
       " Text(241.4113575182669, 146.35384615384615, 'gini = 0.0\\nsamples = 1\\nvalue = [1, 0]'),\n",
       " Text(244.84476349186005, 154.71692307692308, 'X[1] <= 174.315\\ngini = 0.039\\nsamples = 150\\nvalue = [3, 147]'),\n",
       " Text(244.15808229714142, 146.35384615384615, 'gini = 0.0\\nsamples = 49\\nvalue = [0, 49]'),\n",
       " Text(245.53144468657865, 146.35384615384615, 'X[1] <= 174.332\\ngini = 0.058\\nsamples = 101\\nvalue = [3, 98]'),\n",
       " Text(244.84476349186005, 137.99076923076922, 'gini = 0.0\\nsamples = 1\\nvalue = [1, 0]'),\n",
       " Text(246.21812588129728, 137.99076923076922, 'X[1] <= 174.472\\ngini = 0.039\\nsamples = 100\\nvalue = [2, 98]'),\n",
       " Text(244.84476349186005, 129.6276923076923, 'X[1] <= 174.442\\ngini = 0.375\\nsamples = 4\\nvalue = [1, 3]'),\n",
       " Text(244.15808229714142, 121.26461538461538, 'gini = 0.0\\nsamples = 3\\nvalue = [0, 3]'),\n",
       " Text(245.53144468657865, 121.26461538461538, 'gini = 0.0\\nsamples = 1\\nvalue = [1, 0]'),\n",
       " Text(247.59148827073454, 129.6276923076923, 'X[1] <= 176.303\\ngini = 0.021\\nsamples = 96\\nvalue = [1, 95]'),\n",
       " Text(246.9048070760159, 121.26461538461538, 'gini = 0.0\\nsamples = 55\\nvalue = [0, 55]'),\n",
       " Text(248.27816946545317, 121.26461538461538, 'X[1] <= 176.385\\ngini = 0.048\\nsamples = 41\\nvalue = [1, 40]'),\n",
       " Text(247.59148827073454, 112.90153846153846, 'gini = 0.0\\nsamples = 1\\nvalue = [1, 0]'),\n",
       " Text(248.9648506601718, 112.90153846153846, 'gini = 0.0\\nsamples = 40\\nvalue = [0, 40]'),\n",
       " Text(274.15746699141135, 171.44307692307692, 'X[0] <= 67.191\\ngini = 0.219\\nsamples = 319\\nvalue = [40, 279]'),\n",
       " Text(273.4707857966928, 163.07999999999998, 'gini = 0.0\\nsamples = 1\\nvalue = [1, 0]'),\n",
       " Text(274.84414818613, 163.07999999999998, 'X[0] <= 69.192\\ngini = 0.215\\nsamples = 318\\nvalue = [39, 279]'),\n",
       " Text(274.15746699141135, 154.71692307692308, 'X[0] <= 69.183\\ngini = 0.229\\nsamples = 296\\nvalue = [39, 257]'),\n",
       " Text(273.4707857966928, 146.35384615384615, 'X[1] <= 175.361\\ngini = 0.224\\nsamples = 295\\nvalue = [38, 257]'),\n",
       " Text(264.84435328804, 137.99076923076922, 'X[1] <= 174.684\\ngini = 0.262\\nsamples = 181\\nvalue = [28, 153]'),\n",
       " Text(257.376695295475, 129.6276923076923, 'X[0] <= 67.853\\ngini = 0.215\\nsamples = 155\\nvalue = [19, 136]'),\n",
       " Text(253.42827842584288, 121.26461538461538, 'X[1] <= 171.599\\ngini = 0.337\\nsamples = 56\\nvalue = [12, 44]'),\n",
       " Text(250.33821304960904, 112.90153846153846, 'X[1] <= 170.561\\ngini = 0.494\\nsamples = 18\\nvalue = [8, 10]'),\n",
       " Text(248.27816946545317, 104.53846153846153, 'X[1] <= 169.683\\ngini = 0.346\\nsamples = 9\\nvalue = [2, 7]'),\n",
       " Text(247.59148827073454, 96.17538461538462, 'gini = 0.0\\nsamples = 1\\nvalue = [1, 0]'),\n",
       " Text(248.9648506601718, 96.17538461538462, 'X[1] <= 170.318\\ngini = 0.219\\nsamples = 8\\nvalue = [1, 7]'),\n",
       " Text(248.27816946545317, 87.81230769230768, 'gini = 0.0\\nsamples = 5\\nvalue = [0, 5]'),\n",
       " Text(249.6515318548904, 87.81230769230768, 'X[0] <= 67.484\\ngini = 0.444\\nsamples = 3\\nvalue = [1, 2]'),\n",
       " Text(248.9648506601718, 79.44923076923078, 'gini = 0.0\\nsamples = 2\\nvalue = [0, 2]'),\n",
       " Text(250.33821304960904, 79.44923076923078, 'gini = 0.0\\nsamples = 1\\nvalue = [1, 0]'),\n",
       " Text(252.39825663376493, 104.53846153846153, 'X[0] <= 67.463\\ngini = 0.444\\nsamples = 9\\nvalue = [6, 3]'),\n",
       " Text(251.7115754390463, 96.17538461538462, 'X[1] <= 171.006\\ngini = 0.48\\nsamples = 5\\nvalue = [2, 3]'),\n",
       " ...]"
      ]
     },
     "execution_count": 47,
     "metadata": {},
     "output_type": "execute_result"
    },
    {
     "data": {
      "image/png": "[encoded data removed]",
      "text/plain": [
       "<Figure size 432x288 with 1 Axes>"
      ]
     },
     "metadata": {
      "needs_background": "light"
     },
     "output_type": "display_data"
    }
   ],
   "source": [
    "from sklearn.tree import DecisionTreeClassifier\n",
    "from sklearn import tree\n",
    "dt_clf = DecisionTreeClassifier()\n",
    "dt_clf.fit(xtrain_dt, ytrain_dt)\n",
    "\n",
    "\n",
    "tree.plot_tree(dt_clf)"
   ]
  },
  {
   "cell_type": "code",
   "execution_count": 48,
   "id": "9d279687",
   "metadata": {},
   "outputs": [
    {
     "data": {
      "text/plain": [
       "'              precision    recall  f1-score   support\\n\\n      Female       0.85      0.87      0.86      1067\\n        Male       0.91      0.89      0.90      1500\\n\\n    accuracy                           0.88      2567\\n   macro avg       0.88      0.88      0.88      2567\\nweighted avg       0.88      0.88      0.88      2567\\n'"
      ]
     },
     "execution_count": 48,
     "metadata": {},
     "output_type": "execute_result"
    }
   ],
   "source": [
    "from sklearn.metrics import classification_report, accuracy_score, confusion_matrix, plot_roc_curve\n",
    "import numpy as np\n",
    "\n",
    "dtc_predictions = dt_clf.predict(xtest_dt)\n",
    "dtc_predictions\n",
    "\n",
    "np.array(dtc_predictions)\n",
    "classification_report(ytest_dt, dtc_predictions)"
   ]
  },
  {
   "cell_type": "code",
   "execution_count": 49,
   "id": "ebe13726",
   "metadata": {},
   "outputs": [
    {
     "name": "stdout",
     "output_type": "stream",
     "text": [
      "              precision    recall  f1-score   support\n",
      "\n",
      "      Female       0.85      0.87      0.86      1067\n",
      "        Male       0.91      0.89      0.90      1500\n",
      "\n",
      "    accuracy                           0.88      2567\n",
      "   macro avg       0.88      0.88      0.88      2567\n",
      "weighted avg       0.88      0.88      0.88      2567\n",
      "\n"
     ]
    }
   ],
   "source": [
    "print(classification_report(ytest_dt, dtc_predictions))"
   ]
  },
  {
   "cell_type": "code",
   "execution_count": 50,
   "id": "2349d575",
   "metadata": {},
   "outputs": [
    {
     "data": {
      "text/plain": [
       "array([[ 933,  134],\n",
       "       [ 163, 1337]], dtype=int64)"
      ]
     },
     "execution_count": 50,
     "metadata": {},
     "output_type": "execute_result"
    }
   ],
   "source": [
    "confusion_matrix(ytest_dt, dtc_predictions)"
   ]
  },
  {
   "cell_type": "code",
   "execution_count": 51,
   "id": "d895c340",
   "metadata": {},
   "outputs": [],
   "source": [
    "tp, fn, fp, tn = confusion_matrix(ytest_dt, dtc_predictions).reshape(-1)"
   ]
  },
  {
   "cell_type": "code",
   "execution_count": 52,
   "id": "08d69721",
   "metadata": {},
   "outputs": [
    {
     "data": {
      "text/plain": [
       "0.8843007401636152"
      ]
     },
     "execution_count": 52,
     "metadata": {},
     "output_type": "execute_result"
    }
   ],
   "source": [
    "(tp+tn)/(tp+tn+fp+fn)"
   ]
  },
  {
   "cell_type": "code",
   "execution_count": 53,
   "id": "2bed8d97",
   "metadata": {},
   "outputs": [
    {
     "data": {
      "text/plain": [
       "0.8843007401636152"
      ]
     },
     "execution_count": 53,
     "metadata": {},
     "output_type": "execute_result"
    }
   ],
   "source": [
    "accuracy_score(ytest_dt, dtc_predictions)"
   ]
  },
  {
   "cell_type": "code",
   "execution_count": 54,
   "id": "9f75f072",
   "metadata": {},
   "outputs": [
    {
     "data": {
      "text/plain": [
       "<sklearn.metrics._plot.roc_curve.RocCurveDisplay at 0x1e019d3a310>"
      ]
     },
     "execution_count": 54,
     "metadata": {},
     "output_type": "execute_result"
    },
    {
     "data": {
      "image/png": "[encoded data removed]",
      "text/plain": [
       "<Figure size 432x288 with 1 Axes>"
      ]
     },
     "metadata": {
      "needs_background": "light"
     },
     "output_type": "display_data"
    }
   ],
   "source": [
    "plot_roc_curve(dt_clf, xtest_dt, ytest_dt, color='Blue')"
   ]
  },
  {
   "cell_type": "markdown",
   "id": "5adf8901",
   "metadata": {},
   "source": [
    "# KNN Classifier, Score, Accuracy"
   ]
  },
  {
   "cell_type": "code",
   "execution_count": 55,
   "id": "ab4def68",
   "metadata": {},
   "outputs": [
    {
     "data": {
      "text/plain": [
       "array(['Male', 'Female', 'Female', ..., 'Female', 'Male', 'Male'],\n",
       "      dtype=object)"
      ]
     },
     "execution_count": 55,
     "metadata": {},
     "output_type": "execute_result"
    }
   ],
   "source": [
    "from sklearn.neighbors import KNeighborsClassifier\n",
    "kn_clf = KNeighborsClassifier(n_neighbors=5)\n",
    "\n",
    "kn_clf.fit(xtrain_dt, ytrain_dt)\n",
    "knc_predictions = kn_clf.predict(xtest_dt)\n",
    "knc_predictions"
   ]
  },
  {
   "cell_type": "code",
   "execution_count": 56,
   "id": "270c93a5",
   "metadata": {},
   "outputs": [
    {
     "data": {
      "text/plain": [
       "'              precision    recall  f1-score   support\\n\\n      Female       0.90      0.90      0.90      1067\\n        Male       0.93      0.93      0.93      1500\\n\\n    accuracy                           0.91      2567\\n   macro avg       0.91      0.91      0.91      2567\\nweighted avg       0.91      0.91      0.91      2567\\n'"
      ]
     },
     "execution_count": 56,
     "metadata": {},
     "output_type": "execute_result"
    }
   ],
   "source": [
    "classification_report(ytest_dt, knc_predictions)"
   ]
  },
  {
   "cell_type": "code",
   "execution_count": 57,
   "id": "75d82340",
   "metadata": {},
   "outputs": [
    {
     "name": "stdout",
     "output_type": "stream",
     "text": [
      "              precision    recall  f1-score   support\n",
      "\n",
      "      Female       0.90      0.90      0.90      1067\n",
      "        Male       0.93      0.93      0.93      1500\n",
      "\n",
      "    accuracy                           0.91      2567\n",
      "   macro avg       0.91      0.91      0.91      2567\n",
      "weighted avg       0.91      0.91      0.91      2567\n",
      "\n"
     ]
    }
   ],
   "source": [
    "print(classification_report(ytest_dt, knc_predictions))"
   ]
  },
  {
   "cell_type": "code",
   "execution_count": 58,
   "id": "cb59b9a0",
   "metadata": {},
   "outputs": [
    {
     "data": {
      "text/plain": [
       "array([[ 957,  110],\n",
       "       [ 112, 1388]], dtype=int64)"
      ]
     },
     "execution_count": 58,
     "metadata": {},
     "output_type": "execute_result"
    }
   ],
   "source": [
    "confusion_matrix(ytest_dt, knc_predictions)"
   ]
  },
  {
   "cell_type": "code",
   "execution_count": 172,
   "id": "6e68ae9c",
   "metadata": {},
   "outputs": [],
   "source": [
    "kNNC_Score=accuracy_score(ytest_dt, dtc_predictions)"
   ]
  },
  {
   "cell_type": "code",
   "execution_count": 173,
   "id": "fab5dc43",
   "metadata": {},
   "outputs": [
    {
     "data": {
      "text/plain": [
       "0.8843007401636152"
      ]
     },
     "execution_count": 173,
     "metadata": {},
     "output_type": "execute_result"
    }
   ],
   "source": [
    "kNNC_Score"
   ]
  },
  {
   "cell_type": "code",
   "execution_count": 60,
   "id": "d8cb4c03",
   "metadata": {},
   "outputs": [
    {
     "data": {
      "image/png": "[encoded data removed]",
      "text/plain": [
       "<Figure size 432x288 with 1 Axes>"
      ]
     },
     "metadata": {
      "needs_background": "light"
     },
     "output_type": "display_data"
    }
   ],
   "source": [
    "plot_roc_curve(kn_clf, xtest_dt, ytest_dt, color='red')\n",
    "plt.plot([0,1],[0,1],'k--')\n",
    "plt.xlabel('fpr')\n",
    "plt.ylabel('tpr')\n",
    "plt.title('Knn(n_neighbors=7) ROC curve')\n",
    "plt.show()"
   ]
  },
  {
   "cell_type": "markdown",
   "id": "0998e2f8",
   "metadata": {},
   "source": [
    "# Using Hyper Parameter Tuning"
   ]
  },
  {
   "cell_type": "code",
   "execution_count": 61,
   "id": "41d4fb89",
   "metadata": {},
   "outputs": [],
   "source": [
    "import numpy as np\n",
    "trees = [int(x) for x in np.linspace(start=15, stop=200, num=25)]"
   ]
  },
  {
   "cell_type": "code",
   "execution_count": 62,
   "id": "3d450ba7",
   "metadata": {},
   "outputs": [],
   "source": [
    "total_tees = np.random.randint(15,200,25)"
   ]
  },
  {
   "cell_type": "code",
   "execution_count": 63,
   "id": "4c93ba62",
   "metadata": {},
   "outputs": [
    {
     "data": {
      "text/plain": [
       "array([ 54, 154,  82, 169,  62,  77, 109,  24, 120, 149,  42, 119,  16,\n",
       "       104, 173, 190,  22,  76, 184, 104, 197,  96, 177, 140, 196])"
      ]
     },
     "execution_count": 63,
     "metadata": {},
     "output_type": "execute_result"
    }
   ],
   "source": [
    "total_tees"
   ]
  },
  {
   "cell_type": "code",
   "execution_count": 102,
   "id": "06fc3b22",
   "metadata": {},
   "outputs": [],
   "source": [
    "n_neighbors=[5,301,801]\n",
    "weights=['uniform','distance']\n",
    "algorithm=['auto']\n",
    "metric=['minkowski']\n",
    "\n"
   ]
  },
  {
   "cell_type": "code",
   "execution_count": 103,
   "id": "4475dab1",
   "metadata": {},
   "outputs": [],
   "source": [
    "grids = {\n",
    "    'n_neighbors':n_neighbors ,\n",
    "    'weights':weights  ,\n",
    "    'algorithm':algorithm,\n",
    "    'metric':metric,\n",
    "\n",
    "}"
   ]
  },
  {
   "cell_type": "code",
   "execution_count": 104,
   "id": "c6737db3",
   "metadata": {},
   "outputs": [
    {
     "name": "stdout",
     "output_type": "stream",
     "text": [
      "{'n_neighbors': [5, 301, 801], 'weights': ['uniform', 'distance'], 'algorithm': ['auto'], 'metric': ['minkowski']}\n"
     ]
    }
   ],
   "source": [
    "print(grids)"
   ]
  },
  {
   "cell_type": "code",
   "execution_count": null,
   "id": "b65c5475",
   "metadata": {},
   "outputs": [],
   "source": []
  },
  {
   "cell_type": "markdown",
   "id": "2ef073dc",
   "metadata": {},
   "source": [
    "# Applying Randomized search CV to select best K value for knn regressor"
   ]
  },
  {
   "cell_type": "code",
   "execution_count": 105,
   "id": "2398a30f",
   "metadata": {},
   "outputs": [],
   "source": [
    "from sklearn.model_selection import RandomizedSearchCV"
   ]
  },
  {
   "cell_type": "code",
   "execution_count": 211,
   "id": "2c2d5be3",
   "metadata": {},
   "outputs": [],
   "source": [
    "rando_kn_reg = RandomizedSearchCV(estimator = kn_reg, random_state = 42,n_jobs = -1,param_distributions = grids,n_iter = 800, cv=3,verbose = 2)\n",
    "     "
   ]
  },
  {
   "cell_type": "code",
   "execution_count": 212,
   "id": "b9a2a880",
   "metadata": {},
   "outputs": [
    {
     "data": {
      "text/plain": [
       "RandomizedSearchCV(cv=3, estimator=KNeighborsRegressor(), n_iter=800, n_jobs=-1,\n",
       "                   param_distributions={'algorithm': ['auto'],\n",
       "                                        'metric': ['minkowski'],\n",
       "                                        'n_neighbors': [5, 301, 801],\n",
       "                                        'weights': ['uniform', 'distance']},\n",
       "                   random_state=42, verbose=2)"
      ]
     },
     "execution_count": 212,
     "metadata": {},
     "output_type": "execute_result"
    }
   ],
   "source": [
    "rando_kn_reg"
   ]
  },
  {
   "cell_type": "code",
   "execution_count": 213,
   "id": "6a96aed5",
   "metadata": {},
   "outputs": [
    {
     "name": "stderr",
     "output_type": "stream",
     "text": [
      "C:\\ProgramData\\Anaconda3\\lib\\site-packages\\sklearn\\model_selection\\_search.py:285: UserWarning: The total space of parameters 6 is smaller than n_iter=800. Running 6 iterations. For exhaustive searches, use GridSearchCV.\n",
      "  warnings.warn(\n"
     ]
    },
    {
     "name": "stdout",
     "output_type": "stream",
     "text": [
      "Fitting 3 folds for each of 6 candidates, totalling 18 fits\n"
     ]
    },
    {
     "data": {
      "text/plain": [
       "RandomizedSearchCV(cv=3, estimator=KNeighborsRegressor(), n_iter=800, n_jobs=-1,\n",
       "                   param_distributions={'algorithm': ['auto'],\n",
       "                                        'metric': ['minkowski'],\n",
       "                                        'n_neighbors': [5, 301, 801],\n",
       "                                        'weights': ['uniform', 'distance']},\n",
       "                   random_state=42, verbose=2)"
      ]
     },
     "execution_count": 213,
     "metadata": {},
     "output_type": "execute_result"
    }
   ],
   "source": [
    "rando_kn_reg.fit(xtrain, ytrain)"
   ]
  },
  {
   "cell_type": "code",
   "execution_count": 214,
   "id": "7569ccb7",
   "metadata": {},
   "outputs": [
    {
     "data": {
      "text/plain": [
       "{'weights': 'distance',\n",
       " 'n_neighbors': 301,\n",
       " 'metric': 'minkowski',\n",
       " 'algorithm': 'auto'}"
      ]
     },
     "execution_count": 214,
     "metadata": {},
     "output_type": "execute_result"
    }
   ],
   "source": [
    "rando_kn_reg.best_params_"
   ]
  },
  {
   "cell_type": "code",
   "execution_count": 215,
   "id": "9b50637d",
   "metadata": {},
   "outputs": [
    {
     "data": {
      "text/plain": [
       "{'mean_fit_time': array([0.00601808, 0.00568501, 0.00635147, 0.00568493, 0.00635099,\n",
       "        0.00568374]),\n",
       " 'std_fit_time': array([0.00081838, 0.00047401, 0.00047373, 0.00047227, 0.00094561,\n",
       "        0.00047547]),\n",
       " 'mean_score_time': array([0.04247546, 0.01839375, 0.08428439, 0.08962878, 0.23076407,\n",
       "        0.2254111 ]),\n",
       " 'std_score_time': array([0.00094662, 0.01608088, 0.00245914, 0.00206551, 0.00855114,\n",
       "        0.01148006]),\n",
       " 'param_weights': masked_array(data=['uniform', 'distance', 'uniform', 'distance',\n",
       "                    'uniform', 'distance'],\n",
       "              mask=[False, False, False, False, False, False],\n",
       "        fill_value='?',\n",
       "             dtype=object),\n",
       " 'param_n_neighbors': masked_array(data=[5, 5, 301, 301, 801, 801],\n",
       "              mask=[False, False, False, False, False, False],\n",
       "        fill_value='?',\n",
       "             dtype=object),\n",
       " 'param_metric': masked_array(data=['minkowski', 'minkowski', 'minkowski', 'minkowski',\n",
       "                    'minkowski', 'minkowski'],\n",
       "              mask=[False, False, False, False, False, False],\n",
       "        fill_value='?',\n",
       "             dtype=object),\n",
       " 'param_algorithm': masked_array(data=['auto', 'auto', 'auto', 'auto', 'auto', 'auto'],\n",
       "              mask=[False, False, False, False, False, False],\n",
       "        fill_value='?',\n",
       "             dtype=object),\n",
       " 'params': [{'weights': 'uniform',\n",
       "   'n_neighbors': 5,\n",
       "   'metric': 'minkowski',\n",
       "   'algorithm': 'auto'},\n",
       "  {'weights': 'distance',\n",
       "   'n_neighbors': 5,\n",
       "   'metric': 'minkowski',\n",
       "   'algorithm': 'auto'},\n",
       "  {'weights': 'uniform',\n",
       "   'n_neighbors': 301,\n",
       "   'metric': 'minkowski',\n",
       "   'algorithm': 'auto'},\n",
       "  {'weights': 'distance',\n",
       "   'n_neighbors': 301,\n",
       "   'metric': 'minkowski',\n",
       "   'algorithm': 'auto'},\n",
       "  {'weights': 'uniform',\n",
       "   'n_neighbors': 801,\n",
       "   'metric': 'minkowski',\n",
       "   'algorithm': 'auto'},\n",
       "  {'weights': 'distance',\n",
       "   'n_neighbors': 801,\n",
       "   'metric': 'minkowski',\n",
       "   'algorithm': 'auto'}],\n",
       " 'split0_test_score': array([0.88493092, 0.86780406, 0.87702821, 0.88299925, 0.83877855,\n",
       "        0.87587542]),\n",
       " 'split1_test_score': array([0.87559837, 0.85137077, 0.88021777, 0.87727248, 0.84195273,\n",
       "        0.87251952]),\n",
       " 'split2_test_score': array([0.87510855, 0.85324463, 0.87938659, 0.87643443, 0.83892853,\n",
       "        0.87169598]),\n",
       " 'mean_test_score': array([0.87854595, 0.85747315, 0.87887753, 0.87890206, 0.8398866 ,\n",
       "        0.87336364]),\n",
       " 'std_test_score': array([0.00451928, 0.007345  , 0.00135097, 0.00291729, 0.00146226,\n",
       "        0.00180764]),\n",
       " 'rank_test_score': array([3, 5, 2, 1, 6, 4])}"
      ]
     },
     "execution_count": 215,
     "metadata": {},
     "output_type": "execute_result"
    }
   ],
   "source": [
    "rando_kn_reg.cv_results_"
   ]
  },
  {
   "cell_type": "code",
   "execution_count": 216,
   "id": "d3f1a2cb",
   "metadata": {},
   "outputs": [],
   "source": [
    "result = pd.DataFrame(rando_kn_reg.cv_results_)"
   ]
  },
  {
   "cell_type": "code",
   "execution_count": 217,
   "id": "91b6b082",
   "metadata": {},
   "outputs": [
    {
     "data": {
      "text/html": [
       "<div>\n",
       "<style scoped>\n",
       "    .dataframe tbody tr th:only-of-type {\n",
       "        vertical-align: middle;\n",
       "    }\n",
       "\n",
       "    .dataframe tbody tr th {\n",
       "        vertical-align: top;\n",
       "    }\n",
       "\n",
       "    .dataframe thead th {\n",
       "        text-align: right;\n",
       "    }\n",
       "</style>\n",
       "<table border=\"1\" class=\"dataframe\">\n",
       "  <thead>\n",
       "    <tr style=\"text-align: right;\">\n",
       "      <th></th>\n",
       "      <th>mean_fit_time</th>\n",
       "      <th>std_fit_time</th>\n",
       "      <th>mean_score_time</th>\n",
       "      <th>std_score_time</th>\n",
       "      <th>param_weights</th>\n",
       "      <th>param_n_neighbors</th>\n",
       "      <th>param_metric</th>\n",
       "      <th>param_algorithm</th>\n",
       "      <th>params</th>\n",
       "      <th>split0_test_score</th>\n",
       "      <th>split1_test_score</th>\n",
       "      <th>split2_test_score</th>\n",
       "      <th>mean_test_score</th>\n",
       "      <th>std_test_score</th>\n",
       "      <th>rank_test_score</th>\n",
       "    </tr>\n",
       "  </thead>\n",
       "  <tbody>\n",
       "    <tr>\n",
       "      <th>0</th>\n",
       "      <td>0.006018</td>\n",
       "      <td>0.000818</td>\n",
       "      <td>0.042475</td>\n",
       "      <td>0.000947</td>\n",
       "      <td>uniform</td>\n",
       "      <td>5</td>\n",
       "      <td>minkowski</td>\n",
       "      <td>auto</td>\n",
       "      <td>{'weights': 'uniform', 'n_neighbors': 5, 'metr...</td>\n",
       "      <td>0.884931</td>\n",
       "      <td>0.875598</td>\n",
       "      <td>0.875109</td>\n",
       "      <td>0.878546</td>\n",
       "      <td>0.004519</td>\n",
       "      <td>3</td>\n",
       "    </tr>\n",
       "    <tr>\n",
       "      <th>1</th>\n",
       "      <td>0.005685</td>\n",
       "      <td>0.000474</td>\n",
       "      <td>0.018394</td>\n",
       "      <td>0.016081</td>\n",
       "      <td>distance</td>\n",
       "      <td>5</td>\n",
       "      <td>minkowski</td>\n",
       "      <td>auto</td>\n",
       "      <td>{'weights': 'distance', 'n_neighbors': 5, 'met...</td>\n",
       "      <td>0.867804</td>\n",
       "      <td>0.851371</td>\n",
       "      <td>0.853245</td>\n",
       "      <td>0.857473</td>\n",
       "      <td>0.007345</td>\n",
       "      <td>5</td>\n",
       "    </tr>\n",
       "    <tr>\n",
       "      <th>2</th>\n",
       "      <td>0.006351</td>\n",
       "      <td>0.000474</td>\n",
       "      <td>0.084284</td>\n",
       "      <td>0.002459</td>\n",
       "      <td>uniform</td>\n",
       "      <td>301</td>\n",
       "      <td>minkowski</td>\n",
       "      <td>auto</td>\n",
       "      <td>{'weights': 'uniform', 'n_neighbors': 301, 'me...</td>\n",
       "      <td>0.877028</td>\n",
       "      <td>0.880218</td>\n",
       "      <td>0.879387</td>\n",
       "      <td>0.878878</td>\n",
       "      <td>0.001351</td>\n",
       "      <td>2</td>\n",
       "    </tr>\n",
       "    <tr>\n",
       "      <th>3</th>\n",
       "      <td>0.005685</td>\n",
       "      <td>0.000472</td>\n",
       "      <td>0.089629</td>\n",
       "      <td>0.002066</td>\n",
       "      <td>distance</td>\n",
       "      <td>301</td>\n",
       "      <td>minkowski</td>\n",
       "      <td>auto</td>\n",
       "      <td>{'weights': 'distance', 'n_neighbors': 301, 'm...</td>\n",
       "      <td>0.882999</td>\n",
       "      <td>0.877272</td>\n",
       "      <td>0.876434</td>\n",
       "      <td>0.878902</td>\n",
       "      <td>0.002917</td>\n",
       "      <td>1</td>\n",
       "    </tr>\n",
       "    <tr>\n",
       "      <th>4</th>\n",
       "      <td>0.006351</td>\n",
       "      <td>0.000946</td>\n",
       "      <td>0.230764</td>\n",
       "      <td>0.008551</td>\n",
       "      <td>uniform</td>\n",
       "      <td>801</td>\n",
       "      <td>minkowski</td>\n",
       "      <td>auto</td>\n",
       "      <td>{'weights': 'uniform', 'n_neighbors': 801, 'me...</td>\n",
       "      <td>0.838779</td>\n",
       "      <td>0.841953</td>\n",
       "      <td>0.838929</td>\n",
       "      <td>0.839887</td>\n",
       "      <td>0.001462</td>\n",
       "      <td>6</td>\n",
       "    </tr>\n",
       "    <tr>\n",
       "      <th>5</th>\n",
       "      <td>0.005684</td>\n",
       "      <td>0.000475</td>\n",
       "      <td>0.225411</td>\n",
       "      <td>0.011480</td>\n",
       "      <td>distance</td>\n",
       "      <td>801</td>\n",
       "      <td>minkowski</td>\n",
       "      <td>auto</td>\n",
       "      <td>{'weights': 'distance', 'n_neighbors': 801, 'm...</td>\n",
       "      <td>0.875875</td>\n",
       "      <td>0.872520</td>\n",
       "      <td>0.871696</td>\n",
       "      <td>0.873364</td>\n",
       "      <td>0.001808</td>\n",
       "      <td>4</td>\n",
       "    </tr>\n",
       "  </tbody>\n",
       "</table>\n",
       "</div>"
      ],
      "text/plain": [
       "   mean_fit_time  std_fit_time  mean_score_time  std_score_time param_weights  \\\n",
       "0       0.006018      0.000818         0.042475        0.000947       uniform   \n",
       "1       0.005685      0.000474         0.018394        0.016081      distance   \n",
       "2       0.006351      0.000474         0.084284        0.002459       uniform   \n",
       "3       0.005685      0.000472         0.089629        0.002066      distance   \n",
       "4       0.006351      0.000946         0.230764        0.008551       uniform   \n",
       "5       0.005684      0.000475         0.225411        0.011480      distance   \n",
       "\n",
       "  param_n_neighbors param_metric param_algorithm  \\\n",
       "0                 5    minkowski            auto   \n",
       "1                 5    minkowski            auto   \n",
       "2               301    minkowski            auto   \n",
       "3               301    minkowski            auto   \n",
       "4               801    minkowski            auto   \n",
       "5               801    minkowski            auto   \n",
       "\n",
       "                                              params  split0_test_score  \\\n",
       "0  {'weights': 'uniform', 'n_neighbors': 5, 'metr...           0.884931   \n",
       "1  {'weights': 'distance', 'n_neighbors': 5, 'met...           0.867804   \n",
       "2  {'weights': 'uniform', 'n_neighbors': 301, 'me...           0.877028   \n",
       "3  {'weights': 'distance', 'n_neighbors': 301, 'm...           0.882999   \n",
       "4  {'weights': 'uniform', 'n_neighbors': 801, 'me...           0.838779   \n",
       "5  {'weights': 'distance', 'n_neighbors': 801, 'm...           0.875875   \n",
       "\n",
       "   split1_test_score  split2_test_score  mean_test_score  std_test_score  \\\n",
       "0           0.875598           0.875109         0.878546        0.004519   \n",
       "1           0.851371           0.853245         0.857473        0.007345   \n",
       "2           0.880218           0.879387         0.878878        0.001351   \n",
       "3           0.877272           0.876434         0.878902        0.002917   \n",
       "4           0.841953           0.838929         0.839887        0.001462   \n",
       "5           0.872520           0.871696         0.873364        0.001808   \n",
       "\n",
       "   rank_test_score  \n",
       "0                3  \n",
       "1                5  \n",
       "2                2  \n",
       "3                1  \n",
       "4                6  \n",
       "5                4  "
      ]
     },
     "execution_count": 217,
     "metadata": {},
     "output_type": "execute_result"
    }
   ],
   "source": [
    "result"
   ]
  },
  {
   "cell_type": "code",
   "execution_count": 218,
   "id": "8c0ae3dd",
   "metadata": {},
   "outputs": [
    {
     "data": {
      "text/plain": [
       "0.8789020571786499"
      ]
     },
     "execution_count": 218,
     "metadata": {},
     "output_type": "execute_result"
    }
   ],
   "source": [
    "rando_kn_reg.best_score_"
   ]
  },
  {
   "cell_type": "code",
   "execution_count": 219,
   "id": "8da9fc69",
   "metadata": {},
   "outputs": [],
   "source": [
    "ran = rando_kn_reg.best_estimator_"
   ]
  },
  {
   "cell_type": "code",
   "execution_count": 220,
   "id": "d9c7bf33",
   "metadata": {},
   "outputs": [
    {
     "data": {
      "text/plain": [
       "KNeighborsRegressor(n_neighbors=301, weights='distance')"
      ]
     },
     "execution_count": 220,
     "metadata": {},
     "output_type": "execute_result"
    }
   ],
   "source": [
    "ran"
   ]
  },
  {
   "cell_type": "code",
   "execution_count": 221,
   "id": "470cf527",
   "metadata": {},
   "outputs": [
    {
     "data": {
      "text/plain": [
       "KNeighborsRegressor(n_neighbors=301, weights='distance')"
      ]
     },
     "execution_count": 221,
     "metadata": {},
     "output_type": "execute_result"
    }
   ],
   "source": [
    "ran.fit(xtrain, ytrain)"
   ]
  },
  {
   "cell_type": "code",
   "execution_count": 222,
   "id": "b6174319",
   "metadata": {},
   "outputs": [],
   "source": [
    "After_Tuning_Score=ran.score(xtest, ytest)"
   ]
  },
  {
   "cell_type": "code",
   "execution_count": 223,
   "id": "04ccba9d",
   "metadata": {},
   "outputs": [
    {
     "data": {
      "text/plain": [
       "0.8885903893642304"
      ]
     },
     "execution_count": 223,
     "metadata": {},
     "output_type": "execute_result"
    }
   ],
   "source": [
    "After_Tuning_Score"
   ]
  },
  {
   "cell_type": "code",
   "execution_count": 224,
   "id": "8495136e",
   "metadata": {},
   "outputs": [],
   "source": [
    "knreg_ran_test_predictions = ran.predict(xtest)\n"
   ]
  },
  {
   "cell_type": "code",
   "execution_count": 225,
   "id": "1ab35397",
   "metadata": {},
   "outputs": [
    {
     "data": {
      "text/plain": [
       "array([195.93267201, 155.07457656, 173.88859459, ..., 142.61826287,\n",
       "       172.61646064, 218.20983605])"
      ]
     },
     "execution_count": 225,
     "metadata": {},
     "output_type": "execute_result"
    }
   ],
   "source": [
    "knreg_ran_test_predictions"
   ]
  },
  {
   "cell_type": "code",
   "execution_count": 226,
   "id": "7640f844",
   "metadata": {},
   "outputs": [],
   "source": [
    "knreg_ran_mse=mean_squared_error(ytest, knreg_ran_test_predictions)"
   ]
  },
  {
   "cell_type": "code",
   "execution_count": 227,
   "id": "e905a4c4",
   "metadata": {},
   "outputs": [
    {
     "data": {
      "text/plain": [
       "117.08903294239599"
      ]
     },
     "execution_count": 227,
     "metadata": {},
     "output_type": "execute_result"
    }
   ],
   "source": [
    "knreg_ran_mse"
   ]
  },
  {
   "cell_type": "code",
   "execution_count": 228,
   "id": "8c34834c",
   "metadata": {},
   "outputs": [],
   "source": [
    "knreg_ran_mae=mean_absolute_error(ytest, knreg_ran_test_predictions)"
   ]
  },
  {
   "cell_type": "code",
   "execution_count": 229,
   "id": "244f258c",
   "metadata": {},
   "outputs": [
    {
     "data": {
      "text/plain": [
       "8.580660187916761"
      ]
     },
     "execution_count": 229,
     "metadata": {},
     "output_type": "execute_result"
    }
   ],
   "source": [
    "knreg_ran_mae"
   ]
  },
  {
   "cell_type": "code",
   "execution_count": 233,
   "id": "b5125e5b",
   "metadata": {},
   "outputs": [
    {
     "data": {
      "image/png": "[encoded data removed]",
      "text/plain": [
       "<Figure size 432x288 with 1 Axes>"
      ]
     },
     "metadata": {
      "needs_background": "light"
     },
     "output_type": "display_data"
    }
   ],
   "source": [
    "import numpy as np \n",
    "import matplotlib.pyplot as plt \n",
    "  \n",
    "X = [\"ACCURACY\"]\n",
    "KNNR_D = [KND_Score]\n",
    "RAN = [After_Tuning_Score]\n",
    "  \n",
    "X_axis = np.arange(len(X))\n",
    "  \n",
    "plt.bar(X_axis - 0.1, KNNR_D, 0.5, label = 'KNNR')\n",
    "plt.bar(X_axis + 0.3, RAN, 0.3, label = 'RANR')\n",
    "  \n",
    "plt.xticks(X_axis, X)\n",
    "plt.xlabel(\"Value\")\n",
    "plt.ylabel(\"Feature\")\n",
    "plt.title(\"KNN Regressor vs After Tuning\")\n",
    "plt.legend()\n",
    "plt.show()"
   ]
  },
  {
   "cell_type": "code",
   "execution_count": 234,
   "id": "63bf1ea9",
   "metadata": {},
   "outputs": [
    {
     "data": {
      "image/png": "[encoded data removed]",
      "text/plain": [
       "<Figure size 432x288 with 1 Axes>"
      ]
     },
     "metadata": {
      "needs_background": "light"
     },
     "output_type": "display_data"
    }
   ],
   "source": [
    "import numpy as np \n",
    "import matplotlib.pyplot as plt \n",
    "  \n",
    "X = [\"ACCURACY\"]\n",
    "KNNR_D = [KND_Score]\n",
    "RAN = [After_Tuning_Score] \n",
    "LR=[LR_Score]\n",
    "KNNC=[kNNC_Score]\n",
    "X_axis = np.arange(len(X))\n",
    "  \n",
    "plt.bar(X_axis + 0.1, KNNR_D, 0.2, label = 'KNNR')\n",
    "plt.bar(X_axis + 0.2, LR, 0.2, label = 'LR') \n",
    "plt.bar(X_axis + 0.3, RAN, 0.2, label = 'RANR')\n",
    "plt.bar(X_axis + 0.4, KNNC, 0.2, label = 'KNNC')\n",
    "plt.xticks(X_axis, X)\n",
    "plt.xlabel(\"Feature\")\n",
    "plt.ylabel(\"Value\")\n",
    "plt.title(\"KNN Regressor vs Linear Regression vs After Tuning vs KNN Classifier  \")\n",
    "plt.legend()\n",
    "plt.show()"
   ]
  },
  {
   "cell_type": "code",
   "execution_count": null,
   "id": "169ca207",
   "metadata": {},
   "outputs": [],
   "source": []
  }
 ],
 "metadata": {
  "kernelspec": {
   "display_name": "Python 3",
   "language": "python",
   "name": "python3"
  },
  "language_info": {
   "codemirror_mode": {
    "name": "ipython",
    "version": 3
   },
   "file_extension": ".py",
   "mimetype": "text/x-python",
   "name": "python",
   "nbconvert_exporter": "python",
   "pygments_lexer": "ipython3",
   "version": "3.8.8"
  }
 },
 "nbformat": 4,
 "nbformat_minor": 5
}
